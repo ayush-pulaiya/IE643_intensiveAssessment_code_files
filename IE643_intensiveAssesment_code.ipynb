{
  "cells": [
    {
      "cell_type": "code",
      "execution_count": null,
      "metadata": {
        "colab": {
          "base_uri": "https://localhost:8080/"
        },
        "id": "9l3HWH976r07",
        "outputId": "6e06982f-684d-4c18-b377-8431345c8daf"
      },
      "outputs": [
        {
          "output_type": "stream",
          "name": "stdout",
          "text": [
            "Mounted at /content/drive\n"
          ]
        }
      ],
      "source": [
        "from google.colab import drive\n",
        "drive.mount('/content/drive')"
      ]
    },
    {
      "cell_type": "code",
      "source": [
        "!pip install -r /content/drive/MyDrive/lxmert/requirements.txt"
      ],
      "metadata": {
        "colab": {
          "base_uri": "https://localhost:8080/"
        },
        "collapsed": true,
        "id": "Up8LjCTR7MFh",
        "outputId": "5424e7fc-5bff-4afd-8a1f-4a078848d98c"
      },
      "execution_count": null,
      "outputs": [
        {
          "output_type": "stream",
          "name": "stdout",
          "text": [
            "Collecting git+https://github.com/huggingface/transformers.git (from -r /content/drive/MyDrive/lxmert/requirements.txt (line 92))\n",
            "  Cloning https://github.com/huggingface/transformers.git to /tmp/pip-req-build-5i9x1wyz\n",
            "  Running command git clone --filter=blob:none --quiet https://github.com/huggingface/transformers.git /tmp/pip-req-build-5i9x1wyz\n",
            "  Resolved https://github.com/huggingface/transformers.git to commit 33868a057c02f0368ba63bd1edb746be38fe3d90\n",
            "  Installing build dependencies ... \u001b[?25l\u001b[?25hdone\n",
            "  Getting requirements to build wheel ... \u001b[?25l\u001b[?25hdone\n",
            "  Preparing metadata (pyproject.toml) ... \u001b[?25l\u001b[?25hdone\n",
            "Collecting appdirs==1.4.3 (from -r /content/drive/MyDrive/lxmert/requirements.txt (line 1))\n",
            "  Downloading appdirs-1.4.3-py2.py3-none-any.whl.metadata (8.8 kB)\n",
            "Collecting argon2-cffi==20.1.0 (from -r /content/drive/MyDrive/lxmert/requirements.txt (line 2))\n",
            "  Downloading argon2_cffi-20.1.0-cp35-abi3-manylinux1_x86_64.whl.metadata (7.9 kB)\n",
            "Collecting async-generator==1.10 (from -r /content/drive/MyDrive/lxmert/requirements.txt (line 3))\n",
            "  Downloading async_generator-1.10-py3-none-any.whl.metadata (4.9 kB)\n",
            "Collecting attrs==20.2.0 (from -r /content/drive/MyDrive/lxmert/requirements.txt (line 4))\n",
            "  Downloading attrs-20.2.0-py2.py3-none-any.whl.metadata (10 kB)\n",
            "Requirement already satisfied: backcall==0.2.0 in /usr/local/lib/python3.10/dist-packages (from -r /content/drive/MyDrive/lxmert/requirements.txt (line 5)) (0.2.0)\n",
            "Collecting CacheControl==0.12.6 (from -r /content/drive/MyDrive/lxmert/requirements.txt (line 6))\n",
            "  Downloading CacheControl-0.12.6-py2.py3-none-any.whl.metadata (2.2 kB)\n",
            "Collecting certifi==2024.7.4 (from -r /content/drive/MyDrive/lxmert/requirements.txt (line 7))\n",
            "  Downloading certifi-2024.7.4-py3-none-any.whl.metadata (2.2 kB)\n",
            "Collecting cffi==1.14.2 (from -r /content/drive/MyDrive/lxmert/requirements.txt (line 8))\n",
            "  Downloading cffi-1.14.2.tar.gz (470 kB)\n",
            "\u001b[2K     \u001b[90m━━━━━━━━━━━━━━━━━━━━━━━━━━━━━━━━━━━━━━━━\u001b[0m \u001b[32m470.7/470.7 kB\u001b[0m \u001b[31m8.8 MB/s\u001b[0m eta \u001b[36m0:00:00\u001b[0m\n",
            "\u001b[?25h  Preparing metadata (setup.py) ... \u001b[?25l\u001b[?25hdone\n",
            "Collecting chardet==3.0.4 (from -r /content/drive/MyDrive/lxmert/requirements.txt (line 9))\n",
            "  Downloading chardet-3.0.4-py2.py3-none-any.whl.metadata (3.2 kB)\n",
            "Collecting click==7.1.2 (from -r /content/drive/MyDrive/lxmert/requirements.txt (line 10))\n",
            "  Downloading click-7.1.2-py2.py3-none-any.whl.metadata (2.9 kB)\n",
            "Collecting colorama==0.4.3 (from -r /content/drive/MyDrive/lxmert/requirements.txt (line 11))\n",
            "  Downloading colorama-0.4.3-py2.py3-none-any.whl.metadata (14 kB)\n",
            "Collecting contextlib2==0.6.0 (from -r /content/drive/MyDrive/lxmert/requirements.txt (line 12))\n",
            "  Downloading contextlib2-0.6.0-py2.py3-none-any.whl.metadata (2.3 kB)\n",
            "Collecting cycler==0.10.0 (from -r /content/drive/MyDrive/lxmert/requirements.txt (line 13))\n",
            "  Downloading cycler-0.10.0-py2.py3-none-any.whl.metadata (722 bytes)\n",
            "Collecting datasets==1.0.0 (from -r /content/drive/MyDrive/lxmert/requirements.txt (line 14))\n",
            "  Downloading datasets-1.0.0-py3-none-any.whl.metadata (5.7 kB)\n",
            "Requirement already satisfied: decorator==4.4.2 in /usr/local/lib/python3.10/dist-packages (from -r /content/drive/MyDrive/lxmert/requirements.txt (line 15)) (4.4.2)\n",
            "Collecting defusedxml==0.6.0 (from -r /content/drive/MyDrive/lxmert/requirements.txt (line 16))\n",
            "  Downloading defusedxml-0.6.0-py2.py3-none-any.whl.metadata (31 kB)\n",
            "Collecting dill==0.3.2 (from -r /content/drive/MyDrive/lxmert/requirements.txt (line 17))\n",
            "  Downloading dill-0.3.2.zip (177 kB)\n",
            "\u001b[2K     \u001b[90m━━━━━━━━━━━━━━━━━━━━━━━━━━━━━━━━━━━━━━━━\u001b[0m \u001b[32m177.6/177.6 kB\u001b[0m \u001b[31m13.0 MB/s\u001b[0m eta \u001b[36m0:00:00\u001b[0m\n",
            "\u001b[?25h  Preparing metadata (setup.py) ... \u001b[?25l\u001b[?25hdone\n",
            "Collecting distlib==0.3.0 (from -r /content/drive/MyDrive/lxmert/requirements.txt (line 18))\n",
            "  Downloading distlib-0.3.0.zip (571 kB)\n",
            "\u001b[2K     \u001b[90m━━━━━━━━━━━━━━━━━━━━━━━━━━━━━━━━━━━━━━━━\u001b[0m \u001b[32m572.0/572.0 kB\u001b[0m \u001b[31m26.8 MB/s\u001b[0m eta \u001b[36m0:00:00\u001b[0m\n",
            "\u001b[?25h  Preparing metadata (setup.py) ... \u001b[?25l\u001b[?25hdone\n",
            "Collecting distro==1.4.0 (from -r /content/drive/MyDrive/lxmert/requirements.txt (line 19))\n",
            "  Downloading distro-1.4.0-py2.py3-none-any.whl.metadata (6.6 kB)\n",
            "Collecting entrypoints==0.3 (from -r /content/drive/MyDrive/lxmert/requirements.txt (line 20))\n",
            "  Downloading entrypoints-0.3-py2.py3-none-any.whl.metadata (1.4 kB)\n",
            "Collecting filelock==3.0.12 (from -r /content/drive/MyDrive/lxmert/requirements.txt (line 21))\n",
            "  Downloading filelock-3.0.12-py3-none-any.whl.metadata (4.3 kB)\n",
            "Collecting future==0.18.3 (from -r /content/drive/MyDrive/lxmert/requirements.txt (line 22))\n",
            "  Downloading future-0.18.3.tar.gz (840 kB)\n",
            "\u001b[2K     \u001b[90m━━━━━━━━━━━━━━━━━━━━━━━━━━━━━━━━━━━━━━━━\u001b[0m \u001b[32m840.9/840.9 kB\u001b[0m \u001b[31m39.4 MB/s\u001b[0m eta \u001b[36m0:00:00\u001b[0m\n",
            "\u001b[?25h  Preparing metadata (setup.py) ... \u001b[?25l\u001b[?25hdone\n",
            "Collecting html5lib==1.0.1 (from -r /content/drive/MyDrive/lxmert/requirements.txt (line 23))\n",
            "  Downloading html5lib-1.0.1-py2.py3-none-any.whl.metadata (15 kB)\n",
            "Collecting idna==3.7 (from -r /content/drive/MyDrive/lxmert/requirements.txt (line 24))\n",
            "  Downloading idna-3.7-py3-none-any.whl.metadata (9.9 kB)\n",
            "Collecting ipaddr==2.2.0 (from -r /content/drive/MyDrive/lxmert/requirements.txt (line 25))\n",
            "  Downloading ipaddr-2.2.0.tar.gz (26 kB)\n",
            "  Preparing metadata (setup.py) ... \u001b[?25l\u001b[?25hdone\n",
            "Collecting ipykernel==5.3.4 (from -r /content/drive/MyDrive/lxmert/requirements.txt (line 26))\n",
            "  Downloading ipykernel-5.3.4-py3-none-any.whl.metadata (1.0 kB)\n",
            "Requirement already satisfied: ipython in /usr/local/lib/python3.10/dist-packages (from -r /content/drive/MyDrive/lxmert/requirements.txt (line 27)) (7.34.0)\n",
            "Requirement already satisfied: ipython-genutils==0.2.0 in /usr/local/lib/python3.10/dist-packages (from -r /content/drive/MyDrive/lxmert/requirements.txt (line 28)) (0.2.0)\n",
            "Collecting ipywidgets==7.5.1 (from -r /content/drive/MyDrive/lxmert/requirements.txt (line 29))\n",
            "  Downloading ipywidgets-7.5.1-py2.py3-none-any.whl.metadata (1.8 kB)\n",
            "Collecting jedi==0.17.2 (from -r /content/drive/MyDrive/lxmert/requirements.txt (line 30))\n",
            "  Downloading jedi-0.17.2-py2.py3-none-any.whl.metadata (19 kB)\n",
            "Requirement already satisfied: Jinja2>=2.11.3 in /usr/local/lib/python3.10/dist-packages (from -r /content/drive/MyDrive/lxmert/requirements.txt (line 31)) (3.1.4)\n",
            "Collecting joblib==1.2.0 (from -r /content/drive/MyDrive/lxmert/requirements.txt (line 32))\n",
            "  Downloading joblib-1.2.0-py3-none-any.whl.metadata (5.3 kB)\n",
            "Collecting jsonschema==3.2.0 (from -r /content/drive/MyDrive/lxmert/requirements.txt (line 33))\n",
            "  Downloading jsonschema-3.2.0-py2.py3-none-any.whl.metadata (7.8 kB)\n",
            "Collecting jupyter==1.0.0 (from -r /content/drive/MyDrive/lxmert/requirements.txt (line 34))\n",
            "  Downloading jupyter-1.0.0-py2.py3-none-any.whl.metadata (995 bytes)\n",
            "Collecting jupyter-client==6.1.7 (from -r /content/drive/MyDrive/lxmert/requirements.txt (line 35))\n",
            "  Downloading jupyter_client-6.1.7-py3-none-any.whl.metadata (3.9 kB)\n",
            "Collecting jupyter-console==6.2.0 (from -r /content/drive/MyDrive/lxmert/requirements.txt (line 36))\n",
            "  Downloading jupyter_console-6.2.0-py3-none-any.whl.metadata (951 bytes)\n",
            "Collecting jupyter-core==4.11.2 (from -r /content/drive/MyDrive/lxmert/requirements.txt (line 37))\n",
            "  Downloading jupyter_core-4.11.2-py3-none-any.whl.metadata (4.7 kB)\n",
            "Collecting jupyterlab-pygments==0.1.1 (from -r /content/drive/MyDrive/lxmert/requirements.txt (line 38))\n",
            "  Downloading jupyterlab_pygments-0.1.1-py2.py3-none-any.whl.metadata (333 bytes)\n",
            "Collecting kiwisolver==1.2.0 (from -r /content/drive/MyDrive/lxmert/requirements.txt (line 39))\n",
            "  Downloading kiwisolver-1.2.0.tar.gz (52 kB)\n",
            "\u001b[2K     \u001b[90m━━━━━━━━━━━━━━━━━━━━━━━━━━━━━━━━━━━━━━━━\u001b[0m \u001b[32m52.1/52.1 kB\u001b[0m \u001b[31m3.6 MB/s\u001b[0m eta \u001b[36m0:00:00\u001b[0m\n",
            "\u001b[?25h  Preparing metadata (setup.py) ... \u001b[?25l\u001b[?25hdone\n",
            "Collecting lockfile==0.12.2 (from -r /content/drive/MyDrive/lxmert/requirements.txt (line 40))\n",
            "  Downloading lockfile-0.12.2-py2.py3-none-any.whl.metadata (2.4 kB)\n",
            "Collecting MarkupSafe==1.1.1 (from -r /content/drive/MyDrive/lxmert/requirements.txt (line 41))\n",
            "  Downloading MarkupSafe-1.1.1.tar.gz (19 kB)\n",
            "  Preparing metadata (setup.py) ... \u001b[?25l\u001b[?25hdone\n",
            "Collecting matplotlib==3.3.1 (from -r /content/drive/MyDrive/lxmert/requirements.txt (line 42))\n",
            "  Downloading matplotlib-3.3.1.tar.gz (38.8 MB)\n",
            "\u001b[2K     \u001b[90m━━━━━━━━━━━━━━━━━━━━━━━━━━━━━━━━━━━━━━━━\u001b[0m \u001b[32m38.8/38.8 MB\u001b[0m \u001b[31m20.6 MB/s\u001b[0m eta \u001b[36m0:00:00\u001b[0m\n",
            "\u001b[?25h  Preparing metadata (setup.py) ... \u001b[?25l\u001b[?25hdone\n",
            "Collecting mistune==2.0.3 (from -r /content/drive/MyDrive/lxmert/requirements.txt (line 43))\n",
            "  Downloading mistune-2.0.3-py2.py3-none-any.whl.metadata (1.5 kB)\n",
            "Collecting msgpack==0.6.2 (from -r /content/drive/MyDrive/lxmert/requirements.txt (line 44))\n",
            "  Downloading msgpack-0.6.2.tar.gz (119 kB)\n",
            "\u001b[2K     \u001b[90m━━━━━━━━━━━━━━━━━━━━━━━━━━━━━━━━━━━━━━━━\u001b[0m \u001b[32m119.1/119.1 kB\u001b[0m \u001b[31m9.5 MB/s\u001b[0m eta \u001b[36m0:00:00\u001b[0m\n",
            "\u001b[?25h  Preparing metadata (setup.py) ... \u001b[?25l\u001b[?25hdone\n",
            "Collecting nbclient==0.5.0 (from -r /content/drive/MyDrive/lxmert/requirements.txt (line 45))\n",
            "  Downloading nbclient-0.5.0-py3-none-any.whl.metadata (5.3 kB)\n",
            "Collecting nbconvert==6.5.1 (from -r /content/drive/MyDrive/lxmert/requirements.txt (line 46))\n",
            "  Downloading nbconvert-6.5.1-py3-none-any.whl.metadata (6.0 kB)\n",
            "Collecting nbformat==5.0.7 (from -r /content/drive/MyDrive/lxmert/requirements.txt (line 47))\n",
            "  Downloading nbformat-5.0.7-py3-none-any.whl.metadata (1.2 kB)\n",
            "Collecting nest-asyncio==1.4.0 (from -r /content/drive/MyDrive/lxmert/requirements.txt (line 48))\n",
            "  Downloading nest_asyncio-1.4.0-py3-none-any.whl.metadata (2.5 kB)\n",
            "Collecting notebook==6.4.12 (from -r /content/drive/MyDrive/lxmert/requirements.txt (line 49))\n",
            "  Downloading notebook-6.4.12-py3-none-any.whl.metadata (2.5 kB)\n",
            "Collecting numpy==1.22.0 (from -r /content/drive/MyDrive/lxmert/requirements.txt (line 50))\n",
            "  Downloading numpy-1.22.0-cp310-cp310-manylinux_2_17_x86_64.manylinux2014_x86_64.whl.metadata (2.0 kB)\n",
            "Collecting opencv-python==4.8.1.78 (from -r /content/drive/MyDrive/lxmert/requirements.txt (line 51))\n",
            "  Downloading opencv_python-4.8.1.78-cp37-abi3-manylinux_2_17_x86_64.manylinux2014_x86_64.whl.metadata (19 kB)\n",
            "Collecting packaging==20.3 (from -r /content/drive/MyDrive/lxmert/requirements.txt (line 52))\n",
            "  Downloading packaging-20.3-py2.py3-none-any.whl.metadata (10 kB)\n",
            "Collecting pandas==2.1.2 (from -r /content/drive/MyDrive/lxmert/requirements.txt (line 53))\n",
            "  Downloading pandas-2.1.2-cp310-cp310-manylinux_2_17_x86_64.manylinux2014_x86_64.whl.metadata (18 kB)\n",
            "Collecting pandocfilters==1.4.2 (from -r /content/drive/MyDrive/lxmert/requirements.txt (line 54))\n",
            "  Downloading pandocfilters-1.4.2.tar.gz (14 kB)\n",
            "  Preparing metadata (setup.py) ... \u001b[?25l\u001b[?25hdone\n",
            "Collecting parso==0.7.1 (from -r /content/drive/MyDrive/lxmert/requirements.txt (line 55))\n",
            "  Downloading parso-0.7.1-py2.py3-none-any.whl.metadata (7.0 kB)\n",
            "Collecting pep517==0.8.2 (from -r /content/drive/MyDrive/lxmert/requirements.txt (line 56))\n",
            "  Downloading pep517-0.8.2-py2.py3-none-any.whl.metadata (3.1 kB)\n",
            "Collecting pexpect==4.8.0 (from -r /content/drive/MyDrive/lxmert/requirements.txt (line 57))\n",
            "  Downloading pexpect-4.8.0-py2.py3-none-any.whl.metadata (2.2 kB)\n",
            "Requirement already satisfied: pickleshare==0.7.5 in /usr/local/lib/python3.10/dist-packages (from -r /content/drive/MyDrive/lxmert/requirements.txt (line 58)) (0.7.5)\n",
            "Requirement already satisfied: Pillow>=8.1.1 in /usr/local/lib/python3.10/dist-packages (from -r /content/drive/MyDrive/lxmert/requirements.txt (line 59)) (10.4.0)\n",
            "Collecting progress==1.5 (from -r /content/drive/MyDrive/lxmert/requirements.txt (line 60))\n",
            "  Downloading progress-1.5.tar.gz (5.8 kB)\n",
            "  Preparing metadata (setup.py) ... \u001b[?25l\u001b[?25hdone\n",
            "Collecting prometheus-client==0.8.0 (from -r /content/drive/MyDrive/lxmert/requirements.txt (line 61))\n",
            "  Downloading prometheus_client-0.8.0-py2.py3-none-any.whl.metadata (18 kB)\n",
            "Collecting prompt-toolkit==3.0.7 (from -r /content/drive/MyDrive/lxmert/requirements.txt (line 62))\n",
            "  Downloading prompt_toolkit-3.0.7-py3-none-any.whl.metadata (6.9 kB)\n",
            "Collecting ptyprocess==0.6.0 (from -r /content/drive/MyDrive/lxmert/requirements.txt (line 63))\n",
            "  Downloading ptyprocess-0.6.0-py2.py3-none-any.whl.metadata (1.3 kB)\n",
            "Collecting pyaml==20.4.0 (from -r /content/drive/MyDrive/lxmert/requirements.txt (line 64))\n",
            "  Downloading pyaml-20.4.0-py2.py3-none-any.whl.metadata (10 kB)\n",
            "Collecting pyarrow==15.0.0 (from -r /content/drive/MyDrive/lxmert/requirements.txt (line 65))\n",
            "  Downloading pyarrow-15.0.0-cp310-cp310-manylinux_2_28_x86_64.whl.metadata (3.0 kB)\n",
            "Collecting pycparser==2.20 (from -r /content/drive/MyDrive/lxmert/requirements.txt (line 66))\n",
            "  Downloading pycparser-2.20-py2.py3-none-any.whl.metadata (907 bytes)\n",
            "Requirement already satisfied: Pygments>=2.7.4 in /usr/local/lib/python3.10/dist-packages (from -r /content/drive/MyDrive/lxmert/requirements.txt (line 67)) (2.18.0)\n",
            "Collecting pyparsing==2.4.6 (from -r /content/drive/MyDrive/lxmert/requirements.txt (line 68))\n",
            "  Downloading pyparsing-2.4.6-py2.py3-none-any.whl.metadata (3.6 kB)\n",
            "Collecting pyrsistent==0.16.0 (from -r /content/drive/MyDrive/lxmert/requirements.txt (line 69))\n",
            "  Downloading pyrsistent-0.16.0.tar.gz (108 kB)\n",
            "\u001b[2K     \u001b[90m━━━━━━━━━━━━━━━━━━━━━━━━━━━━━━━━━━━━━━━━\u001b[0m \u001b[32m108.0/108.0 kB\u001b[0m \u001b[31m8.6 MB/s\u001b[0m eta \u001b[36m0:00:00\u001b[0m\n",
            "\u001b[?25h  Preparing metadata (setup.py) ... \u001b[?25l\u001b[?25hdone\n",
            "Collecting python-dateutil==2.8.1 (from -r /content/drive/MyDrive/lxmert/requirements.txt (line 70))\n",
            "  Downloading python_dateutil-2.8.1-py2.py3-none-any.whl.metadata (8.0 kB)\n",
            "Collecting pytoml==0.1.21 (from -r /content/drive/MyDrive/lxmert/requirements.txt (line 71))\n",
            "  Downloading pytoml-0.1.21-py2.py3-none-any.whl.metadata (2.0 kB)\n",
            "Collecting pytz==2020.1 (from -r /content/drive/MyDrive/lxmert/requirements.txt (line 72))\n",
            "  Downloading pytz-2020.1-py2.py3-none-any.whl.metadata (21 kB)\n",
            "Requirement already satisfied: PyYAML>=5.4 in /usr/local/lib/python3.10/dist-packages (from -r /content/drive/MyDrive/lxmert/requirements.txt (line 73)) (6.0.2)\n",
            "Collecting pyzmq==19.0.2 (from -r /content/drive/MyDrive/lxmert/requirements.txt (line 74))\n",
            "  Downloading pyzmq-19.0.2.tar.gz (1.2 MB)\n",
            "\u001b[2K     \u001b[90m━━━━━━━━━━━━━━━━━━━━━━━━━━━━━━━━━━━━━━━━\u001b[0m \u001b[32m1.2/1.2 MB\u001b[0m \u001b[31m37.9 MB/s\u001b[0m eta \u001b[36m0:00:00\u001b[0m\n",
            "\u001b[?25h  Preparing metadata (setup.py) ... \u001b[?25l\u001b[?25hdone\n",
            "Collecting qtconsole==4.7.7 (from -r /content/drive/MyDrive/lxmert/requirements.txt (line 75))\n",
            "  Downloading qtconsole-4.7.7-py2.py3-none-any.whl.metadata (4.8 kB)\n",
            "Collecting QtPy==1.9.0 (from -r /content/drive/MyDrive/lxmert/requirements.txt (line 76))\n",
            "  Downloading QtPy-1.9.0-py2.py3-none-any.whl.metadata (4.1 kB)\n",
            "Collecting regex==2020.7.14 (from -r /content/drive/MyDrive/lxmert/requirements.txt (line 77))\n",
            "  Downloading regex-2020.7.14.tar.gz (690 kB)\n",
            "\u001b[2K     \u001b[90m━━━━━━━━━━━━━━━━━━━━━━━━━━━━━━━━━━━━━━━━\u001b[0m \u001b[32m690.1/690.1 kB\u001b[0m \u001b[31m23.8 MB/s\u001b[0m eta \u001b[36m0:00:00\u001b[0m\n",
            "\u001b[?25h  Preparing metadata (setup.py) ... \u001b[?25l\u001b[?25hdone\n",
            "Collecting requests==2.32.2 (from -r /content/drive/MyDrive/lxmert/requirements.txt (line 78))\n",
            "  Downloading requests-2.32.2-py3-none-any.whl.metadata (4.6 kB)\n",
            "Collecting retrying==1.3.3 (from -r /content/drive/MyDrive/lxmert/requirements.txt (line 79))\n",
            "  Downloading retrying-1.3.3.tar.gz (10 kB)\n",
            "  Preparing metadata (setup.py) ... \u001b[?25l\u001b[?25hdone\n",
            "Collecting sacremoses==0.0.43 (from -r /content/drive/MyDrive/lxmert/requirements.txt (line 80))\n",
            "  Downloading sacremoses-0.0.43.tar.gz (883 kB)\n",
            "\u001b[2K     \u001b[90m━━━━━━━━━━━━━━━━━━━━━━━━━━━━━━━━━━━━━━━━\u001b[0m \u001b[32m883.8/883.8 kB\u001b[0m \u001b[31m44.7 MB/s\u001b[0m eta \u001b[36m0:00:00\u001b[0m\n",
            "\u001b[?25h  Preparing metadata (setup.py) ... \u001b[?25l\u001b[?25hdone\n",
            "Collecting Send2Trash==1.5.0 (from -r /content/drive/MyDrive/lxmert/requirements.txt (line 81))\n",
            "  Downloading Send2Trash-1.5.0-py3-none-any.whl.metadata (4.2 kB)\n",
            "Collecting sentencepiece==0.1.96 (from -r /content/drive/MyDrive/lxmert/requirements.txt (line 82))\n",
            "  Downloading sentencepiece-0.1.96-cp310-cp310-manylinux_2_17_x86_64.manylinux2014_x86_64.whl.metadata (10 kB)\n",
            "Collecting six==1.14.0 (from -r /content/drive/MyDrive/lxmert/requirements.txt (line 83))\n",
            "  Downloading six-1.14.0-py2.py3-none-any.whl.metadata (1.8 kB)\n",
            "Collecting terminado==0.8.3 (from -r /content/drive/MyDrive/lxmert/requirements.txt (line 84))\n",
            "  Downloading terminado-0.8.3-py2.py3-none-any.whl.metadata (3.5 kB)\n",
            "Collecting testpath==0.4.4 (from -r /content/drive/MyDrive/lxmert/requirements.txt (line 85))\n",
            "  Downloading testpath-0.4.4-py2.py3-none-any.whl.metadata (1.2 kB)\n",
            "Collecting tokenizers==0.8.1rc2 (from -r /content/drive/MyDrive/lxmert/requirements.txt (line 86))\n",
            "  Downloading tokenizers-0.8.1rc2.tar.gz (97 kB)\n",
            "\u001b[2K     \u001b[90m━━━━━━━━━━━━━━━━━━━━━━━━━━━━━━━━━━━━━━━━\u001b[0m \u001b[32m97.4/97.4 kB\u001b[0m \u001b[31m5.3 MB/s\u001b[0m eta \u001b[36m0:00:00\u001b[0m\n",
            "\u001b[?25h  Installing build dependencies ... \u001b[?25l\u001b[?25hdone\n",
            "  Getting requirements to build wheel ... \u001b[?25l\u001b[?25hdone\n",
            "  Preparing metadata (pyproject.toml) ... \u001b[?25l\u001b[?25hdone\n",
            "Collecting torch==2.2.0 (from -r /content/drive/MyDrive/lxmert/requirements.txt (line 87))\n",
            "  Downloading torch-2.2.0-cp310-cp310-manylinux1_x86_64.whl.metadata (25 kB)\n",
            "Collecting torchvision==0.15.2 (from -r /content/drive/MyDrive/lxmert/requirements.txt (line 88))\n",
            "  Downloading torchvision-0.15.2-cp310-cp310-manylinux1_x86_64.whl.metadata (11 kB)\n",
            "Collecting tornado==6.4.1 (from -r /content/drive/MyDrive/lxmert/requirements.txt (line 89))\n",
            "  Downloading tornado-6.4.1-cp38-abi3-manylinux_2_5_x86_64.manylinux1_x86_64.manylinux_2_17_x86_64.manylinux2014_x86_64.whl.metadata (2.5 kB)\n",
            "Collecting tqdm==4.66.3 (from -r /content/drive/MyDrive/lxmert/requirements.txt (line 90))\n",
            "  Downloading tqdm-4.66.3-py3-none-any.whl.metadata (57 kB)\n",
            "\u001b[2K     \u001b[90m━━━━━━━━━━━━━━━━━━━━━━━━━━━━━━━━━━━━━━━━\u001b[0m \u001b[32m57.6/57.6 kB\u001b[0m \u001b[31m3.7 MB/s\u001b[0m eta \u001b[36m0:00:00\u001b[0m\n",
            "\u001b[?25hRequirement already satisfied: traitlets in /usr/local/lib/python3.10/dist-packages (from -r /content/drive/MyDrive/lxmert/requirements.txt (line 91)) (5.7.1)\n",
            "Collecting urllib3==1.26.19 (from -r /content/drive/MyDrive/lxmert/requirements.txt (line 93))\n",
            "  Downloading urllib3-1.26.19-py2.py3-none-any.whl.metadata (49 kB)\n",
            "\u001b[2K     \u001b[90m━━━━━━━━━━━━━━━━━━━━━━━━━━━━━━━━━━━━━━━━\u001b[0m \u001b[32m49.3/49.3 kB\u001b[0m \u001b[31m3.6 MB/s\u001b[0m eta \u001b[36m0:00:00\u001b[0m\n",
            "\u001b[?25hCollecting wcwidth==0.2.5 (from -r /content/drive/MyDrive/lxmert/requirements.txt (line 94))\n",
            "  Downloading wcwidth-0.2.5-py2.py3-none-any.whl.metadata (11 kB)\n",
            "Requirement already satisfied: webencodings==0.5.1 in /usr/local/lib/python3.10/dist-packages (from -r /content/drive/MyDrive/lxmert/requirements.txt (line 95)) (0.5.1)\n",
            "Collecting wget==3.2 (from -r /content/drive/MyDrive/lxmert/requirements.txt (line 96))\n",
            "  Downloading wget-3.2.zip (10 kB)\n",
            "  Preparing metadata (setup.py) ... \u001b[?25l\u001b[?25hdone\n",
            "Collecting widgetsnbextension==3.5.1 (from -r /content/drive/MyDrive/lxmert/requirements.txt (line 97))\n",
            "  Downloading widgetsnbextension-3.5.1-py2.py3-none-any.whl.metadata (1.3 kB)\n",
            "Collecting xxhash==2.0.0 (from -r /content/drive/MyDrive/lxmert/requirements.txt (line 98))\n",
            "  Downloading xxhash-2.0.0.tar.gz (64 kB)\n",
            "\u001b[2K     \u001b[90m━━━━━━━━━━━━━━━━━━━━━━━━━━━━━━━━━━━━━━━━\u001b[0m \u001b[32m64.1/64.1 kB\u001b[0m \u001b[31m4.6 MB/s\u001b[0m eta \u001b[36m0:00:00\u001b[0m\n",
            "\u001b[?25h  Preparing metadata (setup.py) ... \u001b[?25l\u001b[?25hdone\n",
            "Requirement already satisfied: setuptools in /usr/local/lib/python3.10/dist-packages (from jsonschema==3.2.0->-r /content/drive/MyDrive/lxmert/requirements.txt (line 33)) (75.1.0)\n",
            "Requirement already satisfied: lxml in /usr/local/lib/python3.10/dist-packages (from nbconvert==6.5.1->-r /content/drive/MyDrive/lxmert/requirements.txt (line 46)) (5.3.0)\n",
            "Requirement already satisfied: beautifulsoup4 in /usr/local/lib/python3.10/dist-packages (from nbconvert==6.5.1->-r /content/drive/MyDrive/lxmert/requirements.txt (line 46)) (4.12.3)\n",
            "Requirement already satisfied: bleach in /usr/local/lib/python3.10/dist-packages (from nbconvert==6.5.1->-r /content/drive/MyDrive/lxmert/requirements.txt (line 46)) (6.2.0)\n",
            "INFO: pip is looking at multiple versions of nbconvert to determine which version is compatible with other requirements. This could take a while.\n",
            "\u001b[31mERROR: Cannot install -r /content/drive/MyDrive/lxmert/requirements.txt (line 46) and MarkupSafe==1.1.1 because these package versions have conflicting dependencies.\u001b[0m\u001b[31m\n",
            "\u001b[0m\n",
            "The conflict is caused by:\n",
            "    The user requested MarkupSafe==1.1.1\n",
            "    nbconvert 6.5.1 depends on MarkupSafe>=2.0\n",
            "\n",
            "To fix this you could try to:\n",
            "1. loosen the range of package versions you've specified\n",
            "2. remove package versions to allow pip to attempt to solve the dependency conflict\n",
            "\n",
            "\u001b[31mERROR: ResolutionImpossible: for help visit https://pip.pypa.io/en/latest/topics/dependency-resolution/#dealing-with-dependency-conflicts\u001b[0m\u001b[31m\n",
            "\u001b[0m"
          ]
        }
      ]
    },
    {
      "cell_type": "code",
      "source": [
        "!pip install -q wget fiftyone"
      ],
      "metadata": {
        "collapsed": true,
        "id": "t2rcsVee6yKA",
        "colab": {
          "base_uri": "https://localhost:8080/"
        },
        "outputId": "8572feaf-ad2c-4cfe-8cf5-f0be5e8791b2"
      },
      "execution_count": null,
      "outputs": [
        {
          "output_type": "stream",
          "name": "stdout",
          "text": [
            "  Preparing metadata (setup.py) ... \u001b[?25l\u001b[?25hdone\n",
            "  Installing build dependencies ... \u001b[?25l\u001b[?25hdone\n",
            "  Getting requirements to build wheel ... \u001b[?25l\u001b[?25hdone\n",
            "  Preparing metadata (pyproject.toml) ... \u001b[?25l\u001b[?25hdone\n",
            "\u001b[2K   \u001b[90m━━━━━━━━━━━━━━━━━━━━━━━━━━━━━━━━━━━━━━━━\u001b[0m \u001b[32m10.4/10.4 MB\u001b[0m \u001b[31m35.9 MB/s\u001b[0m eta \u001b[36m0:00:00\u001b[0m\n",
            "\u001b[2K   \u001b[90m━━━━━━━━━━━━━━━━━━━━━━━━━━━━━━━━━━━━━━━━\u001b[0m \u001b[32m108.9/108.9 kB\u001b[0m \u001b[31m5.4 MB/s\u001b[0m eta \u001b[36m0:00:00\u001b[0m\n",
            "\u001b[2K   \u001b[90m━━━━━━━━━━━━━━━━━━━━━━━━━━━━━━━━━━━━━━━━\u001b[0m \u001b[32m98.1/98.1 kB\u001b[0m \u001b[31m6.1 MB/s\u001b[0m eta \u001b[36m0:00:00\u001b[0m\n",
            "\u001b[2K   \u001b[90m━━━━━━━━━━━━━━━━━━━━━━━━━━━━━━━━━━━━━━━━\u001b[0m \u001b[32m61.7/61.7 kB\u001b[0m \u001b[31m4.0 MB/s\u001b[0m eta \u001b[36m0:00:00\u001b[0m\n",
            "\u001b[2K   \u001b[90m━━━━━━━━━━━━━━━━━━━━━━━━━━━━━━━━━━━━━━━━\u001b[0m \u001b[32m79.9/79.9 MB\u001b[0m \u001b[31m8.0 MB/s\u001b[0m eta \u001b[36m0:00:00\u001b[0m\n",
            "\u001b[2K   \u001b[90m━━━━━━━━━━━━━━━━━━━━━━━━━━━━━━━━━━━━━━━━\u001b[0m \u001b[32m74.7/74.7 kB\u001b[0m \u001b[31m4.9 MB/s\u001b[0m eta \u001b[36m0:00:00\u001b[0m\n",
            "\u001b[2K   \u001b[90m━━━━━━━━━━━━━━━━━━━━━━━━━━━━━━━━━━━━━━━━\u001b[0m \u001b[32m1.2/1.2 MB\u001b[0m \u001b[31m47.1 MB/s\u001b[0m eta \u001b[36m0:00:00\u001b[0m\n",
            "\u001b[2K   \u001b[90m━━━━━━━━━━━━━━━━━━━━━━━━━━━━━━━━━━━━━━━━\u001b[0m \u001b[32m73.3/73.3 kB\u001b[0m \u001b[31m5.9 MB/s\u001b[0m eta \u001b[36m0:00:00\u001b[0m\n",
            "\u001b[2K   \u001b[90m━━━━━━━━━━━━━━━━━━━━━━━━━━━━━━━━━━━━━━━━\u001b[0m \u001b[32m943.1/943.1 kB\u001b[0m \u001b[31m46.8 MB/s\u001b[0m eta \u001b[36m0:00:00\u001b[0m\n",
            "\u001b[2K   \u001b[90m━━━━━━━━━━━━━━━━━━━━━━━━━━━━━━━━━━━━━━━━\u001b[0m \u001b[32m43.5/43.5 kB\u001b[0m \u001b[31m2.9 MB/s\u001b[0m eta \u001b[36m0:00:00\u001b[0m\n",
            "\u001b[2K   \u001b[90m━━━━━━━━━━━━━━━━━━━━━━━━━━━━━━━━━━━━━━━━\u001b[0m \u001b[32m139.2/139.2 kB\u001b[0m \u001b[31m9.4 MB/s\u001b[0m eta \u001b[36m0:00:00\u001b[0m\n",
            "\u001b[2K   \u001b[90m━━━━━━━━━━━━━━━━━━━━━━━━━━━━━━━━━━━━━━━━\u001b[0m \u001b[32m44.8/44.8 kB\u001b[0m \u001b[31m3.0 MB/s\u001b[0m eta \u001b[36m0:00:00\u001b[0m\n",
            "\u001b[2K   \u001b[90m━━━━━━━━━━━━━━━━━━━━━━━━━━━━━━━━━━━━━━━━\u001b[0m \u001b[32m101.9/101.9 kB\u001b[0m \u001b[31m7.0 MB/s\u001b[0m eta \u001b[36m0:00:00\u001b[0m\n",
            "\u001b[2K   \u001b[90m━━━━━━━━━━━━━━━━━━━━━━━━━━━━━━━━━━━━━━━━\u001b[0m \u001b[32m297.1/297.1 kB\u001b[0m \u001b[31m18.6 MB/s\u001b[0m eta \u001b[36m0:00:00\u001b[0m\n",
            "\u001b[2K   \u001b[90m━━━━━━━━━━━━━━━━━━━━━━━━━━━━━━━━━━━━━━━━\u001b[0m \u001b[32m12.7/12.7 MB\u001b[0m \u001b[31m91.8 MB/s\u001b[0m eta \u001b[36m0:00:00\u001b[0m\n",
            "\u001b[2K   \u001b[90m━━━━━━━━━━━━━━━━━━━━━━━━━━━━━━━━━━━━━━━━\u001b[0m \u001b[32m313.6/313.6 kB\u001b[0m \u001b[31m19.7 MB/s\u001b[0m eta \u001b[36m0:00:00\u001b[0m\n",
            "\u001b[2K   \u001b[90m━━━━━━━━━━━━━━━━━━━━━━━━━━━━━━━━━━━━━━━━\u001b[0m \u001b[32m203.2/203.2 kB\u001b[0m \u001b[31m15.5 MB/s\u001b[0m eta \u001b[36m0:00:00\u001b[0m\n",
            "\u001b[2K   \u001b[90m━━━━━━━━━━━━━━━━━━━━━━━━━━━━━━━━━━━━━━━━\u001b[0m \u001b[32m57.5/57.5 kB\u001b[0m \u001b[31m4.3 MB/s\u001b[0m eta \u001b[36m0:00:00\u001b[0m\n",
            "\u001b[2K   \u001b[90m━━━━━━━━━━━━━━━━━━━━━━━━━━━━━━━━━━━━━━━━\u001b[0m \u001b[32m82.6/82.6 kB\u001b[0m \u001b[31m5.5 MB/s\u001b[0m eta \u001b[36m0:00:00\u001b[0m\n",
            "\u001b[2K   \u001b[90m━━━━━━━━━━━━━━━━━━━━━━━━━━━━━━━━━━━━━━━━\u001b[0m \u001b[32m119.4/119.4 kB\u001b[0m \u001b[31m8.5 MB/s\u001b[0m eta \u001b[36m0:00:00\u001b[0m\n",
            "\u001b[2K   \u001b[90m━━━━━━━━━━━━━━━━━━━━━━━━━━━━━━━━━━━━━━━━\u001b[0m \u001b[32m67.9/67.9 kB\u001b[0m \u001b[31m4.2 MB/s\u001b[0m eta \u001b[36m0:00:00\u001b[0m\n",
            "\u001b[2K   \u001b[90m━━━━━━━━━━━━━━━━━━━━━━━━━━━━━━━━━━━━━━━━\u001b[0m \u001b[32m3.0/3.0 MB\u001b[0m \u001b[31m74.7 MB/s\u001b[0m eta \u001b[36m0:00:00\u001b[0m\n",
            "\u001b[2K   \u001b[90m━━━━━━━━━━━━━━━━━━━━━━━━━━━━━━━━━━━━━━━━\u001b[0m \u001b[32m93.1/93.1 kB\u001b[0m \u001b[31m7.2 MB/s\u001b[0m eta \u001b[36m0:00:00\u001b[0m\n",
            "\u001b[2K   \u001b[90m━━━━━━━━━━━━━━━━━━━━━━━━━━━━━━━━━━━━━━━━\u001b[0m \u001b[32m49.7/49.7 kB\u001b[0m \u001b[31m3.3 MB/s\u001b[0m eta \u001b[36m0:00:00\u001b[0m\n",
            "\u001b[2K   \u001b[90m━━━━━━━━━━━━━━━━━━━━━━━━━━━━━━━━━━━━━━━━\u001b[0m \u001b[32m2.3/2.3 MB\u001b[0m \u001b[31m69.9 MB/s\u001b[0m eta \u001b[36m0:00:00\u001b[0m\n",
            "\u001b[2K   \u001b[90m━━━━━━━━━━━━━━━━━━━━━━━━━━━━━━━━━━━━━━━━\u001b[0m \u001b[32m138.9/138.9 kB\u001b[0m \u001b[31m8.5 MB/s\u001b[0m eta \u001b[36m0:00:00\u001b[0m\n",
            "\u001b[2K   \u001b[90m━━━━━━━━━━━━━━━━━━━━━━━━━━━━━━━━━━━━━━━━\u001b[0m \u001b[32m413.7/413.7 kB\u001b[0m \u001b[31m25.4 MB/s\u001b[0m eta \u001b[36m0:00:00\u001b[0m\n",
            "\u001b[?25h  Building wheel for wget (setup.py) ... \u001b[?25l\u001b[?25hdone\n",
            "  Building wheel for fiftyone-db (pyproject.toml) ... \u001b[?25l\u001b[?25hdone\n"
          ]
        }
      ]
    },
    {
      "cell_type": "code",
      "source": [
        "import sys\n",
        "sys.path.append('/content/drive/MyDrive/lxmert')"
      ],
      "metadata": {
        "id": "hrndr_i_602D"
      },
      "execution_count": null,
      "outputs": []
    },
    {
      "cell_type": "code",
      "execution_count": null,
      "metadata": {
        "colab": {
          "base_uri": "https://localhost:8080/",
          "height": 789,
          "referenced_widgets": [
            "1b90c9443776449d9245c960f0df5f86",
            "3566842e4a7541f5bf5379ef7e190f72",
            "01d405b5d74649a795bfc297d45d3cea",
            "0bf96637f42543f2bbaf0c877d3b3d34",
            "a86685fd55ba442a91856ceab3f8e3ca",
            "427f07aa45224e96a84173c50c10a048",
            "5b81d5a69f664d438e439b46a16fff18",
            "cd328512c18046d78484f2823f1e5cf4",
            "dc190d07b5c743cc9b2d3912a7da5ddc",
            "6ac9ecaa2db64757943f42493c66efe7",
            "b24ba04f5d524b1a95124b8b554ae455",
            "fa6806e5d37e4e3c8bdc13440e339d0f",
            "2bdf1f22ec9c4b8da4ccf6edc1d6caf7",
            "814e88244a1546f5a0d0accdce93f692",
            "8d64a15b8712483fbf6adcb0aeb3679d",
            "04d4c5e9108046d49b26b8c9b11cff86",
            "efe715bf75f0426dbbde7ab7e60223f0",
            "07ae30135483448aa41c29a888c53b43",
            "56832fabd4934db7903b9348bf68cbe1",
            "d13ecd679e2946588ed810273a5967df",
            "a032f094bf68424b94fcd5917925d6f4",
            "3178e073513543a198a101c5db8fd88c",
            "770b58bbcbee46059896d054b1eab365",
            "bf9d093977e141c8aa5730baf1c444b5",
            "6329f76b4f7a4dbcb79616f7463ac975",
            "12ff62e89f1447018994f83da1e83c73",
            "2c53998ee2cf44568e4856b884b9ba08",
            "1dace90370064b1abc3bd303dc8df59f",
            "f295dbd995f54d66998183b262484a88",
            "1cd25b678f27471b8376022a6ed57310",
            "ef11174a392a45c3abd45074ebd1ce62",
            "351688e1f18e4752a7817a5cf83ec0a2",
            "8390ebb4a7df41b18d60c0672f2a0a46",
            "772772d1d8e74d87a767a18f082d7272",
            "14852c6cbfb9468199402950c662c1f3",
            "26074fe1f258421b894814f6f96cc46a",
            "eeff48636e5f402e9066cb4329affc76",
            "9ab8149ed0bb48fab5e4b489eb01d23f",
            "048c21f8e2a54490a4d8f52ce0e44504",
            "8d2fc86d999342ddbc32fb3d98ef906b",
            "a390eb6490684853bfd9652bda2cfbbf",
            "6604923315c346709beb20cf95f4a33c",
            "69dcfe6609b847d69d5521feaafd1266",
            "52c95c4591e041f489282956ca44788a",
            "3b39853e711c42cc972d1882b82c1fe2",
            "a8ec7ab9765e4a94b985cbd392e45cf5",
            "2732be561fcd418a8763b771aa6b327d",
            "05a9b8940d9840e38a9036da9d55d2eb",
            "2474b34c8879400396996c259f633571",
            "eb485b07cd83424090b61265da10db91",
            "ec44ecdfbfb74d4cab91010c14ff8f3d",
            "c8b4a22ef4f749cbbaa084cf2a06593f",
            "165e865db6994441981fda3eedd47765",
            "426372ca2b404320ade394a508e0838b",
            "98b0b9fedd0e4e89bc323916a26740fe",
            "44bedc8bba8945b0bd23c7fe26873b4c",
            "fc91c87eeead46c7b239143c6ba31a9d",
            "c11b6a8b3dc64ec2b661b856ca829a60",
            "c61a6c1953684a8ebf8185e0a780dd37",
            "905455fb5d564b828eb2ae6aafe34d3d",
            "794418714ac54edbb41c8675549228c5",
            "1271a499841941ebbd288e479a359dea",
            "b21111b6a53647e7bd62c3a2d40a8060",
            "ed4980d6c483405e80bc5c6778955a96",
            "9d6b9370677c450cbbfde6f858347fdc",
            "13ed03c8a23c435aa6bb724687671ab6",
            "dc7d2576797e4b039382fee0b475a9eb",
            "b14bf073a6204834933c31e90a6600bd",
            "9cf243bfdb4e4897806395026571babc",
            "f78b70254159460c9fa60fcb96f71112",
            "ca09ef5698b44b32847d4ba0d3b69e91",
            "6df4e421d9ec425f97598bf06aebb662",
            "173d18614da34845987a9c3f7ed303a5",
            "293028b14a344bd6acf0151315476fe4",
            "b99a7b4e8da14a229004ab23c6033f9a",
            "1df5d586ae924f03993cb9094118945c",
            "fc4d444dc3de4ba18c6d66c6c2d4c4de",
            "7e79b6016896409eba7daa505cc30c19",
            "8a46276eb1be46a5bec9e47d81574f21",
            "62e789462acc4422b012f9960a1ff762",
            "af4aecb49c5b4e5cbb8520f9435456ce",
            "2378a976fbb240dcb9bad10d5574b12b",
            "bd987043b8f843cd89e225fa8df7fcda",
            "304d41d8f5074b43b8a51cc6f66b1ca2",
            "5c40588f307748ab8f8a91f818584deb",
            "13a821f06cc64ba581df0fb0470406e9",
            "b35d3428cd3d434591cb63b96a979553",
            "db27edcb99484d83a7caf53aac8a1390",
            "2a99ce6c56154394b026319a08d12a18",
            "2cbea7d21de542879b336cb3bdcf97ff",
            "e574e76d45754927abff75d64e2a9d63",
            "b36f2e1df47a448c9149a90faa278c9c",
            "fd5f20d634874eb4a2458462f0a9cb6a",
            "28b24f8419f44cf1aaa17cd4bb5eb702",
            "cf42aca6549144939137545da38907f4",
            "3f38adb6224644ad859377df82cae0eb",
            "e1a4eed01a9443d88428f07d4b18fa8e",
            "8d03fbb1f4854701bbf9edbcc98c9ecd",
            "91deab5812384a71901d41de82908927"
          ]
        },
        "id": "PnJ62ptj6r08",
        "outputId": "411433f0-b0cf-48e8-fc10-3be98ab1fc04"
      },
      "outputs": [
        {
          "output_type": "stream",
          "name": "stdout",
          "text": [
            "%s not found in cache or force_download set to True, downloading to %s https://s3.amazonaws.com/models.huggingface.co/bert/unc-nlp/frcnn-vg-finetuned/config.yaml /root/.cache/torch/transformers/tmpq6s18vfj\n"
          ]
        },
        {
          "output_type": "display_data",
          "data": {
            "text/plain": [
              "Downloading:   0%|          | 0.00/2.13k [00:00<?, ?B/s]"
            ],
            "application/vnd.jupyter.widget-view+json": {
              "version_major": 2,
              "version_minor": 0,
              "model_id": "1b90c9443776449d9245c960f0df5f86"
            }
          },
          "metadata": {}
        },
        {
          "output_type": "stream",
          "name": "stdout",
          "text": [
            "loading configuration file cache\n",
            "%s not found in cache or force_download set to True, downloading to %s https://cdn.huggingface.co/unc-nlp/frcnn-vg-finetuned/pytorch_model.bin /root/.cache/torch/transformers/tmp66onfsub\n"
          ]
        },
        {
          "output_type": "display_data",
          "data": {
            "text/plain": [
              "Downloading:   0%|          | 0.00/262M [00:00<?, ?B/s]"
            ],
            "application/vnd.jupyter.widget-view+json": {
              "version_major": 2,
              "version_minor": 0,
              "model_id": "fa6806e5d37e4e3c8bdc13440e339d0f"
            }
          },
          "metadata": {}
        },
        {
          "output_type": "stream",
          "name": "stdout",
          "text": [
            "loading weights file https://cdn.huggingface.co/unc-nlp/frcnn-vg-finetuned/pytorch_model.bin from cache at /root/.cache/torch/transformers/57f6df6abe353be2773f2700159c65615babf39ab5b48114d2b49267672ae10f.77b59256a4cf8343ae0f923246a81489fc8d82f98d082edc2d2037c977c0d9d0\n"
          ]
        },
        {
          "output_type": "stream",
          "name": "stderr",
          "text": [
            "/content/drive/MyDrive/lxmert/modeling_frcnn.py:1750: FutureWarning: You are using `torch.load` with `weights_only=False` (the current default value), which uses the default pickle module implicitly. It is possible to construct malicious pickle data which will execute arbitrary code during unpickling (See https://github.com/pytorch/pytorch/blob/main/SECURITY.md#untrusted-models for more details). In a future release, the default value for `weights_only` will be flipped to `True`. This limits the functions that could be executed during unpickling. Arbitrary objects will no longer be allowed to be loaded via this mode unless they are explicitly allowlisted by the user via `torch.serialization.add_safe_globals`. We recommend you start setting `weights_only=True` for any use case where you don't have full control of the loaded file. Please open an issue on GitHub for any issues related to this experimental feature.\n",
            "  state_dict = torch.load(resolved_archive_file, map_location=\"cpu\")\n"
          ]
        },
        {
          "output_type": "stream",
          "name": "stdout",
          "text": [
            "All model checkpoint weights were used when initializing GeneralizedRCNN.\n",
            "\n",
            "All the weights of GeneralizedRCNN were initialized from the model checkpoint at unc-nlp/frcnn-vg-finetuned.\n",
            "If your task is similar to the task the model of the checkpoint was trained on, you can already use GeneralizedRCNN for predictions without further training.\n"
          ]
        },
        {
          "output_type": "stream",
          "name": "stderr",
          "text": [
            "/usr/local/lib/python3.10/dist-packages/huggingface_hub/utils/_token.py:89: UserWarning: \n",
            "The secret `HF_TOKEN` does not exist in your Colab secrets.\n",
            "To authenticate with the Hugging Face Hub, create a token in your settings tab (https://huggingface.co/settings/tokens), set it as secret in your Google Colab and restart your session.\n",
            "You will be able to reuse this secret in all of your notebooks.\n",
            "Please note that authentication is recommended but still optional to access public models or datasets.\n",
            "  warnings.warn(\n"
          ]
        },
        {
          "output_type": "display_data",
          "data": {
            "text/plain": [
              "tokenizer_config.json:   0%|          | 0.00/153 [00:00<?, ?B/s]"
            ],
            "application/vnd.jupyter.widget-view+json": {
              "version_major": 2,
              "version_minor": 0,
              "model_id": "770b58bbcbee46059896d054b1eab365"
            }
          },
          "metadata": {}
        },
        {
          "output_type": "display_data",
          "data": {
            "text/plain": [
              "vocab.txt:   0%|          | 0.00/232k [00:00<?, ?B/s]"
            ],
            "application/vnd.jupyter.widget-view+json": {
              "version_major": 2,
              "version_minor": 0,
              "model_id": "772772d1d8e74d87a767a18f082d7272"
            }
          },
          "metadata": {}
        },
        {
          "output_type": "display_data",
          "data": {
            "text/plain": [
              "special_tokens_map.json:   0%|          | 0.00/112 [00:00<?, ?B/s]"
            ],
            "application/vnd.jupyter.widget-view+json": {
              "version_major": 2,
              "version_minor": 0,
              "model_id": "3b39853e711c42cc972d1882b82c1fe2"
            }
          },
          "metadata": {}
        },
        {
          "output_type": "display_data",
          "data": {
            "text/plain": [
              "tokenizer.json:   0%|          | 0.00/466k [00:00<?, ?B/s]"
            ],
            "application/vnd.jupyter.widget-view+json": {
              "version_major": 2,
              "version_minor": 0,
              "model_id": "44bedc8bba8945b0bd23c7fe26873b4c"
            }
          },
          "metadata": {}
        },
        {
          "output_type": "display_data",
          "data": {
            "text/plain": [
              "config.json:   0%|          | 0.00/776 [00:00<?, ?B/s]"
            ],
            "application/vnd.jupyter.widget-view+json": {
              "version_major": 2,
              "version_minor": 0,
              "model_id": "dc7d2576797e4b039382fee0b475a9eb"
            }
          },
          "metadata": {}
        },
        {
          "output_type": "stream",
          "name": "stderr",
          "text": [
            "/usr/local/lib/python3.10/dist-packages/transformers/tokenization_utils_base.py:1601: FutureWarning: `clean_up_tokenization_spaces` was not set. It will be set to `True` by default. This behavior will be depracted in transformers v4.45, and will be then set to `False` by default. For more details check this issue: https://github.com/huggingface/transformers/issues/31884\n",
            "  warnings.warn(\n"
          ]
        },
        {
          "output_type": "display_data",
          "data": {
            "text/plain": [
              "config.json:   0%|          | 0.00/880 [00:00<?, ?B/s]"
            ],
            "application/vnd.jupyter.widget-view+json": {
              "version_major": 2,
              "version_minor": 0,
              "model_id": "7e79b6016896409eba7daa505cc30c19"
            }
          },
          "metadata": {}
        },
        {
          "output_type": "display_data",
          "data": {
            "text/plain": [
              "pytorch_model.bin:   0%|          | 0.00/848M [00:00<?, ?B/s]"
            ],
            "application/vnd.jupyter.widget-view+json": {
              "version_major": 2,
              "version_minor": 0,
              "model_id": "2a99ce6c56154394b026319a08d12a18"
            }
          },
          "metadata": {}
        },
        {
          "output_type": "stream",
          "name": "stdout",
          "text": [
            "Initial LXMERT model size: 808.53 MB\n",
            "Pruned LXMERT model size: 808.53 MB\n",
            "Quantized LXMERT model size: 91.27 MB\n"
          ]
        },
        {
          "output_type": "stream",
          "name": "stderr",
          "text": [
            "<ipython-input-6-76ff6f4f201e>:76: FutureWarning: You are using `torch.load` with `weights_only=False` (the current default value), which uses the default pickle module implicitly. It is possible to construct malicious pickle data which will execute arbitrary code during unpickling (See https://github.com/pytorch/pytorch/blob/main/SECURITY.md#untrusted-models for more details). In a future release, the default value for `weights_only` will be flipped to `True`. This limits the functions that could be executed during unpickling. Arbitrary objects will no longer be allowed to be loaded via this mode unless they are explicitly allowlisted by the user via `torch.serialization.add_safe_globals`. We recommend you start setting `weights_only=True` for any use case where you don't have full control of the loaded file. Please open an issue on GitHub for any issues related to this experimental feature.\n",
            "  quantized_model.load_state_dict(torch.load(\"quantized_pruned_lxmert_gqa.pth\"))\n",
            "/usr/local/lib/python3.10/dist-packages/torch/_utils.py:392: UserWarning: TypedStorage is deprecated. It will be removed in the future and UntypedStorage will be the only storage class. This should only matter to you if you are using storages directly.  To access UntypedStorage directly, use tensor.untyped_storage() instead of tensor.storage()\n",
            "  device=storage.device,\n"
          ]
        },
        {
          "output_type": "execute_result",
          "data": {
            "text/plain": [
              "<All keys matched successfully>"
            ]
          },
          "metadata": {},
          "execution_count": 6
        }
      ],
      "source": [
        "from IPython.display import clear_output, Image, display\n",
        "import PIL.Image\n",
        "import io\n",
        "import json\n",
        "import torch\n",
        "import numpy as np\n",
        "from processing_image import Preprocess\n",
        "from visualizing_image import SingleImageViz\n",
        "from modeling_frcnn import GeneralizedRCNN\n",
        "from utils import Config\n",
        "import utils\n",
        "from transformers import LxmertForQuestionAnswering, LxmertTokenizer\n",
        "import wget\n",
        "import pickle\n",
        "import os\n",
        "import torch.quantization as quant\n",
        "from torch.nn.utils import prune\n",
        "\n",
        "# Function to calculate and print model size\n",
        "def print_model_size(model, description):\n",
        "    size_in_bytes = sum(p.numel() * p.element_size() for p in model.parameters())\n",
        "    size_in_mb = size_in_bytes / (1024 ** 2)\n",
        "    print(f\"{description} model size: {size_in_mb:.2f} MB\")\n",
        "\n",
        "# for visualizing output\n",
        "def showarray(a, fmt=\"jpeg\"):\n",
        "    a = np.uint8(np.clip(a, 0, 255))\n",
        "    f = io.BytesIO()\n",
        "    PIL.Image.fromarray(a).save(f, fmt)\n",
        "    display(Image(data=f.getvalue()))\n",
        "\n",
        "\n",
        "# load models and model components\n",
        "frcnn_cfg = Config.from_pretrained(\"unc-nlp/frcnn-vg-finetuned\")\n",
        "\n",
        "frcnn = GeneralizedRCNN.from_pretrained(\"unc-nlp/frcnn-vg-finetuned\", config=frcnn_cfg)\n",
        "\n",
        "image_preprocess = Preprocess(frcnn_cfg)\n",
        "\n",
        "lxmert_tokenizer = LxmertTokenizer.from_pretrained(\"unc-nlp/lxmert-base-uncased\")\n",
        "lxmert_model = LxmertForQuestionAnswering.from_pretrained(\"unc-nlp/lxmert-gqa-uncased\")\n",
        "# lxmert_vqa = LxmertForQuestionAnswering.from_pretrained(\"unc-nlp/lxmert-vqa-uncased\")\n",
        "\n",
        "# Print initial model size\n",
        "print_model_size(lxmert_model, \"Initial LXMERT\")\n",
        "\n",
        "### =============================\n",
        "# Load LXMERT model and tokenizer\n",
        "# Pruning function\n",
        "def prune_model(model, amount=0.3):\n",
        "    for name, module in model.named_modules():\n",
        "        if isinstance(module, torch.nn.Linear):\n",
        "            prune.l1_unstructured(module, name='weight', amount=amount)\n",
        "            prune.remove(module, 'weight')\n",
        "    return model\n",
        "\n",
        "# Quantization function\n",
        "def quantize_model(model):\n",
        "    model.eval()  # Set model to evaluation mode for quantization\n",
        "    quantized_model = quant.quantize_dynamic(\n",
        "        model, {torch.nn.Linear}, dtype=torch.qint8\n",
        "    )\n",
        "    return quantized_model\n",
        "\n",
        "# Prune and quantize the model\n",
        "pruned_model = prune_model(lxmert_model)\n",
        "print_model_size(pruned_model, \"Pruned LXMERT\")\n",
        "\n",
        "quantized_model = quantize_model(pruned_model)\n",
        "print_model_size(quantized_model, \"Quantized LXMERT\")\n",
        "\n",
        "# Save the pruned and quantized model\n",
        "torch.save(quantized_model.state_dict(), \"quantized_pruned_lxmert_gqa.pth\")\n",
        "\n",
        "# Load pruned and quantized model (for verification)\n",
        "quantized_model.load_state_dict(torch.load(\"quantized_pruned_lxmert_gqa.pth\"))\n",
        "\n",
        "### ============================="
      ]
    },
    {
      "cell_type": "markdown",
      "source": [
        "pruning, quantisation"
      ],
      "metadata": {
        "id": "NkPymVH93rMU"
      }
    },
    {
      "cell_type": "code",
      "source": [
        "from sklearn.metrics import accuracy_score\n",
        "from tqdm import tqdm\n",
        "import torch\n",
        "import pickle\n",
        "import numpy as np\n",
        "import os\n",
        "\n",
        "# File path to save pickle on Google Drive\n",
        "pickle_path = \"/content/drive/MyDrive/lxmert_quantized_predictions_confidence.pkl\"\n",
        "\n",
        "# Load previous progress if available\n",
        "try:\n",
        "    with open(pickle_path, \"rb\") as f:\n",
        "        data = pickle.load(f)\n",
        "        lxmert_predictions = data[\"lxmert_predictions\"]\n",
        "        quantized_predictions = data[\"quantized_predictions\"]\n",
        "        lxmert_confidences = data[\"lxmert_confidences\"]\n",
        "        quantized_confidences = data[\"quantized_confidences\"]\n",
        "        start_idx = len(lxmert_predictions)\n",
        "        print(f\"Resuming from index {start_idx}\")\n",
        "except FileNotFoundError:\n",
        "    lxmert_predictions, quantized_predictions = [], []\n",
        "    lxmert_confidences, quantized_confidences = [], []\n",
        "    start_idx = 0\n",
        "    print(\"Starting from scratch\")\n",
        "\n",
        "# URL for the image and other data\n",
        "list1 = np.load('/content/drive/MyDrive/image_list.npy')\n",
        "\n",
        "OBJ_URL = \"https://raw.githubusercontent.com/airsplay/py-bottom-up-attention/master/demo/data/genome/1600-400-20/objects_vocab.txt\"\n",
        "ATTR_URL = \"https://raw.githubusercontent.com/airsplay/py-bottom-up-attention/master/demo/data/genome/1600-400-20/attributes_vocab.txt\"\n",
        "GQA_URL = \"https://raw.githubusercontent.com/airsplay/lxmert/master/data/gqa/trainval_label2ans.json\"\n",
        "VQA_URL = \"https://raw.githubusercontent.com/airsplay/lxmert/master/data/vqa/trainval_label2ans.json\"\n",
        "\n",
        "# Load labels\n",
        "objids = utils.get_data(OBJ_URL)\n",
        "attrids = utils.get_data(ATTR_URL)\n",
        "gqa_answers = utils.get_data(GQA_URL)\n",
        "vqa_answers = utils.get_data(VQA_URL)\n",
        "\n",
        "# Iterate over each item in list1 with progress tracking\n",
        "for idx, item in enumerate(tqdm(list1[start_idx:], desc=\"Processing images\", initial=start_idx, total=len(list1))):\n",
        "    URL = \"http://images.cocodataset.org/train2017/\" + item\n",
        "    print(f\"Processing URL: {URL}\")\n",
        "\n",
        "    # Preprocess the image and get output dictionary\n",
        "    images, sizes, scales_yx = image_preprocess(URL)\n",
        "    output_dict = frcnn(\n",
        "        images,\n",
        "        sizes,\n",
        "        scales_yx=scales_yx,\n",
        "        padding=\"max_detections\",\n",
        "        max_detections=frcnn_cfg.max_detections,\n",
        "        return_tensors=\"pt\",\n",
        "    )\n",
        "\n",
        "    # Define questions for the image\n",
        "    test_questions_for_url = [\"what all is there in the image?\"]\n",
        "\n",
        "    normalized_boxes = output_dict.get(\"normalized_boxes\")\n",
        "    features = output_dict.get(\"roi_features\")\n",
        "\n",
        "    # Run inference for each question and record predictions\n",
        "    for test_question in test_questions_for_url:\n",
        "        test_question = [test_question]\n",
        "        inputs = lxmert_tokenizer(\n",
        "            test_question,\n",
        "            padding=\"max_length\",\n",
        "            max_length=20,\n",
        "            truncation=True,\n",
        "            return_token_type_ids=True,\n",
        "            return_attention_mask=True,\n",
        "            add_special_tokens=True,\n",
        "            return_tensors=\"pt\",\n",
        "        )\n",
        "\n",
        "        # Run original LXMERT\n",
        "        lxmert_output = lxmert_model(\n",
        "            input_ids=inputs.input_ids,\n",
        "            attention_mask=inputs.attention_mask,\n",
        "            visual_feats=features,\n",
        "            visual_pos=normalized_boxes,\n",
        "            token_type_ids=inputs.token_type_ids,\n",
        "            output_attentions=False,\n",
        "        )\n",
        "\n",
        "        # Run pruned/quantized LXMERT\n",
        "        quantized_output = quantized_model(\n",
        "            input_ids=inputs.input_ids,\n",
        "            attention_mask=inputs.attention_mask,\n",
        "            visual_feats=features,\n",
        "            visual_pos=normalized_boxes,\n",
        "            token_type_ids=inputs.token_type_ids,\n",
        "            output_attentions=False,\n",
        "        )\n",
        "\n",
        "        # Get predictions\n",
        "        lxmert_pred = lxmert_output[\"question_answering_score\"].argmax(-1).item()\n",
        "        quantized_pred = quantized_output[\"question_answering_score\"].argmax(-1).item()\n",
        "\n",
        "        # Calculate confidence\n",
        "        lxmert_confidence = torch.softmax(lxmert_output[\"question_answering_score\"], dim=-1).max().item()\n",
        "        quantized_confidence = torch.softmax(quantized_output[\"question_answering_score\"], dim=-1).max().item()\n",
        "\n",
        "        # Append to lists\n",
        "        lxmert_predictions.append(lxmert_pred)\n",
        "        quantized_predictions.append(quantized_pred)\n",
        "        lxmert_confidences.append(lxmert_confidence)\n",
        "        quantized_confidences.append(quantized_confidence)\n",
        "\n",
        "    # Save current progress to Google Drive after each iteration\n",
        "    with open(pickle_path, \"wb\") as f:\n",
        "        pickle.dump({\n",
        "            \"lxmert_predictions\": lxmert_predictions,\n",
        "            \"quantized_predictions\": quantized_predictions,\n",
        "            \"lxmert_confidences\": lxmert_confidences,\n",
        "            \"quantized_confidences\": quantized_confidences,\n",
        "        }, f)\n",
        "\n",
        "    # Print the index of the last processed item\n",
        "    print(\"Last processed index:\", idx + start_idx)\n",
        "\n",
        "# Calculate agreement rate\n",
        "agreement_rate = accuracy_score(lxmert_predictions, quantized_predictions)\n",
        "print(\"Agreement Rate between LXMERT and Quantized LXMERT:\", agreement_rate)\n",
        "\n",
        "# Calculate average confidence for each model\n",
        "avg_lxmert_confidence = sum(lxmert_confidences) / len(lxmert_confidences)\n",
        "avg_quantized_confidence = sum(quantized_confidences) / len(quantized_confidences)\n",
        "\n",
        "print(\"Average Confidence of LXMERT:\", avg_lxmert_confidence)\n",
        "print(\"Average Confidence of Quantized LXMERT:\", avg_quantized_confidence)\n"
      ],
      "metadata": {
        "id": "t_ezsKz-TPZd",
        "colab": {
          "base_uri": "https://localhost:8080/"
        },
        "outputId": "6c694441-77e0-4c58-ed41-94dad55dca23"
      },
      "execution_count": null,
      "outputs": [
        {
          "output_type": "stream",
          "name": "stdout",
          "text": [
            "Resuming from index 175\n"
          ]
        },
        {
          "output_type": "stream",
          "name": "stderr",
          "text": [
            "\rProcessing images:  35%|███▌      | 175/500 [00:00<?, ?it/s]"
          ]
        },
        {
          "output_type": "stream",
          "name": "stdout",
          "text": [
            "Processing URL: http://images.cocodataset.org/train2017/000000000471.jpg\n"
          ]
        },
        {
          "output_type": "stream",
          "name": "stderr",
          "text": [
            "/usr/local/lib/python3.10/dist-packages/torch/functional.py:534: UserWarning: torch.meshgrid: in an upcoming release, it will be required to pass the indexing argument. (Triggered internally at ../aten/src/ATen/native/TensorShape.cpp:3595.)\n",
            "  return _VF.meshgrid(tensors, **kwargs)  # type: ignore[attr-defined]\n",
            "Processing images:  35%|███▌      | 176/500 [00:30<2:43:06, 30.21s/it]"
          ]
        },
        {
          "output_type": "stream",
          "name": "stdout",
          "text": [
            "Last processed index: 175\n",
            "Processing URL: http://images.cocodataset.org/train2017/000000001592.jpg\n"
          ]
        },
        {
          "output_type": "stream",
          "name": "stderr",
          "text": [
            "\rProcessing images:  35%|███▌      | 177/500 [00:56<2:30:47, 28.01s/it]"
          ]
        },
        {
          "output_type": "stream",
          "name": "stdout",
          "text": [
            "Last processed index: 176\n",
            "Processing URL: http://images.cocodataset.org/train2017/000000001586.jpg\n"
          ]
        },
        {
          "output_type": "stream",
          "name": "stderr",
          "text": [
            "\rProcessing images:  36%|███▌      | 178/500 [01:26<2:33:39, 28.63s/it]"
          ]
        },
        {
          "output_type": "stream",
          "name": "stdout",
          "text": [
            "Last processed index: 177\n",
            "Processing URL: http://images.cocodataset.org/train2017/000000000897.jpg\n"
          ]
        },
        {
          "output_type": "stream",
          "name": "stderr",
          "text": [
            "\rProcessing images:  36%|███▌      | 179/500 [01:48<2:20:31, 26.27s/it]"
          ]
        },
        {
          "output_type": "stream",
          "name": "stdout",
          "text": [
            "Last processed index: 178\n",
            "Processing URL: http://images.cocodataset.org/train2017/000000001237.jpg\n"
          ]
        },
        {
          "output_type": "stream",
          "name": "stderr",
          "text": [
            "\rProcessing images:  36%|███▌      | 180/500 [02:12<2:16:03, 25.51s/it]"
          ]
        },
        {
          "output_type": "stream",
          "name": "stdout",
          "text": [
            "Last processed index: 179\n",
            "Processing URL: http://images.cocodataset.org/train2017/000000000673.jpg\n"
          ]
        },
        {
          "output_type": "stream",
          "name": "stderr",
          "text": [
            "\rProcessing images:  36%|███▌      | 181/500 [02:45<2:27:52, 27.81s/it]"
          ]
        },
        {
          "output_type": "stream",
          "name": "stdout",
          "text": [
            "Last processed index: 180\n",
            "Processing URL: http://images.cocodataset.org/train2017/000000001579.jpg\n"
          ]
        },
        {
          "output_type": "stream",
          "name": "stderr",
          "text": [
            "\rProcessing images:  36%|███▋      | 182/500 [03:06<2:15:46, 25.62s/it]"
          ]
        },
        {
          "output_type": "stream",
          "name": "stdout",
          "text": [
            "Last processed index: 181\n",
            "Processing URL: http://images.cocodataset.org/train2017/000000001569.jpg\n"
          ]
        },
        {
          "output_type": "stream",
          "name": "stderr",
          "text": [
            "\rProcessing images:  37%|███▋      | 183/500 [03:35<2:20:58, 26.68s/it]"
          ]
        },
        {
          "output_type": "stream",
          "name": "stdout",
          "text": [
            "Last processed index: 182\n",
            "Processing URL: http://images.cocodataset.org/train2017/000000001596.jpg\n"
          ]
        },
        {
          "output_type": "stream",
          "name": "stderr",
          "text": [
            "\rProcessing images:  37%|███▋      | 184/500 [03:54<2:08:32, 24.41s/it]"
          ]
        },
        {
          "output_type": "stream",
          "name": "stdout",
          "text": [
            "Last processed index: 183\n",
            "Processing URL: http://images.cocodataset.org/train2017/000000001025.jpg\n"
          ]
        },
        {
          "output_type": "stream",
          "name": "stderr",
          "text": [
            "\rProcessing images:  37%|███▋      | 185/500 [04:21<2:12:17, 25.20s/it]"
          ]
        },
        {
          "output_type": "stream",
          "name": "stdout",
          "text": [
            "Last processed index: 184\n",
            "Processing URL: http://images.cocodataset.org/train2017/000000001757.jpg\n"
          ]
        },
        {
          "output_type": "stream",
          "name": "stderr",
          "text": [
            "\rProcessing images:  37%|███▋      | 186/500 [04:47<2:12:32, 25.33s/it]"
          ]
        },
        {
          "output_type": "stream",
          "name": "stdout",
          "text": [
            "Last processed index: 185\n",
            "Processing URL: http://images.cocodataset.org/train2017/000000000307.jpg\n"
          ]
        },
        {
          "output_type": "stream",
          "name": "stderr",
          "text": [
            "\rProcessing images:  37%|███▋      | 187/500 [05:10<2:08:24, 24.61s/it]"
          ]
        },
        {
          "output_type": "stream",
          "name": "stdout",
          "text": [
            "Last processed index: 186\n",
            "Processing URL: http://images.cocodataset.org/train2017/000000002276.jpg\n"
          ]
        },
        {
          "output_type": "stream",
          "name": "stderr",
          "text": [
            "\rProcessing images:  38%|███▊      | 188/500 [05:31<2:02:30, 23.56s/it]"
          ]
        },
        {
          "output_type": "stream",
          "name": "stdout",
          "text": [
            "Last processed index: 187\n",
            "Processing URL: http://images.cocodataset.org/train2017/000000001958.jpg\n"
          ]
        },
        {
          "output_type": "stream",
          "name": "stderr",
          "text": [
            "\rProcessing images:  38%|███▊      | 189/500 [05:55<2:02:44, 23.68s/it]"
          ]
        },
        {
          "output_type": "stream",
          "name": "stdout",
          "text": [
            "Last processed index: 188\n",
            "Processing URL: http://images.cocodataset.org/train2017/000000000529.jpg\n"
          ]
        },
        {
          "output_type": "stream",
          "name": "stderr",
          "text": [
            "\rProcessing images:  38%|███▊      | 190/500 [06:19<2:03:50, 23.97s/it]"
          ]
        },
        {
          "output_type": "stream",
          "name": "stdout",
          "text": [
            "Last processed index: 189\n",
            "Processing URL: http://images.cocodataset.org/train2017/000000001637.jpg\n"
          ]
        },
        {
          "output_type": "stream",
          "name": "stderr",
          "text": [
            "\rProcessing images:  38%|███▊      | 191/500 [06:51<2:15:50, 26.38s/it]"
          ]
        },
        {
          "output_type": "stream",
          "name": "stdout",
          "text": [
            "Last processed index: 190\n",
            "Processing URL: http://images.cocodataset.org/train2017/000000001145.jpg\n"
          ]
        },
        {
          "output_type": "stream",
          "name": "stderr",
          "text": [
            "\rProcessing images:  38%|███▊      | 192/500 [07:16<2:12:40, 25.85s/it]"
          ]
        },
        {
          "output_type": "stream",
          "name": "stdout",
          "text": [
            "Last processed index: 191\n",
            "Processing URL: http://images.cocodataset.org/train2017/000000002302.jpg\n"
          ]
        },
        {
          "output_type": "stream",
          "name": "stderr",
          "text": [
            "\rProcessing images:  39%|███▊      | 193/500 [07:43<2:13:37, 26.12s/it]"
          ]
        },
        {
          "output_type": "stream",
          "name": "stdout",
          "text": [
            "Last processed index: 192\n",
            "Processing URL: http://images.cocodataset.org/train2017/000000002470.jpg\n"
          ]
        },
        {
          "output_type": "stream",
          "name": "stderr",
          "text": [
            "\rProcessing images:  39%|███▉      | 194/500 [08:06<2:08:53, 25.27s/it]"
          ]
        },
        {
          "output_type": "stream",
          "name": "stdout",
          "text": [
            "Last processed index: 193\n",
            "Processing URL: http://images.cocodataset.org/train2017/000000001810.jpg\n"
          ]
        },
        {
          "output_type": "stream",
          "name": "stderr",
          "text": [
            "\rProcessing images:  39%|███▉      | 195/500 [08:27<2:02:14, 24.05s/it]"
          ]
        },
        {
          "output_type": "stream",
          "name": "stdout",
          "text": [
            "Last processed index: 194\n",
            "Processing URL: http://images.cocodataset.org/train2017/000000001804.jpg\n"
          ]
        },
        {
          "output_type": "stream",
          "name": "stderr",
          "text": [
            "\rProcessing images:  39%|███▉      | 196/500 [08:50<1:59:48, 23.65s/it]"
          ]
        },
        {
          "output_type": "stream",
          "name": "stdout",
          "text": [
            "Last processed index: 195\n",
            "Processing URL: http://images.cocodataset.org/train2017/000000001347.jpg\n"
          ]
        },
        {
          "output_type": "stream",
          "name": "stderr",
          "text": [
            "\rProcessing images:  39%|███▉      | 197/500 [09:16<2:02:23, 24.23s/it]"
          ]
        },
        {
          "output_type": "stream",
          "name": "stdout",
          "text": [
            "Last processed index: 196\n",
            "Processing URL: http://images.cocodataset.org/train2017/000000000071.jpg\n"
          ]
        },
        {
          "output_type": "stream",
          "name": "stderr",
          "text": [
            "\rProcessing images:  40%|███▉      | 198/500 [09:50<2:18:07, 27.44s/it]"
          ]
        },
        {
          "output_type": "stream",
          "name": "stdout",
          "text": [
            "Last processed index: 197\n",
            "Processing URL: http://images.cocodataset.org/train2017/000000002114.jpg\n"
          ]
        },
        {
          "output_type": "stream",
          "name": "stderr",
          "text": [
            "\rProcessing images:  40%|███▉      | 199/500 [10:35<2:43:53, 32.67s/it]"
          ]
        },
        {
          "output_type": "stream",
          "name": "stdout",
          "text": [
            "Last processed index: 198\n",
            "Processing URL: http://images.cocodataset.org/train2017/000000001390.jpg\n"
          ]
        },
        {
          "output_type": "stream",
          "name": "stderr",
          "text": [
            "\rProcessing images:  40%|████      | 200/500 [11:01<2:32:48, 30.56s/it]"
          ]
        },
        {
          "output_type": "stream",
          "name": "stdout",
          "text": [
            "Last processed index: 199\n",
            "Processing URL: http://images.cocodataset.org/train2017/000000000925.jpg\n"
          ]
        },
        {
          "output_type": "stream",
          "name": "stderr",
          "text": [
            "\rProcessing images:  40%|████      | 201/500 [11:21<2:17:08, 27.52s/it]"
          ]
        },
        {
          "output_type": "stream",
          "name": "stdout",
          "text": [
            "Last processed index: 200\n",
            "Processing URL: http://images.cocodataset.org/train2017/000000000064.jpg\n"
          ]
        },
        {
          "output_type": "stream",
          "name": "stderr",
          "text": [
            "\rProcessing images:  40%|████      | 202/500 [11:45<2:10:06, 26.20s/it]"
          ]
        },
        {
          "output_type": "stream",
          "name": "stdout",
          "text": [
            "Last processed index: 201\n",
            "Processing URL: http://images.cocodataset.org/train2017/000000000716.jpg\n"
          ]
        },
        {
          "output_type": "stream",
          "name": "stderr",
          "text": [
            "\rProcessing images:  41%|████      | 203/500 [12:11<2:09:41, 26.20s/it]"
          ]
        },
        {
          "output_type": "stream",
          "name": "stdout",
          "text": [
            "Last processed index: 202\n",
            "Processing URL: http://images.cocodataset.org/train2017/000000001408.jpg\n"
          ]
        },
        {
          "output_type": "stream",
          "name": "stderr",
          "text": [
            "\rProcessing images:  41%|████      | 204/500 [12:47<2:23:38, 29.12s/it]"
          ]
        },
        {
          "output_type": "stream",
          "name": "stdout",
          "text": [
            "Last processed index: 203\n",
            "Processing URL: http://images.cocodataset.org/train2017/000000001811.jpg\n"
          ]
        },
        {
          "output_type": "stream",
          "name": "stderr",
          "text": [
            "\rProcessing images:  41%|████      | 205/500 [13:16<2:23:00, 29.09s/it]"
          ]
        },
        {
          "output_type": "stream",
          "name": "stdout",
          "text": [
            "Last processed index: 204\n",
            "Processing URL: http://images.cocodataset.org/train2017/000000000514.jpg\n"
          ]
        },
        {
          "output_type": "stream",
          "name": "stderr",
          "text": [
            "\rProcessing images:  41%|████      | 206/500 [13:37<2:10:40, 26.67s/it]"
          ]
        },
        {
          "output_type": "stream",
          "name": "stdout",
          "text": [
            "Last processed index: 205\n",
            "Processing URL: http://images.cocodataset.org/train2017/000000001622.jpg\n"
          ]
        },
        {
          "output_type": "stream",
          "name": "stderr",
          "text": [
            "\rProcessing images:  41%|████▏     | 207/500 [13:58<2:02:08, 25.01s/it]"
          ]
        },
        {
          "output_type": "stream",
          "name": "stdout",
          "text": [
            "Last processed index: 206\n",
            "Processing URL: http://images.cocodataset.org/train2017/000000001144.jpg\n"
          ]
        },
        {
          "output_type": "stream",
          "name": "stderr",
          "text": [
            "\rProcessing images:  42%|████▏     | 208/500 [14:29<2:11:12, 26.96s/it]"
          ]
        },
        {
          "output_type": "stream",
          "name": "stdout",
          "text": [
            "Last processed index: 207\n",
            "Processing URL: http://images.cocodataset.org/train2017/000000002459.jpg\n"
          ]
        },
        {
          "output_type": "stream",
          "name": "stderr",
          "text": [
            "\rProcessing images:  42%|████▏     | 209/500 [14:51<2:03:06, 25.38s/it]"
          ]
        },
        {
          "output_type": "stream",
          "name": "stdout",
          "text": [
            "Last processed index: 208\n",
            "Processing URL: http://images.cocodataset.org/train2017/000000001781.jpg\n"
          ]
        },
        {
          "output_type": "stream",
          "name": "stderr",
          "text": [
            "\rProcessing images:  42%|████▏     | 210/500 [15:15<2:00:15, 24.88s/it]"
          ]
        },
        {
          "output_type": "stream",
          "name": "stdout",
          "text": [
            "Last processed index: 209\n",
            "Processing URL: http://images.cocodataset.org/train2017/000000000474.jpg\n"
          ]
        },
        {
          "output_type": "stream",
          "name": "stderr",
          "text": [
            "\rProcessing images:  42%|████▏     | 211/500 [15:36<1:54:41, 23.81s/it]"
          ]
        },
        {
          "output_type": "stream",
          "name": "stdout",
          "text": [
            "Last processed index: 210\n",
            "Processing URL: http://images.cocodataset.org/train2017/000000000312.jpg\n"
          ]
        },
        {
          "output_type": "stream",
          "name": "stderr",
          "text": [
            "\rProcessing images:  42%|████▏     | 212/500 [16:03<1:59:22, 24.87s/it]"
          ]
        },
        {
          "output_type": "stream",
          "name": "stdout",
          "text": [
            "Last processed index: 211\n",
            "Processing URL: http://images.cocodataset.org/train2017/000000001756.jpg\n"
          ]
        },
        {
          "output_type": "stream",
          "name": "stderr",
          "text": [
            "\rProcessing images:  43%|████▎     | 213/500 [16:38<2:12:40, 27.74s/it]"
          ]
        },
        {
          "output_type": "stream",
          "name": "stdout",
          "text": [
            "Last processed index: 212\n",
            "Processing URL: http://images.cocodataset.org/train2017/000000000110.jpg\n"
          ]
        },
        {
          "output_type": "stream",
          "name": "stderr",
          "text": [
            "\rProcessing images:  43%|████▎     | 214/500 [17:02<2:06:50, 26.61s/it]"
          ]
        },
        {
          "output_type": "stream",
          "name": "stdout",
          "text": [
            "Last processed index: 213\n",
            "Processing URL: http://images.cocodataset.org/train2017/000000002061.jpg\n"
          ]
        },
        {
          "output_type": "stream",
          "name": "stderr",
          "text": [
            "\rProcessing images:  43%|████▎     | 215/500 [17:25<2:01:44, 25.63s/it]"
          ]
        },
        {
          "output_type": "stream",
          "name": "stdout",
          "text": [
            "Last processed index: 214\n",
            "Processing URL: http://images.cocodataset.org/train2017/000000001232.jpg\n"
          ]
        },
        {
          "output_type": "stream",
          "name": "stderr",
          "text": [
            "\rProcessing images:  43%|████▎     | 216/500 [18:01<2:15:53, 28.71s/it]"
          ]
        },
        {
          "output_type": "stream",
          "name": "stdout",
          "text": [
            "Last processed index: 215\n",
            "Processing URL: http://images.cocodataset.org/train2017/000000001554.jpg\n"
          ]
        },
        {
          "output_type": "stream",
          "name": "stderr",
          "text": [
            "\rProcessing images:  43%|████▎     | 217/500 [18:26<2:10:40, 27.71s/it]"
          ]
        },
        {
          "output_type": "stream",
          "name": "stdout",
          "text": [
            "Last processed index: 216\n",
            "Processing URL: http://images.cocodataset.org/train2017/000000000138.jpg\n"
          ]
        },
        {
          "output_type": "stream",
          "name": "stderr",
          "text": [
            "\rProcessing images:  44%|████▎     | 218/500 [19:01<2:20:26, 29.88s/it]"
          ]
        },
        {
          "output_type": "stream",
          "name": "stdout",
          "text": [
            "Last processed index: 217\n",
            "Processing URL: http://images.cocodataset.org/train2017/000000001224.jpg\n"
          ]
        },
        {
          "output_type": "stream",
          "name": "stderr",
          "text": [
            "\rProcessing images:  44%|████▍     | 219/500 [19:27<2:14:27, 28.71s/it]"
          ]
        },
        {
          "output_type": "stream",
          "name": "stdout",
          "text": [
            "Last processed index: 218\n",
            "Processing URL: http://images.cocodataset.org/train2017/000000000853.jpg\n"
          ]
        },
        {
          "output_type": "stream",
          "name": "stderr",
          "text": [
            "\rProcessing images:  44%|████▍     | 220/500 [19:48<2:02:48, 26.32s/it]"
          ]
        },
        {
          "output_type": "stream",
          "name": "stdout",
          "text": [
            "Last processed index: 219\n",
            "Processing URL: http://images.cocodataset.org/train2017/000000000338.jpg\n"
          ]
        },
        {
          "output_type": "stream",
          "name": "stderr",
          "text": [
            "\rProcessing images:  44%|████▍     | 221/500 [20:18<2:07:28, 27.41s/it]"
          ]
        },
        {
          "output_type": "stream",
          "name": "stdout",
          "text": [
            "Last processed index: 220\n",
            "Processing URL: http://images.cocodataset.org/train2017/000000001146.jpg\n"
          ]
        },
        {
          "output_type": "stream",
          "name": "stderr",
          "text": [
            "\rProcessing images:  44%|████▍     | 222/500 [20:40<1:59:03, 25.70s/it]"
          ]
        },
        {
          "output_type": "stream",
          "name": "stdout",
          "text": [
            "Last processed index: 221\n",
            "Processing URL: http://images.cocodataset.org/train2017/000000002315.jpg\n"
          ]
        },
        {
          "output_type": "stream",
          "name": "stderr",
          "text": [
            "\rProcessing images:  45%|████▍     | 223/500 [21:15<2:11:44, 28.54s/it]"
          ]
        },
        {
          "output_type": "stream",
          "name": "stdout",
          "text": [
            "Last processed index: 222\n",
            "Processing URL: http://images.cocodataset.org/train2017/000000000502.jpg\n"
          ]
        },
        {
          "output_type": "stream",
          "name": "stderr",
          "text": [
            "\rProcessing images:  45%|████▍     | 224/500 [21:39<2:04:36, 27.09s/it]"
          ]
        },
        {
          "output_type": "stream",
          "name": "stdout",
          "text": [
            "Last processed index: 223\n",
            "Processing URL: http://images.cocodataset.org/train2017/000000001813.jpg\n"
          ]
        },
        {
          "output_type": "stream",
          "name": "stderr",
          "text": [
            "\rProcessing images:  45%|████▌     | 225/500 [21:58<1:53:45, 24.82s/it]"
          ]
        },
        {
          "output_type": "stream",
          "name": "stdout",
          "text": [
            "Last processed index: 224\n",
            "Processing URL: http://images.cocodataset.org/train2017/000000001350.jpg\n"
          ]
        },
        {
          "output_type": "stream",
          "name": "stderr",
          "text": [
            "\rProcessing images:  45%|████▌     | 226/500 [22:25<1:56:21, 25.48s/it]"
          ]
        },
        {
          "output_type": "stream",
          "name": "stdout",
          "text": [
            "Last processed index: 225\n",
            "Processing URL: http://images.cocodataset.org/train2017/000000001436.jpg\n"
          ]
        },
        {
          "output_type": "stream",
          "name": "stderr",
          "text": [
            "\rProcessing images:  45%|████▌     | 227/500 [22:51<1:56:22, 25.58s/it]"
          ]
        },
        {
          "output_type": "stream",
          "name": "stdout",
          "text": [
            "Last processed index: 226\n",
            "Processing URL: http://images.cocodataset.org/train2017/000000000072.jpg\n"
          ]
        },
        {
          "output_type": "stream",
          "name": "stderr",
          "text": [
            "\rProcessing images:  46%|████▌     | 228/500 [23:18<1:58:08, 26.06s/it]"
          ]
        },
        {
          "output_type": "stream",
          "name": "stdout",
          "text": [
            "Last processed index: 227\n",
            "Processing URL: http://images.cocodataset.org/train2017/000000000714.jpg\n"
          ]
        },
        {
          "output_type": "stream",
          "name": "stderr",
          "text": [
            "\rProcessing images:  46%|████▌     | 229/500 [23:47<2:01:36, 26.92s/it]"
          ]
        },
        {
          "output_type": "stream",
          "name": "stdout",
          "text": [
            "Last processed index: 228\n",
            "Processing URL: http://images.cocodataset.org/train2017/000000000927.jpg\n"
          ]
        },
        {
          "output_type": "stream",
          "name": "stderr",
          "text": [
            "\rProcessing images:  46%|████▌     | 230/500 [24:17<2:05:41, 27.93s/it]"
          ]
        },
        {
          "output_type": "stream",
          "name": "stdout",
          "text": [
            "Last processed index: 229\n",
            "Processing URL: http://images.cocodataset.org/train2017/000000001393.jpg\n"
          ]
        },
        {
          "output_type": "stream",
          "name": "stderr",
          "text": [
            "\rProcessing images:  46%|████▌     | 231/500 [24:39<1:56:37, 26.01s/it]"
          ]
        },
        {
          "output_type": "stream",
          "name": "stdout",
          "text": [
            "Last processed index: 230\n",
            "Processing URL: http://images.cocodataset.org/train2017/000000001392.jpg\n"
          ]
        },
        {
          "output_type": "stream",
          "name": "stderr",
          "text": [
            "\rProcessing images:  46%|████▋     | 232/500 [24:59<1:48:01, 24.19s/it]"
          ]
        },
        {
          "output_type": "stream",
          "name": "stdout",
          "text": [
            "Last processed index: 231\n",
            "Processing URL: http://images.cocodataset.org/train2017/000000001386.jpg\n"
          ]
        },
        {
          "output_type": "stream",
          "name": "stderr",
          "text": [
            "\rProcessing images:  47%|████▋     | 233/500 [25:21<1:45:25, 23.69s/it]"
          ]
        },
        {
          "output_type": "stream",
          "name": "stdout",
          "text": [
            "Last processed index: 232\n",
            "Processing URL: http://images.cocodataset.org/train2017/000000000073.jpg\n"
          ]
        },
        {
          "output_type": "stream",
          "name": "stderr",
          "text": [
            "\rProcessing images:  47%|████▋     | 234/500 [25:42<1:40:46, 22.73s/it]"
          ]
        },
        {
          "output_type": "stream",
          "name": "stdout",
          "text": [
            "Last processed index: 233\n",
            "Processing URL: http://images.cocodataset.org/train2017/000000000715.jpg\n"
          ]
        },
        {
          "output_type": "stream",
          "name": "stderr",
          "text": [
            "\rProcessing images:  47%|████▋     | 235/500 [26:08<1:45:11, 23.82s/it]"
          ]
        },
        {
          "output_type": "stream",
          "name": "stdout",
          "text": [
            "Last processed index: 234\n",
            "Processing URL: http://images.cocodataset.org/train2017/000000002466.jpg\n"
          ]
        },
        {
          "output_type": "stream",
          "name": "stderr",
          "text": [
            "\rProcessing images:  47%|████▋     | 236/500 [26:38<1:53:02, 25.69s/it]"
          ]
        },
        {
          "output_type": "stream",
          "name": "stdout",
          "text": [
            "Last processed index: 235\n",
            "Processing URL: http://images.cocodataset.org/train2017/000000001153.jpg\n"
          ]
        },
        {
          "output_type": "stream",
          "name": "stderr",
          "text": [
            "\rProcessing images:  47%|████▋     | 237/500 [27:03<1:51:02, 25.33s/it]"
          ]
        },
        {
          "output_type": "stream",
          "name": "stdout",
          "text": [
            "Last processed index: 236\n",
            "Processing URL: http://images.cocodataset.org/train2017/000000001966.jpg\n"
          ]
        },
        {
          "output_type": "stream",
          "name": "stderr",
          "text": [
            "\rProcessing images:  48%|████▊     | 238/500 [27:28<1:49:55, 25.18s/it]"
          ]
        },
        {
          "output_type": "stream",
          "name": "stdout",
          "text": [
            "Last processed index: 237\n",
            "Processing URL: http://images.cocodataset.org/train2017/000000000488.jpg\n"
          ]
        },
        {
          "output_type": "stream",
          "name": "stderr",
          "text": [
            "\rProcessing images:  48%|████▊     | 239/500 [28:11<2:13:14, 30.63s/it]"
          ]
        },
        {
          "output_type": "stream",
          "name": "stdout",
          "text": [
            "Last processed index: 238\n",
            "Processing URL: http://images.cocodataset.org/train2017/000000001999.jpg\n"
          ]
        },
        {
          "output_type": "stream",
          "name": "stderr",
          "text": [
            "\rProcessing images:  48%|████▊     | 240/500 [28:37<2:07:02, 29.32s/it]"
          ]
        },
        {
          "output_type": "stream",
          "name": "stdout",
          "text": [
            "Last processed index: 239\n",
            "Processing URL: http://images.cocodataset.org/train2017/000000001580.jpg\n"
          ]
        },
        {
          "output_type": "stream",
          "name": "stderr",
          "text": [
            "\rProcessing images:  48%|████▊     | 241/500 [29:08<2:08:12, 29.70s/it]"
          ]
        },
        {
          "output_type": "stream",
          "name": "stdout",
          "text": [
            "Last processed index: 240\n",
            "Processing URL: http://images.cocodataset.org/train2017/000000002089.jpg\n"
          ]
        },
        {
          "output_type": "stream",
          "name": "stderr",
          "text": [
            "\rProcessing images:  48%|████▊     | 242/500 [29:37<2:07:34, 29.67s/it]"
          ]
        },
        {
          "output_type": "stream",
          "name": "stdout",
          "text": [
            "Last processed index: 241\n",
            "Processing URL: http://images.cocodataset.org/train2017/000000000661.jpg\n"
          ]
        },
        {
          "output_type": "stream",
          "name": "stderr",
          "text": [
            "\rProcessing images:  49%|████▊     | 243/500 [30:00<1:57:51, 27.51s/it]"
          ]
        },
        {
          "output_type": "stream",
          "name": "stdout",
          "text": [
            "Last processed index: 242\n",
            "Processing URL: http://images.cocodataset.org/train2017/000000000675.jpg\n"
          ]
        },
        {
          "output_type": "stream",
          "name": "stderr",
          "text": [
            "\rProcessing images:  49%|████▉     | 244/500 [30:23<1:51:52, 26.22s/it]"
          ]
        },
        {
          "output_type": "stream",
          "name": "stdout",
          "text": [
            "Last processed index: 243\n",
            "Processing URL: http://images.cocodataset.org/train2017/000000000113.jpg\n"
          ]
        },
        {
          "output_type": "stream",
          "name": "stderr",
          "text": [
            "\rProcessing images:  49%|████▉     | 245/500 [30:47<1:48:17, 25.48s/it]"
          ]
        },
        {
          "output_type": "stream",
          "name": "stdout",
          "text": [
            "Last processed index: 244\n",
            "Processing URL: http://images.cocodataset.org/train2017/000000001228.jpg\n"
          ]
        },
        {
          "output_type": "stream",
          "name": "stderr",
          "text": [
            "\rProcessing images:  49%|████▉     | 246/500 [31:11<1:46:16, 25.10s/it]"
          ]
        },
        {
          "output_type": "stream",
          "name": "stdout",
          "text": [
            "Last processed index: 245\n",
            "Processing URL: http://images.cocodataset.org/train2017/000000000136.jpg\n"
          ]
        },
        {
          "output_type": "stream",
          "name": "stderr",
          "text": [
            "\rProcessing images:  49%|████▉     | 247/500 [31:36<1:46:11, 25.18s/it]"
          ]
        },
        {
          "output_type": "stream",
          "name": "stdout",
          "text": [
            "Last processed index: 246\n",
            "Processing URL: http://images.cocodataset.org/train2017/000000000650.jpg\n"
          ]
        },
        {
          "output_type": "stream",
          "name": "stderr",
          "text": [
            "\rProcessing images:  50%|████▉     | 248/500 [32:01<1:44:34, 24.90s/it]"
          ]
        },
        {
          "output_type": "stream",
          "name": "stdout",
          "text": [
            "Last processed index: 247\n",
            "Processing URL: http://images.cocodataset.org/train2017/000000001200.jpg\n"
          ]
        },
        {
          "output_type": "stream",
          "name": "stderr",
          "text": [
            "\rProcessing images:  50%|████▉     | 249/500 [32:27<1:45:29, 25.22s/it]"
          ]
        },
        {
          "output_type": "stream",
          "name": "stdout",
          "text": [
            "Last processed index: 248\n",
            "Processing URL: http://images.cocodataset.org/train2017/000000000693.jpg\n"
          ]
        },
        {
          "output_type": "stream",
          "name": "stderr",
          "text": [
            "\rProcessing images:  50%|█████     | 250/500 [32:55<1:48:48, 26.11s/it]"
          ]
        },
        {
          "output_type": "stream",
          "name": "stdout",
          "text": [
            "Last processed index: 249\n",
            "Processing URL: http://images.cocodataset.org/train2017/000000001599.jpg\n"
          ]
        },
        {
          "output_type": "stream",
          "name": "stderr",
          "text": [
            "\rProcessing images:  50%|█████     | 251/500 [33:36<2:07:03, 30.62s/it]"
          ]
        },
        {
          "output_type": "stream",
          "name": "stdout",
          "text": [
            "Last processed index: 250\n",
            "Processing URL: http://images.cocodataset.org/train2017/000000001994.jpg\n"
          ]
        },
        {
          "output_type": "stream",
          "name": "stderr",
          "text": [
            "\rProcessing images:  50%|█████     | 252/500 [33:58<1:55:26, 27.93s/it]"
          ]
        },
        {
          "output_type": "stream",
          "name": "stdout",
          "text": [
            "Last processed index: 251\n",
            "Processing URL: http://images.cocodataset.org/train2017/000000000446.jpg\n"
          ]
        },
        {
          "output_type": "stream",
          "name": "stderr",
          "text": [
            "\rProcessing images:  51%|█████     | 253/500 [34:21<1:49:52, 26.69s/it]"
          ]
        },
        {
          "output_type": "stream",
          "name": "stdout",
          "text": [
            "Last processed index: 252\n",
            "Processing URL: http://images.cocodataset.org/train2017/000000002279.jpg\n"
          ]
        },
        {
          "output_type": "stream",
          "name": "stderr",
          "text": [
            "\rProcessing images:  51%|█████     | 254/500 [34:46<1:47:19, 26.18s/it]"
          ]
        },
        {
          "output_type": "stream",
          "name": "stdout",
          "text": [
            "Last processed index: 253\n",
            "Processing URL: http://images.cocodataset.org/train2017/000000000308.jpg\n"
          ]
        },
        {
          "output_type": "stream",
          "name": "stderr",
          "text": [
            "\rProcessing images:  51%|█████     | 255/500 [35:16<1:51:31, 27.31s/it]"
          ]
        },
        {
          "output_type": "stream",
          "name": "stdout",
          "text": [
            "Last processed index: 254\n",
            "Processing URL: http://images.cocodataset.org/train2017/000000001764.jpg\n"
          ]
        },
        {
          "output_type": "stream",
          "name": "stderr",
          "text": [
            "\rProcessing images:  51%|█████     | 256/500 [35:52<2:01:38, 29.91s/it]"
          ]
        },
        {
          "output_type": "stream",
          "name": "stdout",
          "text": [
            "Last processed index: 255\n",
            "Processing URL: http://images.cocodataset.org/train2017/000000000491.jpg\n"
          ]
        },
        {
          "output_type": "stream",
          "name": "stderr",
          "text": [
            "\rProcessing images:  51%|█████▏    | 257/500 [36:16<1:53:38, 28.06s/it]"
          ]
        },
        {
          "output_type": "stream",
          "name": "stdout",
          "text": [
            "Last processed index: 256\n",
            "Processing URL: http://images.cocodataset.org/train2017/000000001943.jpg\n"
          ]
        },
        {
          "output_type": "stream",
          "name": "stderr",
          "text": [
            "\rProcessing images:  52%|█████▏    | 258/500 [36:51<2:01:08, 30.04s/it]"
          ]
        },
        {
          "output_type": "stream",
          "name": "stdout",
          "text": [
            "Last processed index: 257\n",
            "Processing URL: http://images.cocodataset.org/train2017/000000000532.jpg\n"
          ]
        },
        {
          "output_type": "stream",
          "name": "stderr",
          "text": [
            "\rProcessing images:  52%|█████▏    | 259/500 [37:21<2:01:00, 30.13s/it]"
          ]
        },
        {
          "output_type": "stream",
          "name": "stdout",
          "text": [
            "Last processed index: 258\n",
            "Processing URL: http://images.cocodataset.org/train2017/000000001176.jpg\n"
          ]
        },
        {
          "output_type": "stream",
          "name": "stderr",
          "text": [
            "\rProcessing images:  52%|█████▏    | 260/500 [37:45<1:52:50, 28.21s/it]"
          ]
        },
        {
          "output_type": "stream",
          "name": "stdout",
          "text": [
            "Last processed index: 259\n",
            "Processing URL: http://images.cocodataset.org/train2017/000000000283.jpg\n"
          ]
        },
        {
          "output_type": "stream",
          "name": "stderr",
          "text": [
            "\rProcessing images:  52%|█████▏    | 261/500 [38:06<1:44:03, 26.13s/it]"
          ]
        },
        {
          "output_type": "stream",
          "name": "stdout",
          "text": [
            "Last processed index: 260\n",
            "Processing URL: http://images.cocodataset.org/train2017/000000001837.jpg\n"
          ]
        },
        {
          "output_type": "stream",
          "name": "stderr",
          "text": [
            "\rProcessing images:  52%|█████▏    | 262/500 [38:36<1:48:14, 27.29s/it]"
          ]
        },
        {
          "output_type": "stream",
          "name": "stdout",
          "text": [
            "Last processed index: 261\n",
            "Processing URL: http://images.cocodataset.org/train2017/000000000042.jpg\n"
          ]
        },
        {
          "output_type": "stream",
          "name": "stderr",
          "text": [
            "\rProcessing images:  53%|█████▎    | 263/500 [39:02<1:46:37, 26.99s/it]"
          ]
        },
        {
          "output_type": "stream",
          "name": "stdout",
          "text": [
            "Last processed index: 262\n",
            "Processing URL: http://images.cocodataset.org/train2017/000000000730.jpg\n"
          ]
        },
        {
          "output_type": "stream",
          "name": "stderr",
          "text": [
            "\rProcessing images:  53%|█████▎    | 264/500 [39:34<1:52:12, 28.53s/it]"
          ]
        },
        {
          "output_type": "stream",
          "name": "stdout",
          "text": [
            "Last processed index: 263\n",
            "Processing URL: http://images.cocodataset.org/train2017/000000001360.jpg\n"
          ]
        },
        {
          "output_type": "stream",
          "name": "stderr",
          "text": [
            "\rProcessing images:  53%|█████▎    | 265/500 [40:01<1:48:51, 27.79s/it]"
          ]
        },
        {
          "output_type": "stream",
          "name": "stdout",
          "text": [
            "Last processed index: 264\n",
            "Processing URL: http://images.cocodataset.org/train2017/000000001374.jpg\n"
          ]
        },
        {
          "output_type": "stream",
          "name": "stderr",
          "text": [
            "\rProcessing images:  53%|█████▎    | 266/500 [40:29<1:48:50, 27.91s/it]"
          ]
        },
        {
          "output_type": "stream",
          "name": "stdout",
          "text": [
            "Last processed index: 265\n",
            "Processing URL: http://images.cocodataset.org/train2017/000000000081.jpg\n"
          ]
        },
        {
          "output_type": "stream",
          "name": "stderr",
          "text": [
            "\rProcessing images:  53%|█████▎    | 267/500 [40:50<1:41:02, 26.02s/it]"
          ]
        },
        {
          "output_type": "stream",
          "name": "stdout",
          "text": [
            "Last processed index: 266\n",
            "Processing URL: http://images.cocodataset.org/train2017/000000000902.jpg\n"
          ]
        },
        {
          "output_type": "stream",
          "name": "stderr",
          "text": [
            "\rProcessing images:  54%|█████▎    | 268/500 [41:17<1:41:37, 26.28s/it]"
          ]
        },
        {
          "output_type": "stream",
          "name": "stdout",
          "text": [
            "Last processed index: 267\n",
            "Processing URL: http://images.cocodataset.org/train2017/000000000094.jpg\n"
          ]
        },
        {
          "output_type": "stream",
          "name": "stderr",
          "text": [
            "\rProcessing images:  54%|█████▍    | 269/500 [41:48<1:46:03, 27.55s/it]"
          ]
        },
        {
          "output_type": "stream",
          "name": "stdout",
          "text": [
            "Last processed index: 268\n",
            "Processing URL: http://images.cocodataset.org/train2017/000000001375.jpg\n"
          ]
        },
        {
          "output_type": "stream",
          "name": "stderr",
          "text": [
            "\rProcessing images:  54%|█████▍    | 270/500 [42:14<1:44:10, 27.18s/it]"
          ]
        },
        {
          "output_type": "stream",
          "name": "stdout",
          "text": [
            "Last processed index: 269\n",
            "Processing URL: http://images.cocodataset.org/train2017/000000001407.jpg\n"
          ]
        },
        {
          "output_type": "stream",
          "name": "stderr",
          "text": [
            "\rProcessing images:  54%|█████▍    | 271/500 [42:36<1:37:16, 25.49s/it]"
          ]
        },
        {
          "output_type": "stream",
          "name": "stdout",
          "text": [
            "Last processed index: 270\n",
            "Processing URL: http://images.cocodataset.org/train2017/000000000731.jpg\n"
          ]
        },
        {
          "output_type": "stream",
          "name": "stderr",
          "text": [
            "\rProcessing images:  54%|█████▍    | 272/500 [43:09<1:45:51, 27.86s/it]"
          ]
        },
        {
          "output_type": "stream",
          "name": "stdout",
          "text": [
            "Last processed index: 271\n",
            "Processing URL: http://images.cocodataset.org/train2017/000000001822.jpg\n"
          ]
        },
        {
          "output_type": "stream",
          "name": "stderr",
          "text": [
            "\rProcessing images:  55%|█████▍    | 273/500 [43:37<1:45:24, 27.86s/it]"
          ]
        },
        {
          "output_type": "stream",
          "name": "stdout",
          "text": [
            "Last processed index: 272\n",
            "Processing URL: http://images.cocodataset.org/train2017/000000001611.jpg\n"
          ]
        },
        {
          "output_type": "stream",
          "name": "stderr",
          "text": [
            "\rProcessing images:  55%|█████▍    | 274/500 [44:10<1:50:40, 29.38s/it]"
          ]
        },
        {
          "output_type": "stream",
          "name": "stdout",
          "text": [
            "Last processed index: 273\n",
            "Processing URL: http://images.cocodataset.org/train2017/000000001639.jpg\n"
          ]
        },
        {
          "output_type": "stream",
          "name": "stderr",
          "text": [
            "\rProcessing images:  55%|█████▌    | 275/500 [44:36<1:46:30, 28.40s/it]"
          ]
        },
        {
          "output_type": "stream",
          "name": "stdout",
          "text": [
            "Last processed index: 274\n",
            "Processing URL: http://images.cocodataset.org/train2017/000000000241.jpg\n"
          ]
        },
        {
          "output_type": "stream",
          "name": "stderr",
          "text": [
            "\rProcessing images:  55%|█████▌    | 276/500 [45:02<1:43:48, 27.81s/it]"
          ]
        },
        {
          "output_type": "stream",
          "name": "stdout",
          "text": [
            "Last processed index: 275\n",
            "Processing URL: http://images.cocodataset.org/train2017/000000001942.jpg\n"
          ]
        },
        {
          "output_type": "stream",
          "name": "stderr",
          "text": [
            "\rProcessing images:  55%|█████▌    | 277/500 [45:20<1:31:34, 24.64s/it]"
          ]
        },
        {
          "output_type": "stream",
          "name": "stdout",
          "text": [
            "Last processed index: 276\n",
            "Processing URL: http://images.cocodataset.org/train2017/000000000490.jpg\n"
          ]
        },
        {
          "output_type": "stream",
          "name": "stderr",
          "text": [
            "\rProcessing images:  56%|█████▌    | 278/500 [45:41<1:27:46, 23.72s/it]"
          ]
        },
        {
          "output_type": "stream",
          "name": "stdout",
          "text": [
            "Last processed index: 277\n",
            "Processing URL: http://images.cocodataset.org/train2017/000000001771.jpg\n"
          ]
        },
        {
          "output_type": "stream",
          "name": "stderr",
          "text": [
            "\rProcessing images:  56%|█████▌    | 279/500 [46:08<1:31:19, 24.79s/it]"
          ]
        },
        {
          "output_type": "stream",
          "name": "stdout",
          "text": [
            "Last processed index: 278\n",
            "Processing URL: http://images.cocodataset.org/train2017/000000002278.jpg\n"
          ]
        },
        {
          "output_type": "stream",
          "name": "stderr",
          "text": [
            "\rProcessing images:  56%|█████▌    | 280/500 [46:31<1:28:50, 24.23s/it]"
          ]
        },
        {
          "output_type": "stream",
          "name": "stdout",
          "text": [
            "Last processed index: 279\n",
            "Processing URL: http://images.cocodataset.org/train2017/000000000309.jpg\n"
          ]
        },
        {
          "output_type": "stream",
          "name": "stderr",
          "text": [
            "\rProcessing images:  56%|█████▌    | 281/500 [46:54<1:26:41, 23.75s/it]"
          ]
        },
        {
          "output_type": "stream",
          "name": "stdout",
          "text": [
            "Last processed index: 280\n",
            "Processing URL: http://images.cocodataset.org/train2017/000000000321.jpg\n"
          ]
        },
        {
          "output_type": "stream",
          "name": "stderr",
          "text": [
            "\rProcessing images:  56%|█████▋    | 282/500 [47:15<1:22:56, 22.83s/it]"
          ]
        },
        {
          "output_type": "stream",
          "name": "stdout",
          "text": [
            "Last processed index: 281\n",
            "Processing URL: http://images.cocodataset.org/train2017/000000002244.jpg\n"
          ]
        },
        {
          "output_type": "stream",
          "name": "stderr",
          "text": [
            "\rProcessing images:  57%|█████▋    | 283/500 [47:35<1:20:12, 22.18s/it]"
          ]
        },
        {
          "output_type": "stream",
          "name": "stdout",
          "text": [
            "Last processed index: 282\n",
            "Processing URL: http://images.cocodataset.org/train2017/000000000692.jpg\n"
          ]
        },
        {
          "output_type": "stream",
          "name": "stderr",
          "text": [
            "\rProcessing images:  57%|█████▋    | 284/500 [47:59<1:21:32, 22.65s/it]"
          ]
        },
        {
          "output_type": "stream",
          "name": "stdout",
          "text": [
            "Last processed index: 283\n",
            "Processing URL: http://images.cocodataset.org/train2017/000000001573.jpg\n"
          ]
        },
        {
          "output_type": "stream",
          "name": "stderr",
          "text": [
            "\rProcessing images:  57%|█████▋    | 285/500 [48:24<1:23:56, 23.43s/it]"
          ]
        },
        {
          "output_type": "stream",
          "name": "stdout",
          "text": [
            "Last processed index: 284\n",
            "Processing URL: http://images.cocodataset.org/train2017/000000000109.jpg\n"
          ]
        },
        {
          "output_type": "stream",
          "name": "stderr",
          "text": [
            "\rProcessing images:  57%|█████▋    | 286/500 [49:00<1:36:18, 27.00s/it]"
          ]
        },
        {
          "output_type": "stream",
          "name": "stdout",
          "text": [
            "Last processed index: 285\n",
            "Processing URL: http://images.cocodataset.org/train2017/000000002093.jpg\n"
          ]
        },
        {
          "output_type": "stream",
          "name": "stderr",
          "text": [
            "\rProcessing images:  57%|█████▋    | 287/500 [49:23<1:31:35, 25.80s/it]"
          ]
        },
        {
          "output_type": "stream",
          "name": "stdout",
          "text": [
            "Last processed index: 286\n",
            "Processing URL: http://images.cocodataset.org/train2017/000000000684.jpg\n"
          ]
        },
        {
          "output_type": "stream",
          "name": "stderr",
          "text": [
            "\rProcessing images:  58%|█████▊    | 288/500 [49:43<1:25:24, 24.17s/it]"
          ]
        },
        {
          "output_type": "stream",
          "name": "stdout",
          "text": [
            "Last processed index: 287\n",
            "Processing URL: http://images.cocodataset.org/train2017/000000000690.jpg\n"
          ]
        },
        {
          "output_type": "stream",
          "name": "stderr",
          "text": [
            "\rProcessing images:  58%|█████▊    | 289/500 [50:15<1:33:29, 26.59s/it]"
          ]
        },
        {
          "output_type": "stream",
          "name": "stdout",
          "text": [
            "Last processed index: 288\n",
            "Processing URL: http://images.cocodataset.org/train2017/000000001029.jpg\n"
          ]
        },
        {
          "output_type": "stream",
          "name": "stderr",
          "text": [
            "\rProcessing images:  58%|█████▊    | 290/500 [50:36<1:26:34, 24.74s/it]"
          ]
        },
        {
          "output_type": "stream",
          "name": "stdout",
          "text": [
            "Last processed index: 289\n",
            "Processing URL: http://images.cocodataset.org/train2017/000000001997.jpg\n"
          ]
        },
        {
          "output_type": "stream",
          "name": "stderr",
          "text": [
            "\rProcessing images:  58%|█████▊    | 291/500 [50:59<1:25:01, 24.41s/it]"
          ]
        },
        {
          "output_type": "stream",
          "name": "stdout",
          "text": [
            "Last processed index: 290\n",
            "Processing URL: http://images.cocodataset.org/train2017/000000000486.jpg\n"
          ]
        },
        {
          "output_type": "stream",
          "name": "stderr",
          "text": [
            "\rProcessing images:  58%|█████▊    | 292/500 [51:28<1:28:46, 25.61s/it]"
          ]
        },
        {
          "output_type": "stream",
          "name": "stdout",
          "text": [
            "Last processed index: 291\n",
            "Processing URL: http://images.cocodataset.org/train2017/000000000531.jpg\n"
          ]
        },
        {
          "output_type": "stream",
          "name": "stderr",
          "text": [
            "\rProcessing images:  59%|█████▊    | 293/500 [52:04<1:39:27, 28.83s/it]"
          ]
        },
        {
          "output_type": "stream",
          "name": "stdout",
          "text": [
            "Last processed index: 292\n",
            "Processing URL: http://images.cocodataset.org/train2017/000000001149.jpg\n"
          ]
        },
        {
          "output_type": "stream",
          "name": "stderr",
          "text": [
            "\rProcessing images:  59%|█████▉    | 294/500 [52:37<1:43:04, 30.02s/it]"
          ]
        },
        {
          "output_type": "stream",
          "name": "stdout",
          "text": [
            "Last processed index: 293\n",
            "Processing URL: http://images.cocodataset.org/train2017/000000000257.jpg\n"
          ]
        },
        {
          "output_type": "stream",
          "name": "stderr",
          "text": [
            "\rProcessing images:  59%|█████▉    | 295/500 [53:21<1:57:19, 34.34s/it]"
          ]
        },
        {
          "output_type": "stream",
          "name": "stdout",
          "text": [
            "Last processed index: 294\n",
            "Processing URL: http://images.cocodataset.org/train2017/000000000294.jpg\n"
          ]
        },
        {
          "output_type": "stream",
          "name": "stderr",
          "text": [
            "\rProcessing images:  59%|█████▉    | 296/500 [53:47<1:47:41, 31.68s/it]"
          ]
        },
        {
          "output_type": "stream",
          "name": "stdout",
          "text": [
            "Last processed index: 295\n",
            "Processing URL: http://images.cocodataset.org/train2017/000000002124.jpg\n"
          ]
        },
        {
          "output_type": "stream",
          "name": "stderr",
          "text": [
            "\rProcessing images:  59%|█████▉    | 297/500 [54:23<1:51:23, 32.92s/it]"
          ]
        },
        {
          "output_type": "stream",
          "name": "stdout",
          "text": [
            "Last processed index: 296\n",
            "Processing URL: http://images.cocodataset.org/train2017/000000000901.jpg\n"
          ]
        },
        {
          "output_type": "stream",
          "name": "stderr",
          "text": [
            "\rProcessing images:  60%|█████▉    | 298/500 [54:50<1:45:39, 31.38s/it]"
          ]
        },
        {
          "output_type": "stream",
          "name": "stdout",
          "text": [
            "Last processed index: 297\n",
            "Processing URL: http://images.cocodataset.org/train2017/000000001404.jpg\n"
          ]
        },
        {
          "output_type": "stream",
          "name": "stderr",
          "text": [
            "\rProcessing images:  60%|█████▉    | 299/500 [55:11<1:34:32, 28.22s/it]"
          ]
        },
        {
          "output_type": "stream",
          "name": "stdout",
          "text": [
            "Last processed index: 298\n",
            "Processing URL: http://images.cocodataset.org/train2017/000000001955.jpg\n"
          ]
        },
        {
          "output_type": "stream",
          "name": "stderr",
          "text": [
            "\rProcessing images:  60%|██████    | 300/500 [55:37<1:31:12, 27.36s/it]"
          ]
        },
        {
          "output_type": "stream",
          "name": "stdout",
          "text": [
            "Last processed index: 299\n",
            "Processing URL: http://images.cocodataset.org/train2017/000000002284.jpg\n"
          ]
        },
        {
          "output_type": "stream",
          "name": "stderr",
          "text": [
            "\rProcessing images:  60%|██████    | 301/500 [56:02<1:28:24, 26.66s/it]"
          ]
        },
        {
          "output_type": "stream",
          "name": "stdout",
          "text": [
            "Last processed index: 300\n",
            "Processing URL: http://images.cocodataset.org/train2017/000000002290.jpg\n"
          ]
        },
        {
          "output_type": "stream",
          "name": "stderr",
          "text": [
            "\rProcessing images:  60%|██████    | 302/500 [56:24<1:23:28, 25.29s/it]"
          ]
        },
        {
          "output_type": "stream",
          "name": "stdout",
          "text": [
            "Last processed index: 301\n",
            "Processing URL: http://images.cocodataset.org/train2017/000000001799.jpg\n"
          ]
        },
        {
          "output_type": "stream",
          "name": "stderr",
          "text": [
            "\rProcessing images:  61%|██████    | 303/500 [56:52<1:26:20, 26.30s/it]"
          ]
        },
        {
          "output_type": "stream",
          "name": "stdout",
          "text": [
            "Last processed index: 302\n",
            "Processing URL: http://images.cocodataset.org/train2017/000000001941.jpg\n"
          ]
        },
        {
          "output_type": "stream",
          "name": "stderr",
          "text": [
            "\rProcessing images:  61%|██████    | 304/500 [57:22<1:29:18, 27.34s/it]"
          ]
        },
        {
          "output_type": "stream",
          "name": "stdout",
          "text": [
            "Last processed index: 303\n",
            "Processing URL: http://images.cocodataset.org/train2017/000000001014.jpg\n"
          ]
        },
        {
          "output_type": "stream",
          "name": "stderr",
          "text": [
            "\rProcessing images:  61%|██████    | 305/500 [57:49<1:28:38, 27.28s/it]"
          ]
        },
        {
          "output_type": "stream",
          "name": "stdout",
          "text": [
            "Last processed index: 304\n",
            "Processing URL: http://images.cocodataset.org/train2017/000000000450.jpg\n"
          ]
        },
        {
          "output_type": "stream",
          "name": "stderr",
          "text": [
            "\rProcessing images:  61%|██████    | 306/500 [58:09<1:21:14, 25.13s/it]"
          ]
        },
        {
          "output_type": "stream",
          "name": "stdout",
          "text": [
            "Last processed index: 305\n",
            "Processing URL: http://images.cocodataset.org/train2017/000000000322.jpg\n"
          ]
        },
        {
          "output_type": "stream",
          "name": "stderr",
          "text": [
            "\rProcessing images:  61%|██████▏   | 307/500 [58:33<1:19:12, 24.62s/it]"
          ]
        },
        {
          "output_type": "stream",
          "name": "stdout",
          "text": [
            "Last processed index: 306\n",
            "Processing URL: http://images.cocodataset.org/train2017/000000001216.jpg\n"
          ]
        },
        {
          "output_type": "stream",
          "name": "stderr",
          "text": [
            "\rProcessing images:  62%|██████▏   | 308/500 [59:04<1:24:40, 26.46s/it]"
          ]
        },
        {
          "output_type": "stream",
          "name": "stdout",
          "text": [
            "Last processed index: 307\n",
            "Processing URL: http://images.cocodataset.org/train2017/000000001558.jpg\n"
          ]
        },
        {
          "output_type": "stream",
          "name": "stderr",
          "text": [
            "\rProcessing images:  62%|██████▏   | 309/500 [59:24<1:18:03, 24.52s/it]"
          ]
        },
        {
          "output_type": "stream",
          "name": "stdout",
          "text": [
            "Last processed index: 308\n",
            "Processing URL: http://images.cocodataset.org/train2017/000000002055.jpg\n"
          ]
        },
        {
          "output_type": "stream",
          "name": "stderr",
          "text": [
            "\rProcessing images:  62%|██████▏   | 310/500 [59:43<1:13:14, 23.13s/it]"
          ]
        },
        {
          "output_type": "stream",
          "name": "stdout",
          "text": [
            "Last processed index: 309\n",
            "Processing URL: http://images.cocodataset.org/train2017/000000000656.jpg\n"
          ]
        },
        {
          "output_type": "stream",
          "name": "stderr",
          "text": [
            "\rProcessing images:  62%|██████▏   | 311/500 [1:00:07<1:12:49, 23.12s/it]"
          ]
        },
        {
          "output_type": "stream",
          "name": "stdout",
          "text": [
            "Last processed index: 310\n",
            "Processing URL: http://images.cocodataset.org/train2017/000000001548.jpg\n"
          ]
        },
        {
          "output_type": "stream",
          "name": "stderr",
          "text": [
            "\rProcessing images:  62%|██████▏   | 312/500 [1:00:33<1:15:28, 24.09s/it]"
          ]
        },
        {
          "output_type": "stream",
          "name": "stdout",
          "text": [
            "Last processed index: 311\n",
            "Processing URL: http://images.cocodataset.org/train2017/000000000681.jpg\n"
          ]
        },
        {
          "output_type": "stream",
          "name": "stderr",
          "text": [
            "\rProcessing images:  63%|██████▎   | 313/500 [1:00:55<1:13:22, 23.54s/it]"
          ]
        },
        {
          "output_type": "stream",
          "name": "stdout",
          "text": [
            "Last processed index: 312\n",
            "Processing URL: http://images.cocodataset.org/train2017/000000001762.jpg\n"
          ]
        },
        {
          "output_type": "stream",
          "name": "stderr",
          "text": [
            "\rProcessing images:  63%|██████▎   | 314/500 [1:01:21<1:15:08, 24.24s/it]"
          ]
        },
        {
          "output_type": "stream",
          "name": "stdout",
          "text": [
            "Last processed index: 313\n",
            "Processing URL: http://images.cocodataset.org/train2017/000000000326.jpg\n"
          ]
        },
        {
          "output_type": "stream",
          "name": "stderr",
          "text": [
            "\rProcessing images:  63%|██████▎   | 315/500 [1:01:43<1:12:19, 23.46s/it]"
          ]
        },
        {
          "output_type": "stream",
          "name": "stdout",
          "text": [
            "Last processed index: 314\n",
            "Processing URL: http://images.cocodataset.org/train2017/000000000332.jpg\n"
          ]
        },
        {
          "output_type": "stream",
          "name": "stderr",
          "text": [
            "\rProcessing images:  63%|██████▎   | 316/500 [1:02:05<1:10:45, 23.07s/it]"
          ]
        },
        {
          "output_type": "stream",
          "name": "stdout",
          "text": [
            "Last processed index: 315\n",
            "Processing URL: http://images.cocodataset.org/train2017/000000002280.jpg\n"
          ]
        },
        {
          "output_type": "stream",
          "name": "stderr",
          "text": [
            "\rProcessing images:  63%|██████▎   | 317/500 [1:02:31<1:13:24, 24.07s/it]"
          ]
        },
        {
          "output_type": "stream",
          "name": "stdout",
          "text": [
            "Last processed index: 316\n",
            "Processing URL: http://images.cocodataset.org/train2017/000000000508.jpg\n"
          ]
        },
        {
          "output_type": "stream",
          "name": "stderr",
          "text": [
            "\rProcessing images:  64%|██████▎   | 318/500 [1:03:04<1:20:39, 26.59s/it]"
          ]
        },
        {
          "output_type": "stream",
          "name": "stdout",
          "text": [
            "Last processed index: 317\n",
            "Processing URL: http://images.cocodataset.org/train2017/000000001164.jpg\n"
          ]
        },
        {
          "output_type": "stream",
          "name": "stderr",
          "text": [
            "\rProcessing images:  64%|██████▍   | 319/500 [1:03:36<1:25:50, 28.46s/it]"
          ]
        },
        {
          "output_type": "stream",
          "name": "stdout",
          "text": [
            "Last processed index: 318\n",
            "Processing URL: http://images.cocodataset.org/train2017/000000002445.jpg\n"
          ]
        },
        {
          "output_type": "stream",
          "name": "stderr",
          "text": [
            "\rProcessing images:  64%|██████▍   | 320/500 [1:03:57<1:18:35, 26.20s/it]"
          ]
        },
        {
          "output_type": "stream",
          "name": "stdout",
          "text": [
            "Last processed index: 319\n",
            "Processing URL: http://images.cocodataset.org/train2017/000000000520.jpg\n"
          ]
        },
        {
          "output_type": "stream",
          "name": "stderr",
          "text": [
            "\rProcessing images:  64%|██████▍   | 321/500 [1:04:36<1:29:08, 29.88s/it]"
          ]
        },
        {
          "output_type": "stream",
          "name": "stdout",
          "text": [
            "Last processed index: 320\n",
            "Processing URL: http://images.cocodataset.org/train2017/000000002337.jpg\n"
          ]
        },
        {
          "output_type": "stream",
          "name": "stderr",
          "text": [
            "\rProcessing images:  64%|██████▍   | 322/500 [1:04:57<1:20:52, 27.26s/it]"
          ]
        },
        {
          "output_type": "stream",
          "name": "stdout",
          "text": [
            "Last processed index: 321\n",
            "Processing URL: http://images.cocodataset.org/train2017/000000002451.jpg\n"
          ]
        },
        {
          "output_type": "stream",
          "name": "stderr",
          "text": [
            "\rProcessing images:  65%|██████▍   | 323/500 [1:05:24<1:20:18, 27.22s/it]"
          ]
        },
        {
          "output_type": "stream",
          "name": "stdout",
          "text": [
            "Last processed index: 322\n",
            "Processing URL: http://images.cocodataset.org/train2017/000000000078.jpg\n"
          ]
        },
        {
          "output_type": "stream",
          "name": "stderr",
          "text": [
            "\rProcessing images:  65%|██████▍   | 324/500 [1:05:45<1:14:21, 25.35s/it]"
          ]
        },
        {
          "output_type": "stream",
          "name": "stdout",
          "text": [
            "Last processed index: 323\n",
            "Processing URL: http://images.cocodataset.org/train2017/000000001366.jpg\n"
          ]
        },
        {
          "output_type": "stream",
          "name": "stderr",
          "text": [
            "\rProcessing images:  65%|██████▌   | 325/500 [1:06:15<1:17:34, 26.60s/it]"
          ]
        },
        {
          "output_type": "stream",
          "name": "stdout",
          "text": [
            "Last processed index: 324\n",
            "Processing URL: http://images.cocodataset.org/train2017/000000002135.jpg\n"
          ]
        },
        {
          "output_type": "stream",
          "name": "stderr",
          "text": [
            "\rProcessing images:  65%|██████▌   | 326/500 [1:06:40<1:15:54, 26.17s/it]"
          ]
        },
        {
          "output_type": "stream",
          "name": "stdout",
          "text": [
            "Last processed index: 325\n",
            "Processing URL: http://images.cocodataset.org/train2017/000000000722.jpg\n"
          ]
        },
        {
          "output_type": "stream",
          "name": "stderr",
          "text": [
            "\rProcessing images:  65%|██████▌   | 327/500 [1:07:25<1:31:37, 31.78s/it]"
          ]
        },
        {
          "output_type": "stream",
          "name": "stdout",
          "text": [
            "Last processed index: 326\n",
            "Processing URL: http://images.cocodataset.org/train2017/000000000939.jpg\n"
          ]
        },
        {
          "output_type": "stream",
          "name": "stderr",
          "text": [
            "\rProcessing images:  66%|██████▌   | 328/500 [1:07:50<1:25:43, 29.91s/it]"
          ]
        },
        {
          "output_type": "stream",
          "name": "stdout",
          "text": [
            "Last processed index: 327\n",
            "Processing URL: http://images.cocodataset.org/train2017/000000000086.jpg\n"
          ]
        },
        {
          "output_type": "stream",
          "name": "stderr",
          "text": [
            "\rProcessing images:  66%|██████▌   | 329/500 [1:08:12<1:18:41, 27.61s/it]"
          ]
        },
        {
          "output_type": "stream",
          "name": "stdout",
          "text": [
            "Last processed index: 328\n",
            "Processing URL: http://images.cocodataset.org/train2017/000000001398.jpg\n"
          ]
        },
        {
          "output_type": "stream",
          "name": "stderr",
          "text": [
            "\rProcessing images:  66%|██████▌   | 330/500 [1:08:32<1:11:16, 25.15s/it]"
          ]
        },
        {
          "output_type": "stream",
          "name": "stdout",
          "text": [
            "Last processed index: 329\n",
            "Processing URL: http://images.cocodataset.org/train2017/000000000092.jpg\n"
          ]
        },
        {
          "output_type": "stream",
          "name": "stderr",
          "text": [
            "\rProcessing images:  66%|██████▌   | 331/500 [1:08:54<1:08:32, 24.33s/it]"
          ]
        },
        {
          "output_type": "stream",
          "name": "stdout",
          "text": [
            "Last processed index: 330\n",
            "Processing URL: http://images.cocodataset.org/train2017/000000000723.jpg\n"
          ]
        },
        {
          "output_type": "stream",
          "name": "stderr",
          "text": [
            "\rProcessing images:  66%|██████▋   | 332/500 [1:09:19<1:08:25, 24.44s/it]"
          ]
        },
        {
          "output_type": "stream",
          "name": "stdout",
          "text": [
            "Last processed index: 331\n",
            "Processing URL: http://images.cocodataset.org/train2017/000000001401.jpg\n"
          ]
        },
        {
          "output_type": "stream",
          "name": "stderr",
          "text": [
            "\rProcessing images:  67%|██████▋   | 333/500 [1:09:41<1:05:56, 23.69s/it]"
          ]
        },
        {
          "output_type": "stream",
          "name": "stdout",
          "text": [
            "Last processed index: 332\n",
            "Processing URL: http://images.cocodataset.org/train2017/000000000247.jpg\n"
          ]
        },
        {
          "output_type": "stream",
          "name": "stderr",
          "text": [
            "\rProcessing images:  67%|██████▋   | 334/500 [1:10:14<1:13:34, 26.59s/it]"
          ]
        },
        {
          "output_type": "stream",
          "name": "stdout",
          "text": [
            "Last processed index: 333\n",
            "Processing URL: http://images.cocodataset.org/train2017/000000002444.jpg\n"
          ]
        },
        {
          "output_type": "stream",
          "name": "stderr",
          "text": [
            "\rProcessing images:  67%|██████▋   | 335/500 [1:10:44<1:15:57, 27.62s/it]"
          ]
        },
        {
          "output_type": "stream",
          "name": "stdout",
          "text": [
            "Last processed index: 334\n",
            "Processing URL: http://images.cocodataset.org/train2017/000000001171.jpg\n"
          ]
        },
        {
          "output_type": "stream",
          "name": "stderr",
          "text": [
            "\rProcessing images:  67%|██████▋   | 336/500 [1:11:12<1:15:55, 27.78s/it]"
          ]
        },
        {
          "output_type": "stream",
          "name": "stdout",
          "text": [
            "Last processed index: 335\n",
            "Processing URL: http://images.cocodataset.org/train2017/000000002281.jpg\n"
          ]
        },
        {
          "output_type": "stream",
          "name": "stderr",
          "text": [
            "\rProcessing images:  67%|██████▋   | 337/500 [1:11:35<1:10:58, 26.13s/it]"
          ]
        },
        {
          "output_type": "stream",
          "name": "stdout",
          "text": [
            "Last processed index: 336\n",
            "Processing URL: http://images.cocodataset.org/train2017/000000002295.jpg\n"
          ]
        },
        {
          "output_type": "stream",
          "name": "stderr",
          "text": [
            "\rProcessing images:  68%|██████▊   | 338/500 [1:11:56<1:06:54, 24.78s/it]"
          ]
        },
        {
          "output_type": "stream",
          "name": "stdout",
          "text": [
            "Last processed index: 337\n",
            "Processing URL: http://images.cocodataset.org/train2017/000000001987.jpg\n"
          ]
        },
        {
          "output_type": "stream",
          "name": "stderr",
          "text": [
            "\rProcessing images:  68%|██████▊   | 339/500 [1:12:29<1:12:49, 27.14s/it]"
          ]
        },
        {
          "output_type": "stream",
          "name": "stdout",
          "text": [
            "Last processed index: 338\n",
            "Processing URL: http://images.cocodataset.org/train2017/000000001777.jpg\n"
          ]
        },
        {
          "output_type": "stream",
          "name": "stderr",
          "text": [
            "\rProcessing images:  68%|██████▊   | 340/500 [1:12:55<1:11:08, 26.68s/it]"
          ]
        },
        {
          "output_type": "stream",
          "name": "stdout",
          "text": [
            "Last processed index: 339\n",
            "Processing URL: http://images.cocodataset.org/train2017/000000001011.jpg\n"
          ]
        },
        {
          "output_type": "stream",
          "name": "stderr",
          "text": [
            "\rProcessing images:  68%|██████▊   | 341/500 [1:13:27<1:15:31, 28.50s/it]"
          ]
        },
        {
          "output_type": "stream",
          "name": "stdout",
          "text": [
            "Last processed index: 340\n",
            "Processing URL: http://images.cocodataset.org/train2017/000000002083.jpg\n"
          ]
        },
        {
          "output_type": "stream",
          "name": "stderr",
          "text": [
            "\rProcessing images:  68%|██████▊   | 342/500 [1:13:53<1:12:46, 27.63s/it]"
          ]
        },
        {
          "output_type": "stream",
          "name": "stdout",
          "text": [
            "Last processed index: 341\n",
            "Processing URL: http://images.cocodataset.org/train2017/000000000643.jpg\n"
          ]
        },
        {
          "output_type": "stream",
          "name": "stderr",
          "text": [
            "\rProcessing images:  69%|██████▊   | 343/500 [1:14:22<1:13:18, 28.01s/it]"
          ]
        },
        {
          "output_type": "stream",
          "name": "stdout",
          "text": [
            "Last processed index: 342\n",
            "Processing URL: http://images.cocodataset.org/train2017/000000001213.jpg\n"
          ]
        },
        {
          "output_type": "stream",
          "name": "stderr",
          "text": [
            "\rProcessing images:  69%|██████▉   | 344/500 [1:14:44<1:08:21, 26.29s/it]"
          ]
        },
        {
          "output_type": "stream",
          "name": "stdout",
          "text": [
            "Last processed index: 343\n",
            "Processing URL: http://images.cocodataset.org/train2017/000000001561.jpg\n"
          ]
        },
        {
          "output_type": "stream",
          "name": "stderr",
          "text": [
            "\rProcessing images:  69%|██████▉   | 345/500 [1:15:05<1:03:36, 24.63s/it]"
          ]
        },
        {
          "output_type": "stream",
          "name": "stdout",
          "text": [
            "Last processed index: 344\n",
            "Processing URL: http://images.cocodataset.org/train2017/000000002068.jpg\n"
          ]
        },
        {
          "output_type": "stream",
          "name": "stderr",
          "text": [
            "\rProcessing images:  69%|██████▉   | 346/500 [1:15:26<1:00:24, 23.54s/it]"
          ]
        },
        {
          "output_type": "stream",
          "name": "stdout",
          "text": [
            "Last processed index: 345\n",
            "Processing URL: http://images.cocodataset.org/train2017/000000001577.jpg\n"
          ]
        },
        {
          "output_type": "stream",
          "name": "stderr",
          "text": [
            "\rProcessing images:  69%|██████▉   | 347/500 [1:15:48<59:17, 23.25s/it]  "
          ]
        },
        {
          "output_type": "stream",
          "name": "stdout",
          "text": [
            "Last processed index: 346\n",
            "Processing URL: http://images.cocodataset.org/train2017/000000001205.jpg\n"
          ]
        },
        {
          "output_type": "stream",
          "name": "stderr",
          "text": [
            "\rProcessing images:  70%|██████▉   | 348/500 [1:16:13<59:53, 23.64s/it]"
          ]
        },
        {
          "output_type": "stream",
          "name": "stdout",
          "text": [
            "Last processed index: 347\n",
            "Processing URL: http://images.cocodataset.org/train2017/000000001563.jpg\n"
          ]
        },
        {
          "output_type": "stream",
          "name": "stderr",
          "text": [
            "\rProcessing images:  70%|██████▉   | 349/500 [1:16:37<59:57, 23.83s/it]"
          ]
        },
        {
          "output_type": "stream",
          "name": "stdout",
          "text": [
            "Last processed index: 348\n",
            "Processing URL: http://images.cocodataset.org/train2017/000000000133.jpg\n"
          ]
        },
        {
          "output_type": "stream",
          "name": "stderr",
          "text": [
            "\rProcessing images:  70%|███████   | 350/500 [1:17:04<1:01:44, 24.70s/it]"
          ]
        },
        {
          "output_type": "stream",
          "name": "stdout",
          "text": [
            "Last processed index: 349\n",
            "Processing URL: http://images.cocodataset.org/train2017/000000000127.jpg\n"
          ]
        },
        {
          "output_type": "stream",
          "name": "stderr",
          "text": [
            "\rProcessing images:  70%|███████   | 351/500 [1:17:39<1:08:57, 27.77s/it]"
          ]
        },
        {
          "output_type": "stream",
          "name": "stdout",
          "text": [
            "Last processed index: 350\n",
            "Processing URL: http://images.cocodataset.org/train2017/000000000641.jpg\n"
          ]
        },
        {
          "output_type": "stream",
          "name": "stderr",
          "text": [
            "\rProcessing images:  70%|███████   | 352/500 [1:18:09<1:09:56, 28.35s/it]"
          ]
        },
        {
          "output_type": "stream",
          "name": "stdout",
          "text": [
            "Last processed index: 351\n",
            "Processing URL: http://images.cocodataset.org/train2017/000000002056.jpg\n"
          ]
        },
        {
          "output_type": "stream",
          "name": "stderr",
          "text": [
            "\rProcessing images:  71%|███████   | 353/500 [1:18:39<1:10:38, 28.83s/it]"
          ]
        },
        {
          "output_type": "stream",
          "name": "stdout",
          "text": [
            "Last processed index: 352\n",
            "Processing URL: http://images.cocodataset.org/train2017/000000002240.jpg\n"
          ]
        },
        {
          "output_type": "stream",
          "name": "stderr",
          "text": [
            "\rProcessing images:  71%|███████   | 354/500 [1:19:05<1:08:01, 27.95s/it]"
          ]
        },
        {
          "output_type": "stream",
          "name": "stdout",
          "text": [
            "Last processed index: 353\n",
            "Processing URL: http://images.cocodataset.org/train2017/000000000443.jpg\n"
          ]
        },
        {
          "output_type": "stream",
          "name": "stderr",
          "text": [
            "\rProcessing images:  71%|███████   | 355/500 [1:19:27<1:03:35, 26.31s/it]"
          ]
        },
        {
          "output_type": "stream",
          "name": "stdout",
          "text": [
            "Last processed index: 354\n",
            "Processing URL: http://images.cocodataset.org/train2017/000000002283.jpg\n"
          ]
        },
        {
          "output_type": "stream",
          "name": "stderr",
          "text": [
            "\rProcessing images:  71%|███████   | 356/500 [1:19:50<1:00:47, 25.33s/it]"
          ]
        },
        {
          "output_type": "stream",
          "name": "stdout",
          "text": [
            "Last processed index: 355\n",
            "Processing URL: http://images.cocodataset.org/train2017/000000002446.jpg\n"
          ]
        },
        {
          "output_type": "stream",
          "name": "stderr",
          "text": [
            "\rProcessing images:  71%|███████▏  | 357/500 [1:20:14<59:01, 24.77s/it]  "
          ]
        },
        {
          "output_type": "stream",
          "name": "stdout",
          "text": [
            "Last processed index: 356\n",
            "Processing URL: http://images.cocodataset.org/train2017/000000001403.jpg\n"
          ]
        },
        {
          "output_type": "stream",
          "name": "stderr",
          "text": [
            "\rProcessing images:  72%|███████▏  | 358/500 [1:20:42<1:01:30, 25.99s/it]"
          ]
        },
        {
          "output_type": "stream",
          "name": "stdout",
          "text": [
            "Last processed index: 357\n",
            "Processing URL: http://images.cocodataset.org/train2017/000000001359.jpg\n"
          ]
        },
        {
          "output_type": "stream",
          "name": "stderr",
          "text": [
            "\rProcessing images:  72%|███████▏  | 359/500 [1:21:10<1:02:04, 26.42s/it]"
          ]
        },
        {
          "output_type": "stream",
          "name": "stdout",
          "text": [
            "Last processed index: 358\n",
            "Processing URL: http://images.cocodataset.org/train2017/000000000735.jpg\n"
          ]
        },
        {
          "output_type": "stream",
          "name": "stderr",
          "text": [
            "\rProcessing images:  72%|███████▏  | 360/500 [1:21:33<59:38, 25.56s/it]  "
          ]
        },
        {
          "output_type": "stream",
          "name": "stdout",
          "text": [
            "Last processed index: 359\n",
            "Processing URL: http://images.cocodataset.org/train2017/000000000913.jpg\n"
          ]
        },
        {
          "output_type": "stream",
          "name": "stderr",
          "text": [
            "\rProcessing images:  72%|███████▏  | 361/500 [1:22:03<1:01:44, 26.65s/it]"
          ]
        },
        {
          "output_type": "stream",
          "name": "stdout",
          "text": [
            "Last processed index: 360\n",
            "Processing URL: http://images.cocodataset.org/train2017/000000000536.jpg\n"
          ]
        },
        {
          "output_type": "stream",
          "name": "stderr",
          "text": [
            "\rProcessing images:  72%|███████▏  | 362/500 [1:22:27<59:27, 25.85s/it]  "
          ]
        },
        {
          "output_type": "stream",
          "name": "stdout",
          "text": [
            "Last processed index: 361\n",
            "Processing URL: http://images.cocodataset.org/train2017/000000000250.jpg\n"
          ]
        },
        {
          "output_type": "stream",
          "name": "stderr",
          "text": [
            "\rProcessing images:  73%|███████▎  | 363/500 [1:22:46<54:58, 24.08s/it]"
          ]
        },
        {
          "output_type": "stream",
          "name": "stdout",
          "text": [
            "Last processed index: 362\n",
            "Processing URL: http://images.cocodataset.org/train2017/000000002453.jpg\n"
          ]
        },
        {
          "output_type": "stream",
          "name": "stderr",
          "text": [
            "\rProcessing images:  73%|███████▎  | 364/500 [1:23:16<58:32, 25.82s/it]"
          ]
        },
        {
          "output_type": "stream",
          "name": "stdout",
          "text": [
            "Last processed index: 363\n",
            "Processing URL: http://images.cocodataset.org/train2017/000000001166.jpg\n"
          ]
        },
        {
          "output_type": "stream",
          "name": "stderr",
          "text": [
            "\rProcessing images:  73%|███████▎  | 365/500 [1:23:48<1:02:03, 27.58s/it]"
          ]
        },
        {
          "output_type": "stream",
          "name": "stdout",
          "text": [
            "Last processed index: 364\n",
            "Processing URL: http://images.cocodataset.org/train2017/000000002309.jpg\n"
          ]
        },
        {
          "output_type": "stream",
          "name": "stderr",
          "text": [
            "\rProcessing images:  73%|███████▎  | 366/500 [1:24:18<1:03:00, 28.22s/it]"
          ]
        },
        {
          "output_type": "stream",
          "name": "stdout",
          "text": [
            "Last processed index: 365\n",
            "Processing URL: http://images.cocodataset.org/train2017/000000002296.jpg\n"
          ]
        },
        {
          "output_type": "stream",
          "name": "stderr",
          "text": [
            "\rProcessing images:  73%|███████▎  | 367/500 [1:24:43<1:00:45, 27.41s/it]"
          ]
        },
        {
          "output_type": "stream",
          "name": "stdout",
          "text": [
            "Last processed index: 366\n",
            "Processing URL: http://images.cocodataset.org/train2017/000000001947.jpg\n"
          ]
        },
        {
          "output_type": "stream",
          "name": "stderr",
          "text": [
            "\rProcessing images:  74%|███████▎  | 368/500 [1:25:11<1:00:38, 27.56s/it]"
          ]
        },
        {
          "output_type": "stream",
          "name": "stdout",
          "text": [
            "Last processed index: 367\n",
            "Processing URL: http://images.cocodataset.org/train2017/000000002255.jpg\n"
          ]
        },
        {
          "output_type": "stream",
          "name": "stderr",
          "text": [
            "\rProcessing images:  74%|███████▍  | 369/500 [1:25:35<57:33, 26.37s/it]  "
          ]
        },
        {
          "output_type": "stream",
          "name": "stdout",
          "text": [
            "Last processed index: 368\n",
            "Processing URL: http://images.cocodataset.org/train2017/000000001006.jpg\n"
          ]
        },
        {
          "output_type": "stream",
          "name": "stderr",
          "text": [
            "\rProcessing images:  74%|███████▍  | 370/500 [1:26:00<56:22, 26.02s/it]"
          ]
        },
        {
          "output_type": "stream",
          "name": "stdout",
          "text": [
            "Last processed index: 369\n",
            "Processing URL: http://images.cocodataset.org/train2017/000000001774.jpg\n"
          ]
        },
        {
          "output_type": "stream",
          "name": "stderr",
          "text": [
            "\rProcessing images:  74%|███████▍  | 371/500 [1:26:22<53:31, 24.89s/it]"
          ]
        },
        {
          "output_type": "stream",
          "name": "stdout",
          "text": [
            "Last processed index: 370\n",
            "Processing URL: http://images.cocodataset.org/train2017/000000001589.jpg\n"
          ]
        },
        {
          "output_type": "stream",
          "name": "stderr",
          "text": [
            "\rProcessing images:  74%|███████▍  | 372/500 [1:26:46<52:32, 24.63s/it]"
          ]
        },
        {
          "output_type": "stream",
          "name": "stdout",
          "text": [
            "Last processed index: 371\n",
            "Processing URL: http://images.cocodataset.org/train2017/000000000873.jpg\n"
          ]
        },
        {
          "output_type": "stream",
          "name": "stderr",
          "text": [
            "\rProcessing images:  75%|███████▍  | 373/500 [1:27:14<53:55, 25.48s/it]"
          ]
        },
        {
          "output_type": "stream",
          "name": "stdout",
          "text": [
            "Last processed index: 372\n",
            "Processing URL: http://images.cocodataset.org/train2017/000000001238.jpg\n"
          ]
        },
        {
          "output_type": "stream",
          "name": "stderr",
          "text": [
            "\rProcessing images:  75%|███████▍  | 374/500 [1:27:42<55:31, 26.44s/it]"
          ]
        },
        {
          "output_type": "stream",
          "name": "stdout",
          "text": [
            "Last processed index: 373\n",
            "Processing URL: http://images.cocodataset.org/train2017/000000001204.jpg\n"
          ]
        },
        {
          "output_type": "stream",
          "name": "stderr",
          "text": [
            "\rProcessing images:  75%|███████▌  | 375/500 [1:28:08<54:16, 26.06s/it]"
          ]
        },
        {
          "output_type": "stream",
          "name": "stdout",
          "text": [
            "Last processed index: 374\n",
            "Processing URL: http://images.cocodataset.org/train2017/000000001562.jpg\n"
          ]
        },
        {
          "output_type": "stream",
          "name": "stderr",
          "text": [
            "\rProcessing images:  75%|███████▌  | 376/500 [1:28:42<59:18, 28.70s/it]"
          ]
        },
        {
          "output_type": "stream",
          "name": "stdout",
          "text": [
            "Last processed index: 375\n",
            "Processing URL: http://images.cocodataset.org/train2017/000000002024.jpg\n"
          ]
        },
        {
          "output_type": "stream",
          "name": "stderr",
          "text": [
            "\rProcessing images:  75%|███████▌  | 377/500 [1:29:05<55:09, 26.91s/it]"
          ]
        },
        {
          "output_type": "stream",
          "name": "stdout",
          "text": [
            "Last processed index: 376\n",
            "Processing URL: http://images.cocodataset.org/train2017/000000001505.jpg\n"
          ]
        },
        {
          "output_type": "stream",
          "name": "stderr",
          "text": [
            "\rProcessing images:  76%|███████▌  | 378/500 [1:29:25<50:42, 24.94s/it]"
          ]
        },
        {
          "output_type": "stream",
          "name": "stdout",
          "text": [
            "Last processed index: 377\n",
            "Processing URL: http://images.cocodataset.org/train2017/000000000828.jpg\n"
          ]
        },
        {
          "output_type": "stream",
          "name": "stderr",
          "text": [
            "\rProcessing images:  76%|███████▌  | 379/500 [1:29:54<52:22, 25.98s/it]"
          ]
        },
        {
          "output_type": "stream",
          "name": "stdout",
          "text": [
            "Last processed index: 378\n",
            "Processing URL: http://images.cocodataset.org/train2017/000000000196.jpg\n"
          ]
        },
        {
          "output_type": "stream",
          "name": "stderr",
          "text": [
            "\rProcessing images:  76%|███████▌  | 380/500 [1:30:21<52:31, 26.26s/it]"
          ]
        },
        {
          "output_type": "stream",
          "name": "stdout",
          "text": [
            "Last processed index: 379\n",
            "Processing URL: http://images.cocodataset.org/train2017/000000000357.jpg\n"
          ]
        },
        {
          "output_type": "stream",
          "name": "stderr",
          "text": [
            "\rProcessing images:  76%|███████▌  | 381/500 [1:30:58<58:49, 29.66s/it]"
          ]
        },
        {
          "output_type": "stream",
          "name": "stdout",
          "text": [
            "Last processed index: 380\n",
            "Processing URL: http://images.cocodataset.org/train2017/000000000431.jpg\n"
          ]
        },
        {
          "output_type": "stream",
          "name": "stderr",
          "text": [
            "\rProcessing images:  76%|███████▋  | 382/500 [1:31:24<56:02, 28.50s/it]"
          ]
        },
        {
          "output_type": "stream",
          "name": "stdout",
          "text": [
            "Last processed index: 381\n",
            "Processing URL: http://images.cocodataset.org/train2017/000000002232.jpg\n"
          ]
        },
        {
          "output_type": "stream",
          "name": "stderr",
          "text": [
            "\rProcessing images:  77%|███████▋  | 383/500 [1:31:44<50:32, 25.92s/it]"
          ]
        },
        {
          "output_type": "stream",
          "name": "stdout",
          "text": [
            "Last processed index: 382\n",
            "Processing URL: http://images.cocodataset.org/train2017/000000000419.jpg\n"
          ]
        },
        {
          "output_type": "stream",
          "name": "stderr",
          "text": [
            "\rProcessing images:  77%|███████▋  | 384/500 [1:32:12<51:21, 26.56s/it]"
          ]
        },
        {
          "output_type": "stream",
          "name": "stdout",
          "text": [
            "Last processed index: 383\n",
            "Processing URL: http://images.cocodataset.org/train2017/000000000394.jpg\n"
          ]
        },
        {
          "output_type": "stream",
          "name": "stderr",
          "text": [
            "\rProcessing images:  77%|███████▋  | 385/500 [1:32:32<47:09, 24.61s/it]"
          ]
        },
        {
          "output_type": "stream",
          "name": "stdout",
          "text": [
            "Last processed index: 384\n",
            "Processing URL: http://images.cocodataset.org/train2017/000000002434.jpg\n"
          ]
        },
        {
          "output_type": "stream",
          "name": "stderr",
          "text": [
            "\rProcessing images:  77%|███████▋  | 386/500 [1:33:00<48:18, 25.43s/it]"
          ]
        },
        {
          "output_type": "stream",
          "name": "stdout",
          "text": [
            "Last processed index: 385\n",
            "Processing URL: http://images.cocodataset.org/train2017/000000002346.jpg\n"
          ]
        },
        {
          "output_type": "stream",
          "name": "stderr",
          "text": [
            "\rProcessing images:  77%|███████▋  | 387/500 [1:33:22<46:24, 24.64s/it]"
          ]
        },
        {
          "output_type": "stream",
          "name": "stdout",
          "text": [
            "Last processed index: 386\n",
            "Processing URL: http://images.cocodataset.org/train2017/000000001667.jpg\n"
          ]
        },
        {
          "output_type": "stream",
          "name": "stderr",
          "text": [
            "\rProcessing images:  78%|███████▊  | 388/500 [1:33:45<45:07, 24.18s/it]"
          ]
        },
        {
          "output_type": "stream",
          "name": "stdout",
          "text": [
            "Last processed index: 387\n",
            "Processing URL: http://images.cocodataset.org/train2017/000000001840.jpg\n"
          ]
        },
        {
          "output_type": "stream",
          "name": "stderr",
          "text": [
            "\rProcessing images:  78%|███████▊  | 389/500 [1:34:16<48:27, 26.19s/it]"
          ]
        },
        {
          "output_type": "stream",
          "name": "stdout",
          "text": [
            "Last processed index: 388\n",
            "Processing URL: http://images.cocodataset.org/train2017/000000002150.jpg\n"
          ]
        },
        {
          "output_type": "stream",
          "name": "stderr",
          "text": [
            "\rProcessing images:  78%|███████▊  | 390/500 [1:34:39<46:00, 25.10s/it]"
          ]
        },
        {
          "output_type": "stream",
          "name": "stdout",
          "text": [
            "Last processed index: 389\n",
            "Processing URL: http://images.cocodataset.org/train2017/000000000753.jpg\n"
          ]
        },
        {
          "output_type": "stream",
          "name": "stderr",
          "text": [
            "\rProcessing images:  78%|███████▊  | 391/500 [1:35:01<43:54, 24.17s/it]"
          ]
        },
        {
          "output_type": "stream",
          "name": "stdout",
          "text": [
            "Last processed index: 390\n",
            "Processing URL: http://images.cocodataset.org/train2017/000000000009.jpg\n"
          ]
        },
        {
          "output_type": "stream",
          "name": "stderr",
          "text": [
            "\rProcessing images:  78%|███████▊  | 392/500 [1:35:22<42:07, 23.40s/it]"
          ]
        },
        {
          "output_type": "stream",
          "name": "stdout",
          "text": [
            "Last processed index: 391\n",
            "Processing URL: http://images.cocodataset.org/train2017/000000002178.jpg\n"
          ]
        },
        {
          "output_type": "stream",
          "name": "stderr",
          "text": [
            "\rProcessing images:  79%|███████▊  | 393/500 [1:35:41<39:10, 21.97s/it]"
          ]
        },
        {
          "output_type": "stream",
          "name": "stdout",
          "text": [
            "Last processed index: 392\n",
            "Processing URL: http://images.cocodataset.org/train2017/000000002193.jpg\n"
          ]
        },
        {
          "output_type": "stream",
          "name": "stderr",
          "text": [
            "\rProcessing images:  79%|███████▉  | 394/500 [1:36:03<38:47, 21.96s/it]"
          ]
        },
        {
          "output_type": "stream",
          "name": "stdout",
          "text": [
            "Last processed index: 393\n",
            "Processing URL: http://images.cocodataset.org/train2017/000000000790.jpg\n"
          ]
        },
        {
          "output_type": "stream",
          "name": "stderr",
          "text": [
            "\rProcessing images:  79%|███████▉  | 395/500 [1:36:33<42:37, 24.36s/it]"
          ]
        },
        {
          "output_type": "stream",
          "name": "stdout",
          "text": [
            "Last processed index: 394\n",
            "Processing URL: http://images.cocodataset.org/train2017/000000000960.jpg\n"
          ]
        },
        {
          "output_type": "stream",
          "name": "stderr",
          "text": [
            "\rProcessing images:  79%|███████▉  | 396/500 [1:36:56<41:44, 24.08s/it]"
          ]
        },
        {
          "output_type": "stream",
          "name": "stdout",
          "text": [
            "Last processed index: 395\n",
            "Processing URL: http://images.cocodataset.org/train2017/000000000974.jpg\n"
          ]
        },
        {
          "output_type": "stream",
          "name": "stderr",
          "text": [
            "\rProcessing images:  79%|███████▉  | 397/500 [1:37:21<41:27, 24.15s/it]"
          ]
        },
        {
          "output_type": "stream",
          "name": "stdout",
          "text": [
            "Last processed index: 396\n",
            "Processing URL: http://images.cocodataset.org/train2017/000000002179.jpg\n"
          ]
        },
        {
          "output_type": "stream",
          "name": "stderr",
          "text": [
            "\rProcessing images:  80%|███████▉  | 398/500 [1:37:50<43:39, 25.68s/it]"
          ]
        },
        {
          "output_type": "stream",
          "name": "stdout",
          "text": [
            "Last processed index: 397\n",
            "Processing URL: http://images.cocodataset.org/train2017/000000001464.jpg\n"
          ]
        },
        {
          "output_type": "stream",
          "name": "stderr",
          "text": [
            "\rProcessing images:  80%|███████▉  | 399/500 [1:38:16<43:21, 25.75s/it]"
          ]
        },
        {
          "output_type": "stream",
          "name": "stdout",
          "text": [
            "Last processed index: 398\n",
            "Processing URL: http://images.cocodataset.org/train2017/000000000034.jpg\n"
          ]
        },
        {
          "output_type": "stream",
          "name": "stderr",
          "text": [
            "\rProcessing images:  80%|████████  | 400/500 [1:38:42<42:53, 25.74s/it]"
          ]
        },
        {
          "output_type": "stream",
          "name": "stdout",
          "text": [
            "Last processed index: 399\n",
            "Processing URL: http://images.cocodataset.org/train2017/000000001869.jpg\n"
          ]
        },
        {
          "output_type": "stream",
          "name": "stderr",
          "text": [
            "\rProcessing images:  80%|████████  | 401/500 [1:39:07<42:03, 25.49s/it]"
          ]
        },
        {
          "output_type": "stream",
          "name": "stdout",
          "text": [
            "Last processed index: 400\n",
            "Processing URL: http://images.cocodataset.org/train2017/000000001841.jpg\n"
          ]
        },
        {
          "output_type": "stream",
          "name": "stderr",
          "text": [
            "\rProcessing images:  80%|████████  | 402/500 [1:39:26<38:44, 23.72s/it]"
          ]
        },
        {
          "output_type": "stream",
          "name": "stdout",
          "text": [
            "Last processed index: 401\n",
            "Processing URL: http://images.cocodataset.org/train2017/000000002347.jpg\n"
          ]
        },
        {
          "output_type": "stream",
          "name": "stderr",
          "text": [
            "\rProcessing images:  81%|████████  | 403/500 [1:39:52<39:12, 24.26s/it]"
          ]
        },
        {
          "output_type": "stream",
          "name": "stdout",
          "text": [
            "Last processed index: 402\n",
            "Processing URL: http://images.cocodataset.org/train2017/000000000544.jpg\n"
          ]
        },
        {
          "output_type": "stream",
          "name": "stderr",
          "text": [
            "\rProcessing images:  81%|████████  | 404/500 [1:40:27<44:19, 27.71s/it]"
          ]
        },
        {
          "output_type": "stream",
          "name": "stdout",
          "text": [
            "Last processed index: 403\n",
            "Processing URL: http://images.cocodataset.org/train2017/000000000395.jpg\n"
          ]
        },
        {
          "output_type": "stream",
          "name": "stderr",
          "text": [
            "\rProcessing images:  81%|████████  | 405/500 [1:40:52<42:19, 26.73s/it]"
          ]
        },
        {
          "output_type": "stream",
          "name": "stdout",
          "text": [
            "Last processed index: 404\n",
            "Processing URL: http://images.cocodataset.org/train2017/000000001706.jpg\n"
          ]
        },
        {
          "output_type": "stream",
          "name": "stderr",
          "text": [
            "\rProcessing images:  81%|████████  | 406/500 [1:41:17<41:18, 26.36s/it]"
          ]
        },
        {
          "output_type": "stream",
          "name": "stdout",
          "text": [
            "Last processed index: 405\n",
            "Processing URL: http://images.cocodataset.org/train2017/000000001712.jpg\n"
          ]
        },
        {
          "output_type": "stream",
          "name": "stderr",
          "text": [
            "\rProcessing images:  81%|████████▏ | 407/500 [1:41:49<43:22, 27.99s/it]"
          ]
        },
        {
          "output_type": "stream",
          "name": "stdout",
          "text": [
            "Last processed index: 406\n",
            "Processing URL: http://images.cocodataset.org/train2017/000000000801.jpg\n"
          ]
        },
        {
          "output_type": "stream",
          "name": "stderr",
          "text": [
            "\rProcessing images:  82%|████████▏ | 408/500 [1:42:13<40:56, 26.70s/it]"
          ]
        },
        {
          "output_type": "stream",
          "name": "stdout",
          "text": [
            "Last processed index: 407\n",
            "Processing URL: http://images.cocodataset.org/train2017/000000001510.jpg\n"
          ]
        },
        {
          "output_type": "stream",
          "name": "stderr",
          "text": [
            "\rProcessing images:  82%|████████▏ | 409/500 [1:42:33<37:23, 24.65s/it]"
          ]
        },
        {
          "output_type": "stream",
          "name": "stdout",
          "text": [
            "Last processed index: 408\n",
            "Processing URL: http://images.cocodataset.org/train2017/000000000626.jpg\n"
          ]
        },
        {
          "output_type": "stream",
          "name": "stderr",
          "text": [
            "\rProcessing images:  82%|████████▏ | 410/500 [1:42:53<35:07, 23.42s/it]"
          ]
        },
        {
          "output_type": "stream",
          "name": "stdout",
          "text": [
            "Last processed index: 409\n",
            "Processing URL: http://images.cocodataset.org/train2017/000000000154.jpg\n"
          ]
        },
        {
          "output_type": "stream",
          "name": "stderr",
          "text": [
            "\rProcessing images:  82%|████████▏ | 411/500 [1:43:17<35:00, 23.60s/it]"
          ]
        },
        {
          "output_type": "stream",
          "name": "stdout",
          "text": [
            "Last processed index: 410\n",
            "Processing URL: http://images.cocodataset.org/train2017/000000000142.jpg\n"
          ]
        },
        {
          "output_type": "stream",
          "name": "stderr",
          "text": [
            "\rProcessing images:  82%|████████▏ | 412/500 [1:43:37<33:05, 22.56s/it]"
          ]
        },
        {
          "output_type": "stream",
          "name": "stdout",
          "text": [
            "Last processed index: 411\n",
            "Processing URL: http://images.cocodataset.org/train2017/000000002225.jpg\n"
          ]
        },
        {
          "output_type": "stream",
          "name": "stderr",
          "text": [
            "\rProcessing images:  83%|████████▎ | 413/500 [1:43:59<32:16, 22.25s/it]"
          ]
        },
        {
          "output_type": "stream",
          "name": "stdout",
          "text": [
            "Last processed index: 412\n",
            "Processing URL: http://images.cocodataset.org/train2017/000000000368.jpg\n"
          ]
        },
        {
          "output_type": "stream",
          "name": "stderr",
          "text": [
            "\rProcessing images:  83%|████████▎ | 414/500 [1:44:23<32:35, 22.74s/it]"
          ]
        },
        {
          "output_type": "stream",
          "name": "stdout",
          "text": [
            "Last processed index: 413\n",
            "Processing URL: http://images.cocodataset.org/train2017/000000001089.jpg\n"
          ]
        },
        {
          "output_type": "stream",
          "name": "stderr",
          "text": [
            "\rProcessing images:  83%|████████▎ | 415/500 [1:44:42<30:35, 21.60s/it]"
          ]
        },
        {
          "output_type": "stream",
          "name": "stdout",
          "text": [
            "Last processed index: 414\n",
            "Processing URL: http://images.cocodataset.org/train2017/000000000397.jpg\n"
          ]
        },
        {
          "output_type": "stream",
          "name": "stderr",
          "text": [
            "\rProcessing images:  83%|████████▎ | 416/500 [1:45:03<30:05, 21.49s/it]"
          ]
        },
        {
          "output_type": "stream",
          "name": "stdout",
          "text": [
            "Last processed index: 415\n",
            "Processing URL: http://images.cocodataset.org/train2017/000000000208.jpg\n"
          ]
        },
        {
          "output_type": "stream",
          "name": "stderr",
          "text": [
            "\rProcessing images:  83%|████████▎ | 417/500 [1:45:27<30:48, 22.27s/it]"
          ]
        },
        {
          "output_type": "stream",
          "name": "stdout",
          "text": [
            "Last processed index: 416\n",
            "Processing URL: http://images.cocodataset.org/train2017/000000001670.jpg\n"
          ]
        },
        {
          "output_type": "stream",
          "name": "stderr",
          "text": [
            "\rProcessing images:  84%|████████▎ | 418/500 [1:45:58<34:01, 24.89s/it]"
          ]
        },
        {
          "output_type": "stream",
          "name": "stdout",
          "text": [
            "Last processed index: 417\n",
            "Processing URL: http://images.cocodataset.org/train2017/000000001102.jpg\n"
          ]
        },
        {
          "output_type": "stream",
          "name": "stderr",
          "text": [
            "\rProcessing images:  84%|████████▍ | 419/500 [1:46:21<32:36, 24.16s/it]"
          ]
        },
        {
          "output_type": "stream",
          "name": "stdout",
          "text": [
            "Last processed index: 418\n",
            "Processing URL: http://images.cocodataset.org/train2017/000000000036.jpg\n"
          ]
        },
        {
          "output_type": "stream",
          "name": "stderr",
          "text": [
            "\rProcessing images:  84%|████████▍ | 420/500 [1:46:42<31:08, 23.36s/it]"
          ]
        },
        {
          "output_type": "stream",
          "name": "stdout",
          "text": [
            "Last processed index: 419\n",
            "Processing URL: http://images.cocodataset.org/train2017/000000001472.jpg\n"
          ]
        },
        {
          "output_type": "stream",
          "name": "stderr",
          "text": [
            "\rProcessing images:  84%|████████▍ | 421/500 [1:47:06<30:57, 23.51s/it]"
          ]
        },
        {
          "output_type": "stream",
          "name": "stdout",
          "text": [
            "Last processed index: 420\n",
            "Processing URL: http://images.cocodataset.org/train2017/000000002184.jpg\n"
          ]
        },
        {
          "output_type": "stream",
          "name": "stderr",
          "text": [
            "\rProcessing images:  84%|████████▍ | 422/500 [1:47:39<34:21, 26.43s/it]"
          ]
        },
        {
          "output_type": "stream",
          "name": "stdout",
          "text": [
            "Last processed index: 421\n",
            "Processing URL: http://images.cocodataset.org/train2017/000000000977.jpg\n"
          ]
        },
        {
          "output_type": "stream",
          "name": "stderr",
          "text": [
            "\rProcessing images:  85%|████████▍ | 423/500 [1:48:10<35:36, 27.74s/it]"
          ]
        },
        {
          "output_type": "stream",
          "name": "stdout",
          "text": [
            "Last processed index: 422\n",
            "Processing URL: http://images.cocodataset.org/train2017/000000000962.jpg\n"
          ]
        },
        {
          "output_type": "stream",
          "name": "stderr",
          "text": [
            "\rProcessing images:  85%|████████▍ | 424/500 [1:48:31<32:25, 25.60s/it]"
          ]
        },
        {
          "output_type": "stream",
          "name": "stdout",
          "text": [
            "Last processed index: 423\n",
            "Processing URL: http://images.cocodataset.org/train2017/000000002191.jpg\n"
          ]
        },
        {
          "output_type": "stream",
          "name": "stderr",
          "text": [
            "\rProcessing images:  85%|████████▌ | 425/500 [1:49:04<34:52, 27.90s/it]"
          ]
        },
        {
          "output_type": "stream",
          "name": "stdout",
          "text": [
            "Last processed index: 424\n",
            "Processing URL: http://images.cocodataset.org/train2017/000000001315.jpg\n"
          ]
        },
        {
          "output_type": "stream",
          "name": "stderr",
          "text": [
            "\rProcessing images:  85%|████████▌ | 426/500 [1:49:27<32:46, 26.57s/it]"
          ]
        },
        {
          "output_type": "stream",
          "name": "stdout",
          "text": [
            "Last processed index: 425\n",
            "Processing URL: http://images.cocodataset.org/train2017/000000000584.jpg\n"
          ]
        },
        {
          "output_type": "stream",
          "name": "stderr",
          "text": [
            "\rProcessing images:  85%|████████▌ | 427/500 [1:49:52<31:42, 26.07s/it]"
          ]
        },
        {
          "output_type": "stream",
          "name": "stdout",
          "text": [
            "Last processed index: 426\n",
            "Processing URL: http://images.cocodataset.org/train2017/000000001856.jpg\n"
          ]
        },
        {
          "output_type": "stream",
          "name": "stderr",
          "text": [
            "\rProcessing images:  86%|████████▌ | 428/500 [1:50:16<30:35, 25.49s/it]"
          ]
        },
        {
          "output_type": "stream",
          "name": "stdout",
          "text": [
            "Last processed index: 427\n",
            "Processing URL: http://images.cocodataset.org/train2017/000000000590.jpg\n"
          ]
        },
        {
          "output_type": "stream",
          "name": "stderr",
          "text": [
            "\rProcessing images:  86%|████████▌ | 429/500 [1:50:38<28:41, 24.25s/it]"
          ]
        },
        {
          "output_type": "stream",
          "name": "stdout",
          "text": [
            "Last processed index: 428\n",
            "Processing URL: http://images.cocodataset.org/train2017/000000001103.jpg\n"
          ]
        },
        {
          "output_type": "stream",
          "name": "stderr",
          "text": [
            "\rProcessing images:  86%|████████▌ | 430/500 [1:50:59<27:15, 23.36s/it]"
          ]
        },
        {
          "output_type": "stream",
          "name": "stdout",
          "text": [
            "Last processed index: 429\n",
            "Processing URL: http://images.cocodataset.org/train2017/000000001895.jpg\n"
          ]
        },
        {
          "output_type": "stream",
          "name": "stderr",
          "text": [
            "\rProcessing images:  86%|████████▌ | 431/500 [1:51:23<27:00, 23.49s/it]"
          ]
        },
        {
          "output_type": "stream",
          "name": "stdout",
          "text": [
            "Last processed index: 430\n",
            "Processing URL: http://images.cocodataset.org/train2017/000000000382.jpg\n"
          ]
        },
        {
          "output_type": "stream",
          "name": "stderr",
          "text": [
            "\rProcessing images:  86%|████████▋ | 432/500 [1:51:52<28:27, 25.11s/it]"
          ]
        },
        {
          "output_type": "stream",
          "name": "stdout",
          "text": [
            "Last processed index: 431\n",
            "Processing URL: http://images.cocodataset.org/train2017/000000001063.jpg\n"
          ]
        },
        {
          "output_type": "stream",
          "name": "stderr",
          "text": [
            "\rProcessing images:  87%|████████▋ | 433/500 [1:52:18<28:23, 25.43s/it]"
          ]
        },
        {
          "output_type": "stream",
          "name": "stdout",
          "text": [
            "Last processed index: 432\n",
            "Processing URL: http://images.cocodataset.org/train2017/000000001739.jpg\n"
          ]
        },
        {
          "output_type": "stream",
          "name": "stderr",
          "text": [
            "\rProcessing images:  87%|████████▋ | 434/500 [1:52:44<28:19, 25.75s/it]"
          ]
        },
        {
          "output_type": "stream",
          "name": "stdout",
          "text": [
            "Last processed index: 433\n",
            "Processing URL: http://images.cocodataset.org/train2017/000000000194.jpg\n"
          ]
        },
        {
          "output_type": "stream",
          "name": "stderr",
          "text": [
            "\rProcessing images:  87%|████████▋ | 435/500 [1:53:05<26:07, 24.12s/it]"
          ]
        },
        {
          "output_type": "stream",
          "name": "stdout",
          "text": [
            "Last processed index: 434\n",
            "Processing URL: http://images.cocodataset.org/train2017/000000001507.jpg\n"
          ]
        },
        {
          "output_type": "stream",
          "name": "stderr",
          "text": [
            "\rProcessing images:  87%|████████▋ | 436/500 [1:53:24<24:03, 22.56s/it]"
          ]
        },
        {
          "output_type": "stream",
          "name": "stdout",
          "text": [
            "Last processed index: 435\n",
            "Processing URL: http://images.cocodataset.org/train2017/000000001261.jpg\n"
          ]
        },
        {
          "output_type": "stream",
          "name": "stderr",
          "text": [
            "\rProcessing images:  87%|████████▋ | 437/500 [1:53:43<22:50, 21.76s/it]"
          ]
        },
        {
          "output_type": "stream",
          "name": "stdout",
          "text": [
            "Last processed index: 436\n",
            "Processing URL: http://images.cocodataset.org/train2017/000000000625.jpg\n"
          ]
        },
        {
          "output_type": "stream",
          "name": "stderr",
          "text": [
            "\rProcessing images:  88%|████████▊ | 438/500 [1:54:11<24:14, 23.46s/it]"
          ]
        },
        {
          "output_type": "stream",
          "name": "stdout",
          "text": [
            "Last processed index: 437\n",
            "Processing URL: http://images.cocodataset.org/train2017/000000000143.jpg\n"
          ]
        },
        {
          "output_type": "stream",
          "name": "stderr",
          "text": [
            "\rProcessing images:  88%|████████▊ | 439/500 [1:54:35<24:05, 23.70s/it]"
          ]
        },
        {
          "output_type": "stream",
          "name": "stdout",
          "text": [
            "Last processed index: 438\n",
            "Processing URL: http://images.cocodataset.org/train2017/000000001271.jpg\n"
          ]
        },
        {
          "output_type": "stream",
          "name": "stderr",
          "text": [
            "\rProcessing images:  88%|████████▊ | 440/500 [1:55:00<24:08, 24.15s/it]"
          ]
        },
        {
          "output_type": "stream",
          "name": "stdout",
          "text": [
            "Last processed index: 439\n",
            "Processing URL: http://images.cocodataset.org/train2017/000000001926.jpg\n"
          ]
        },
        {
          "output_type": "stream",
          "name": "stderr",
          "text": [
            "\rProcessing images:  88%|████████▊ | 441/500 [1:55:26<24:20, 24.75s/it]"
          ]
        },
        {
          "output_type": "stream",
          "name": "stdout",
          "text": [
            "Last processed index: 440\n",
            "Processing URL: http://images.cocodataset.org/train2017/000000001098.jpg\n"
          ]
        },
        {
          "output_type": "stream",
          "name": "stderr",
          "text": [
            "\rProcessing images:  88%|████████▊ | 442/500 [1:55:47<22:36, 23.39s/it]"
          ]
        },
        {
          "output_type": "stream",
          "name": "stdout",
          "text": [
            "Last processed index: 441\n",
            "Processing URL: http://images.cocodataset.org/train2017/000000001107.jpg\n"
          ]
        },
        {
          "output_type": "stream",
          "name": "stderr",
          "text": [
            "\rProcessing images:  89%|████████▊ | 443/500 [1:56:15<23:42, 24.96s/it]"
          ]
        },
        {
          "output_type": "stream",
          "name": "stdout",
          "text": [
            "Last processed index: 442\n",
            "Processing URL: http://images.cocodataset.org/train2017/000000001852.jpg\n"
          ]
        },
        {
          "output_type": "stream",
          "name": "stderr",
          "text": [
            "\rProcessing images:  89%|████████▉ | 444/500 [1:56:39<22:56, 24.58s/it]"
          ]
        },
        {
          "output_type": "stream",
          "name": "stdout",
          "text": [
            "Last processed index: 443\n",
            "Processing URL: http://images.cocodataset.org/train2017/000000001311.jpg\n"
          ]
        },
        {
          "output_type": "stream",
          "name": "stderr",
          "text": [
            "\rProcessing images:  89%|████████▉ | 445/500 [1:57:05<22:58, 25.07s/it]"
          ]
        },
        {
          "output_type": "stream",
          "name": "stdout",
          "text": [
            "Last processed index: 444\n",
            "Processing URL: http://images.cocodataset.org/train2017/000000002142.jpg\n"
          ]
        },
        {
          "output_type": "stream",
          "name": "stderr",
          "text": [
            "\rProcessing images:  89%|████████▉ | 446/500 [1:57:33<23:10, 25.75s/it]"
          ]
        },
        {
          "output_type": "stream",
          "name": "stdout",
          "text": [
            "Last processed index: 445\n",
            "Processing URL: http://images.cocodataset.org/train2017/000000000999.jpg\n"
          ]
        },
        {
          "output_type": "stream",
          "name": "stderr",
          "text": [
            "\rProcessing images:  89%|████████▉ | 447/500 [1:57:58<22:47, 25.80s/it]"
          ]
        },
        {
          "output_type": "stream",
          "name": "stdout",
          "text": [
            "Last processed index: 446\n",
            "Processing URL: http://images.cocodataset.org/train2017/000000001488.jpg\n"
          ]
        },
        {
          "output_type": "stream",
          "name": "stderr",
          "text": [
            "\rProcessing images:  90%|████████▉ | 448/500 [1:58:25<22:39, 26.14s/it]"
          ]
        },
        {
          "output_type": "stream",
          "name": "stdout",
          "text": [
            "Last processed index: 447\n",
            "Processing URL: http://images.cocodataset.org/train2017/000000000797.jpg\n"
          ]
        },
        {
          "output_type": "stream",
          "name": "stderr",
          "text": [
            "\rProcessing images:  90%|████████▉ | 449/500 [1:58:54<22:54, 26.94s/it]"
          ]
        },
        {
          "output_type": "stream",
          "name": "stdout",
          "text": [
            "Last processed index: 448\n",
            "Processing URL: http://images.cocodataset.org/train2017/000000000754.jpg\n"
          ]
        },
        {
          "output_type": "stream",
          "name": "stderr",
          "text": [
            "\rProcessing images:  90%|█████████ | 450/500 [1:59:14<20:47, 24.94s/it]"
          ]
        },
        {
          "output_type": "stream",
          "name": "stdout",
          "text": [
            "Last processed index: 449\n",
            "Processing URL: http://images.cocodataset.org/train2017/000000000581.jpg\n"
          ]
        },
        {
          "output_type": "stream",
          "name": "stderr",
          "text": [
            "\rProcessing images:  90%|█████████ | 451/500 [1:59:35<19:20, 23.69s/it]"
          ]
        },
        {
          "output_type": "stream",
          "name": "stdout",
          "text": [
            "Last processed index: 450\n",
            "Processing URL: http://images.cocodataset.org/train2017/000000000595.jpg\n"
          ]
        },
        {
          "output_type": "stream",
          "name": "stderr",
          "text": [
            "\rProcessing images:  90%|█████████ | 452/500 [2:00:01<19:30, 24.39s/it]"
          ]
        },
        {
          "output_type": "stream",
          "name": "stdout",
          "text": [
            "Last processed index: 451\n",
            "Processing URL: http://images.cocodataset.org/train2017/000000000542.jpg\n"
          ]
        },
        {
          "output_type": "stream",
          "name": "stderr",
          "text": [
            "\rProcessing images:  91%|█████████ | 453/500 [2:00:30<20:10, 25.75s/it]"
          ]
        },
        {
          "output_type": "stream",
          "name": "stdout",
          "text": [
            "Last processed index: 452\n",
            "Processing URL: http://images.cocodataset.org/train2017/000000002369.jpg\n"
          ]
        },
        {
          "output_type": "stream",
          "name": "stderr",
          "text": [
            "\rProcessing images:  91%|█████████ | 454/500 [2:01:16<24:21, 31.77s/it]"
          ]
        },
        {
          "output_type": "stream",
          "name": "stdout",
          "text": [
            "Last processed index: 453\n",
            "Processing URL: http://images.cocodataset.org/train2017/000000001674.jpg\n"
          ]
        },
        {
          "output_type": "stream",
          "name": "stderr",
          "text": [
            "\rProcessing images:  91%|█████████ | 455/500 [2:01:39<21:55, 29.23s/it]"
          ]
        },
        {
          "output_type": "stream",
          "name": "stdout",
          "text": [
            "Last processed index: 454\n",
            "Processing URL: http://images.cocodataset.org/train2017/000000000387.jpg\n"
          ]
        },
        {
          "output_type": "stream",
          "name": "stderr",
          "text": [
            "\rProcessing images:  91%|█████████ | 456/500 [2:02:03<20:07, 27.44s/it]"
          ]
        },
        {
          "output_type": "stream",
          "name": "stdout",
          "text": [
            "Last processed index: 455\n",
            "Processing URL: http://images.cocodataset.org/train2017/000000001099.jpg\n"
          ]
        },
        {
          "output_type": "stream",
          "name": "stderr",
          "text": [
            "\rProcessing images:  91%|█████████▏| 457/500 [2:02:27<18:56, 26.44s/it]"
          ]
        },
        {
          "output_type": "stream",
          "name": "stdout",
          "text": [
            "Last processed index: 456\n",
            "Processing URL: http://images.cocodataset.org/train2017/000000000436.jpg\n"
          ]
        },
        {
          "output_type": "stream",
          "name": "stderr",
          "text": [
            "\rProcessing images:  92%|█████████▏| 458/500 [2:02:48<17:29, 24.98s/it]"
          ]
        },
        {
          "output_type": "stream",
          "name": "stdout",
          "text": [
            "Last processed index: 457\n",
            "Processing URL: http://images.cocodataset.org/train2017/000000002235.jpg\n"
          ]
        },
        {
          "output_type": "stream",
          "name": "stderr",
          "text": [
            "\rProcessing images:  92%|█████████▏| 459/500 [2:03:12<16:49, 24.63s/it]"
          ]
        },
        {
          "output_type": "stream",
          "name": "stdout",
          "text": [
            "Last processed index: 458\n",
            "Processing URL: http://images.cocodataset.org/train2017/000000001072.jpg\n"
          ]
        },
        {
          "output_type": "stream",
          "name": "stderr",
          "text": [
            "\rProcessing images:  92%|█████████▏| 460/500 [2:03:44<17:54, 26.87s/it]"
          ]
        },
        {
          "output_type": "stream",
          "name": "stdout",
          "text": [
            "Last processed index: 459\n",
            "Processing URL: http://images.cocodataset.org/train2017/000000001700.jpg\n"
          ]
        },
        {
          "output_type": "stream",
          "name": "stderr",
          "text": [
            "\rProcessing images:  92%|█████████▏| 461/500 [2:04:11<17:31, 26.97s/it]"
          ]
        },
        {
          "output_type": "stream",
          "name": "stdout",
          "text": [
            "Last processed index: 460\n",
            "Processing URL: http://images.cocodataset.org/train2017/000000002209.jpg\n"
          ]
        },
        {
          "output_type": "stream",
          "name": "stderr",
          "text": [
            "\rProcessing images:  92%|█████████▏| 462/500 [2:04:38<16:57, 26.77s/it]"
          ]
        },
        {
          "output_type": "stream",
          "name": "stdout",
          "text": [
            "Last processed index: 461\n",
            "Processing URL: http://images.cocodataset.org/train2017/000000000813.jpg\n"
          ]
        },
        {
          "output_type": "stream",
          "name": "stderr",
          "text": [
            "\rProcessing images:  93%|█████████▎| 463/500 [2:05:04<16:27, 26.68s/it]"
          ]
        },
        {
          "output_type": "stream",
          "name": "stdout",
          "text": [
            "Last processed index: 462\n",
            "Processing URL: http://images.cocodataset.org/train2017/000000000634.jpg\n"
          ]
        },
        {
          "output_type": "stream",
          "name": "stderr",
          "text": [
            "\rProcessing images:  93%|█████████▎| 464/500 [2:05:29<15:43, 26.20s/it]"
          ]
        },
        {
          "output_type": "stream",
          "name": "stdout",
          "text": [
            "Last processed index: 463\n",
            "Processing URL: http://images.cocodataset.org/train2017/000000000620.jpg\n"
          ]
        },
        {
          "output_type": "stream",
          "name": "stderr",
          "text": [
            "\rProcessing images:  93%|█████████▎| 465/500 [2:05:50<14:23, 24.68s/it]"
          ]
        },
        {
          "output_type": "stream",
          "name": "stdout",
          "text": [
            "Last processed index: 464\n",
            "Processing URL: http://images.cocodataset.org/train2017/000000001270.jpg\n"
          ]
        },
        {
          "output_type": "stream",
          "name": "stderr",
          "text": [
            "\rProcessing images:  93%|█████████▎| 466/500 [2:06:19<14:44, 26.01s/it]"
          ]
        },
        {
          "output_type": "stream",
          "name": "stdout",
          "text": [
            "Last processed index: 465\n",
            "Processing URL: http://images.cocodataset.org/train2017/000000001264.jpg\n"
          ]
        },
        {
          "output_type": "stream",
          "name": "stderr",
          "text": [
            "\rProcessing images:  93%|█████████▎| 467/500 [2:06:44<14:05, 25.62s/it]"
          ]
        },
        {
          "output_type": "stream",
          "name": "stdout",
          "text": [
            "Last processed index: 466\n",
            "Processing URL: http://images.cocodataset.org/train2017/000000000636.jpg\n"
          ]
        },
        {
          "output_type": "stream",
          "name": "stderr",
          "text": [
            "\rProcessing images:  94%|█████████▎| 468/500 [2:07:03<12:34, 23.59s/it]"
          ]
        },
        {
          "output_type": "stream",
          "name": "stdout",
          "text": [
            "Last processed index: 467\n",
            "Processing URL: http://images.cocodataset.org/train2017/000000000144.jpg\n"
          ]
        },
        {
          "output_type": "stream",
          "name": "stderr",
          "text": [
            "\rProcessing images:  94%|█████████▍| 469/500 [2:07:28<12:25, 24.04s/it]"
          ]
        },
        {
          "output_type": "stream",
          "name": "stdout",
          "text": [
            "Last processed index: 468\n",
            "Processing URL: http://images.cocodataset.org/train2017/000000000839.jpg\n"
          ]
        },
        {
          "output_type": "stream",
          "name": "stderr",
          "text": [
            "\rProcessing images:  94%|█████████▍| 470/500 [2:07:53<12:12, 24.41s/it]"
          ]
        },
        {
          "output_type": "stream",
          "name": "stdout",
          "text": [
            "Last processed index: 469\n",
            "Processing URL: http://images.cocodataset.org/train2017/000000001064.jpg\n"
          ]
        },
        {
          "output_type": "stream",
          "name": "stderr",
          "text": [
            "\rProcessing images:  94%|█████████▍| 471/500 [2:08:17<11:36, 24.02s/it]"
          ]
        },
        {
          "output_type": "stream",
          "name": "stdout",
          "text": [
            "Last processed index: 470\n",
            "Processing URL: http://images.cocodataset.org/train2017/000000000540.jpg\n"
          ]
        },
        {
          "output_type": "stream",
          "name": "stderr",
          "text": [
            "\rProcessing images:  94%|█████████▍| 472/500 [2:09:03<14:21, 30.76s/it]"
          ]
        },
        {
          "output_type": "stream",
          "name": "stdout",
          "text": [
            "Last processed index: 471\n",
            "Processing URL: http://images.cocodataset.org/train2017/000000001138.jpg\n"
          ]
        },
        {
          "output_type": "stream",
          "name": "stderr",
          "text": [
            "\rProcessing images:  95%|█████████▍| 473/500 [2:09:32<13:33, 30.12s/it]"
          ]
        },
        {
          "output_type": "stream",
          "name": "stdout",
          "text": [
            "Last processed index: 472\n",
            "Processing URL: http://images.cocodataset.org/train2017/000000000597.jpg\n"
          ]
        },
        {
          "output_type": "stream",
          "name": "stderr",
          "text": [
            "\rProcessing images:  95%|█████████▍| 474/500 [2:10:20<15:28, 35.70s/it]"
          ]
        },
        {
          "output_type": "stream",
          "name": "stdout",
          "text": [
            "Last processed index: 473\n",
            "Processing URL: http://images.cocodataset.org/train2017/000000001306.jpg\n"
          ]
        },
        {
          "output_type": "stream",
          "name": "stderr",
          "text": [
            "\rProcessing images:  95%|█████████▌| 475/500 [2:10:47<13:45, 33.02s/it]"
          ]
        },
        {
          "output_type": "stream",
          "name": "stdout",
          "text": [
            "Last processed index: 474\n",
            "Processing URL: http://images.cocodataset.org/train2017/000000001448.jpg\n"
          ]
        },
        {
          "output_type": "stream",
          "name": "stderr",
          "text": [
            "\rProcessing images:  95%|█████████▌| 476/500 [2:11:07<11:37, 29.07s/it]"
          ]
        },
        {
          "output_type": "stream",
          "name": "stdout",
          "text": [
            "Last processed index: 475\n",
            "Processing URL: http://images.cocodataset.org/train2017/000000000030.jpg\n"
          ]
        },
        {
          "output_type": "stream",
          "name": "stderr",
          "text": [
            "\rProcessing images:  95%|█████████▌| 477/500 [2:11:32<10:40, 27.86s/it]"
          ]
        },
        {
          "output_type": "stream",
          "name": "stdout",
          "text": [
            "Last processed index: 476\n",
            "Processing URL: http://images.cocodataset.org/train2017/000000000965.jpg\n"
          ]
        },
        {
          "output_type": "stream",
          "name": "stderr",
          "text": [
            "\rProcessing images:  96%|█████████▌| 478/500 [2:11:55<09:38, 26.30s/it]"
          ]
        },
        {
          "output_type": "stream",
          "name": "stdout",
          "text": [
            "Last processed index: 477\n",
            "Processing URL: http://images.cocodataset.org/train2017/000000000781.jpg\n"
          ]
        },
        {
          "output_type": "stream",
          "name": "stderr",
          "text": [
            "\rProcessing images:  96%|█████████▌| 479/500 [2:12:26<09:41, 27.70s/it]"
          ]
        },
        {
          "output_type": "stream",
          "name": "stdout",
          "text": [
            "Last processed index: 478\n",
            "Processing URL: http://images.cocodataset.org/train2017/000000000795.jpg\n"
          ]
        },
        {
          "output_type": "stream",
          "name": "stderr",
          "text": [
            "\rProcessing images:  96%|█████████▌| 480/500 [2:12:52<09:08, 27.42s/it]"
          ]
        },
        {
          "output_type": "stream",
          "name": "stdout",
          "text": [
            "Last processed index: 479\n",
            "Processing URL: http://images.cocodataset.org/train2017/000000002197.jpg\n"
          ]
        },
        {
          "output_type": "stream",
          "name": "stderr",
          "text": [
            "\rProcessing images:  96%|█████████▌| 481/500 [2:13:16<08:17, 26.20s/it]"
          ]
        },
        {
          "output_type": "stream",
          "name": "stdout",
          "text": [
            "Last processed index: 480\n",
            "Processing URL: http://images.cocodataset.org/train2017/000000000757.jpg\n"
          ]
        },
        {
          "output_type": "stream",
          "name": "stderr",
          "text": [
            "\rProcessing images:  96%|█████████▋| 482/500 [2:13:38<07:30, 25.02s/it]"
          ]
        },
        {
          "output_type": "stream",
          "name": "stdout",
          "text": [
            "Last processed index: 481\n",
            "Processing URL: http://images.cocodataset.org/train2017/000000000025.jpg\n"
          ]
        },
        {
          "output_type": "stream",
          "name": "stderr",
          "text": [
            "\rProcessing images:  97%|█████████▋| 483/500 [2:14:05<07:15, 25.64s/it]"
          ]
        },
        {
          "output_type": "stream",
          "name": "stdout",
          "text": [
            "Last processed index: 482\n",
            "Processing URL: http://images.cocodataset.org/train2017/000000002154.jpg\n"
          ]
        },
        {
          "output_type": "stream",
          "name": "stderr",
          "text": [
            "\rProcessing images:  97%|█████████▋| 484/500 [2:14:36<07:17, 27.34s/it]"
          ]
        },
        {
          "output_type": "stream",
          "name": "stdout",
          "text": [
            "Last processed index: 483\n",
            "Processing URL: http://images.cocodataset.org/train2017/000000001307.jpg\n"
          ]
        },
        {
          "output_type": "stream",
          "name": "stderr",
          "text": [
            "\rProcessing images:  97%|█████████▋| 485/500 [2:15:00<06:32, 26.19s/it]"
          ]
        },
        {
          "output_type": "stream",
          "name": "stdout",
          "text": [
            "Last processed index: 484\n",
            "Processing URL: http://images.cocodataset.org/train2017/000000001688.jpg\n"
          ]
        },
        {
          "output_type": "stream",
          "name": "stderr",
          "text": [
            "\rProcessing images:  97%|█████████▋| 486/500 [2:15:23<05:52, 25.20s/it]"
          ]
        },
        {
          "output_type": "stream",
          "name": "stdout",
          "text": [
            "Last processed index: 485\n",
            "Processing URL: http://images.cocodataset.org/train2017/000000002342.jpg\n"
          ]
        },
        {
          "output_type": "stream",
          "name": "stderr",
          "text": [
            "\rProcessing images:  97%|█████████▋| 487/500 [2:15:55<05:55, 27.35s/it]"
          ]
        },
        {
          "output_type": "stream",
          "name": "stdout",
          "text": [
            "Last processed index: 486\n",
            "Processing URL: http://images.cocodataset.org/train2017/000000001139.jpg\n"
          ]
        },
        {
          "output_type": "stream",
          "name": "stderr",
          "text": [
            "\rProcessing images:  98%|█████████▊| 488/500 [2:16:16<05:03, 25.27s/it]"
          ]
        },
        {
          "output_type": "stream",
          "name": "stdout",
          "text": [
            "Last processed index: 487\n",
            "Processing URL: http://images.cocodataset.org/train2017/000000001111.jpg\n"
          ]
        },
        {
          "output_type": "stream",
          "name": "stderr",
          "text": [
            "\rProcessing images:  98%|█████████▊| 489/500 [2:16:46<04:54, 26.73s/it]"
          ]
        },
        {
          "output_type": "stream",
          "name": "stdout",
          "text": [
            "Last processed index: 488\n",
            "Processing URL: http://images.cocodataset.org/train2017/000000000569.jpg\n"
          ]
        },
        {
          "output_type": "stream",
          "name": "stderr",
          "text": [
            "\rProcessing images:  98%|█████████▊| 490/500 [2:17:13<04:29, 26.98s/it]"
          ]
        },
        {
          "output_type": "stream",
          "name": "stdout",
          "text": [
            "Last processed index: 489\n",
            "Processing URL: http://images.cocodataset.org/train2017/000000000384.jpg\n"
          ]
        },
        {
          "output_type": "stream",
          "name": "stderr",
          "text": [
            "\rProcessing images:  98%|█████████▊| 491/500 [2:17:37<03:54, 26.02s/it]"
          ]
        },
        {
          "output_type": "stream",
          "name": "stdout",
          "text": [
            "Last processed index: 490\n",
            "Processing URL: http://images.cocodataset.org/train2017/000000001924.jpg\n"
          ]
        },
        {
          "output_type": "stream",
          "name": "stderr",
          "text": [
            "\rProcessing images:  98%|█████████▊| 492/500 [2:18:03<03:27, 25.98s/it]"
          ]
        },
        {
          "output_type": "stream",
          "name": "stdout",
          "text": [
            "Last processed index: 491\n",
            "Processing URL: http://images.cocodataset.org/train2017/000000001059.jpg\n"
          ]
        },
        {
          "output_type": "stream",
          "name": "stderr",
          "text": [
            "\rProcessing images:  99%|█████████▊| 493/500 [2:18:25<02:53, 24.76s/it]"
          ]
        },
        {
          "output_type": "stream",
          "name": "stdout",
          "text": [
            "Last processed index: 492\n",
            "Processing URL: http://images.cocodataset.org/train2017/000000001298.jpg\n"
          ]
        },
        {
          "output_type": "stream",
          "name": "stderr",
          "text": [
            "\rProcessing images:  99%|█████████▉| 494/500 [2:18:53<02:35, 25.92s/it]"
          ]
        },
        {
          "output_type": "stream",
          "name": "stdout",
          "text": [
            "Last processed index: 493\n",
            "Processing URL: http://images.cocodataset.org/train2017/000000000192.jpg\n"
          ]
        },
        {
          "output_type": "stream",
          "name": "stderr",
          "text": [
            "\rProcessing images:  99%|█████████▉| 495/500 [2:19:17<02:05, 25.11s/it]"
          ]
        },
        {
          "output_type": "stream",
          "name": "stdout",
          "text": [
            "Last processed index: 494\n",
            "Processing URL: http://images.cocodataset.org/train2017/000000000810.jpg\n"
          ]
        },
        {
          "output_type": "stream",
          "name": "stderr",
          "text": [
            "\rProcessing images:  99%|█████████▉| 496/500 [2:19:41<01:39, 24.98s/it]"
          ]
        },
        {
          "output_type": "stream",
          "name": "stdout",
          "text": [
            "Last processed index: 495\n",
            "Processing URL: http://images.cocodataset.org/train2017/000000000623.jpg\n"
          ]
        },
        {
          "output_type": "stream",
          "name": "stderr",
          "text": [
            "\rProcessing images:  99%|█████████▉| 497/500 [2:20:01<01:10, 23.42s/it]"
          ]
        },
        {
          "output_type": "stream",
          "name": "stdout",
          "text": [
            "Last processed index: 496\n",
            "Processing URL: http://images.cocodataset.org/train2017/000000000151.jpg\n"
          ]
        },
        {
          "output_type": "stream",
          "name": "stderr",
          "text": [
            "\rProcessing images: 100%|█████████▉| 498/500 [2:20:25<00:46, 23.43s/it]"
          ]
        },
        {
          "output_type": "stream",
          "name": "stdout",
          "text": [
            "Last processed index: 497\n",
            "Processing URL: http://images.cocodataset.org/train2017/000000001501.jpg\n"
          ]
        },
        {
          "output_type": "stream",
          "name": "stderr",
          "text": [
            "\rProcessing images: 100%|█████████▉| 499/500 [2:20:56<00:25, 25.70s/it]"
          ]
        },
        {
          "output_type": "stream",
          "name": "stdout",
          "text": [
            "Last processed index: 498\n",
            "Processing URL: http://images.cocodataset.org/train2017/000000001515.jpg\n"
          ]
        },
        {
          "output_type": "stream",
          "name": "stderr",
          "text": [
            "Processing images: 100%|██████████| 500/500 [2:21:21<00:00, 26.10s/it]"
          ]
        },
        {
          "output_type": "stream",
          "name": "stdout",
          "text": [
            "Last processed index: 499\n",
            "Agreement Rate between LXMERT and Quantized LXMERT: 0.928\n",
            "Average Confidence of LXMERT: 0.4169857744425535\n",
            "Average Confidence of Quantized LXMERT: 0.4085476371981204\n"
          ]
        },
        {
          "output_type": "stream",
          "name": "stderr",
          "text": [
            "\n"
          ]
        }
      ]
    },
    {
      "cell_type": "markdown",
      "source": [
        "printing results"
      ],
      "metadata": {
        "id": "rpnpUlix3myW"
      }
    },
    {
      "cell_type": "code",
      "source": [
        "import pandas as pd\n",
        "from IPython.display import display, HTML\n",
        "\n",
        "with open(pickle_path, \"rb\") as f:\n",
        "    data = pickle.load(f)\n",
        "\n",
        "# Convert the dictionary to a DataFrame\n",
        "df = pd.DataFrame({\n",
        "    \"LXMERT Predictions\": data[\"lxmert_predictions\"],\n",
        "    \"Quantized Predictions\": data[\"quantized_predictions\"],\n",
        "    \"LXMERT Confidences\": data[\"lxmert_confidences\"],\n",
        "    \"Quantized Confidences\": data[\"quantized_confidences\"],\n",
        "})\n",
        "\n",
        "# Set the base URL\n",
        "URL = \"http://images.cocodataset.org/train2017/\"\n",
        "# Ensure 'images' column is assigned from list1\n",
        "df['images'] = list1\n",
        "# Append the URL prefix to each element in the 'images' column\n",
        "df['images'] = URL + df['images'].astype(str)\n",
        "\n",
        "\n",
        "df['LXMERT Prediction Answer'] = df['LXMERT Predictions'].apply(\n",
        "    lambda x: gqa_answers[x] if isinstance(x, int) else \"Unknown\"\n",
        ")\n",
        "\n",
        "df['Quantized Prediction Answer'] = df['Quantized Predictions'].apply(\n",
        "    lambda x: gqa_answers[x] if isinstance(x, int) else \"Unknown\"\n",
        ")\n",
        "print('total: ', df.shape)\n",
        "# Filter rows where there is a disagreement between the predictions\n",
        "disagreement_df = df[df[\"LXMERT Predictions\"] != df[\"Quantized Predictions\"]]\n",
        "print(\"diagreement: \", disagreement_df.shape)\n",
        "# Display the filtered DataFrame in a scrollable table\n",
        "html = \"\"\"\n",
        "<div style=\"overflow-y: scroll; height: 400px; border: 1px solid lightgray; width: 100%; display: inline-block;\">\n",
        "    {table}\n",
        "</div>\n",
        "\"\"\".format(table=disagreement_df.to_html(index=False, max_rows=None))\n",
        "\n",
        "display(HTML(html))"
      ],
      "metadata": {
        "id": "es_kBF0fn-a1",
        "colab": {
          "base_uri": "https://localhost:8080/",
          "height": 479
        },
        "outputId": "3511c58b-cd34-46b5-cd59-51fb835e00be"
      },
      "execution_count": null,
      "outputs": [
        {
          "output_type": "stream",
          "name": "stdout",
          "text": [
            "total:  (500, 7)\n",
            "diagreement:  (36, 7)\n"
          ]
        },
        {
          "output_type": "display_data",
          "data": {
            "text/plain": [
              "<IPython.core.display.HTML object>"
            ],
            "text/html": [
              "\n",
              "<div style=\"overflow-y: scroll; height: 400px; border: 1px solid lightgray; width: 100%; display: inline-block;\">\n",
              "    <table border=\"1\" class=\"dataframe\">\n",
              "  <thead>\n",
              "    <tr style=\"text-align: right;\">\n",
              "      <th>LXMERT Predictions</th>\n",
              "      <th>Quantized Predictions</th>\n",
              "      <th>LXMERT Confidences</th>\n",
              "      <th>Quantized Confidences</th>\n",
              "      <th>images</th>\n",
              "      <th>LXMERT Prediction Answer</th>\n",
              "      <th>Quantized Prediction Answer</th>\n",
              "    </tr>\n",
              "  </thead>\n",
              "  <tbody>\n",
              "    <tr>\n",
              "      <td>937</td>\n",
              "      <td>931</td>\n",
              "      <td>0.205242</td>\n",
              "      <td>0.150264</td>\n",
              "      <td>http://images.cocodataset.org/train2017/000000000599.jpg</td>\n",
              "      <td>remote control</td>\n",
              "      <td>couch</td>\n",
              "    </tr>\n",
              "    <tr>\n",
              "      <td>129</td>\n",
              "      <td>1260</td>\n",
              "      <td>0.186951</td>\n",
              "      <td>0.172589</td>\n",
              "      <td>http://images.cocodataset.org/train2017/000000001085.jpg</td>\n",
              "      <td>blanket</td>\n",
              "      <td>bed</td>\n",
              "    </tr>\n",
              "    <tr>\n",
              "      <td>366</td>\n",
              "      <td>391</td>\n",
              "      <td>0.084725</td>\n",
              "      <td>0.069642</td>\n",
              "      <td>http://images.cocodataset.org/train2017/000000000359.jpg</td>\n",
              "      <td>traffic lights</td>\n",
              "      <td>power lines</td>\n",
              "    </tr>\n",
              "    <tr>\n",
              "      <td>72</td>\n",
              "      <td>1690</td>\n",
              "      <td>0.052453</td>\n",
              "      <td>0.058017</td>\n",
              "      <td>http://images.cocodataset.org/train2017/000000001590.jpg</td>\n",
              "      <td>truck</td>\n",
              "      <td>ladder</td>\n",
              "    </tr>\n",
              "    <tr>\n",
              "      <td>1768</td>\n",
              "      <td>871</td>\n",
              "      <td>0.194354</td>\n",
              "      <td>0.205669</td>\n",
              "      <td>http://images.cocodataset.org/train2017/000000001792.jpg</td>\n",
              "      <td>snow</td>\n",
              "      <td>trees</td>\n",
              "    </tr>\n",
              "    <tr>\n",
              "      <td>295</td>\n",
              "      <td>571</td>\n",
              "      <td>0.173155</td>\n",
              "      <td>0.211884</td>\n",
              "      <td>http://images.cocodataset.org/train2017/000000001786.jpg</td>\n",
              "      <td>bread</td>\n",
              "      <td>sandwiches</td>\n",
              "    </tr>\n",
              "    <tr>\n",
              "      <td>1712</td>\n",
              "      <td>191</td>\n",
              "      <td>0.459287</td>\n",
              "      <td>0.364830</td>\n",
              "      <td>http://images.cocodataset.org/train2017/000000000077.jpg</td>\n",
              "      <td>graffiti</td>\n",
              "      <td>skateboard</td>\n",
              "    </tr>\n",
              "    <tr>\n",
              "      <td>140</td>\n",
              "      <td>713</td>\n",
              "      <td>0.031681</td>\n",
              "      <td>0.032620</td>\n",
              "      <td>http://images.cocodataset.org/train2017/000000000328.jpg</td>\n",
              "      <td>polo shirt</td>\n",
              "      <td>purse</td>\n",
              "    </tr>\n",
              "    <tr>\n",
              "      <td>1066</td>\n",
              "      <td>117</td>\n",
              "      <td>0.031879</td>\n",
              "      <td>0.031169</td>\n",
              "      <td>http://images.cocodataset.org/train2017/000000001591.jpg</td>\n",
              "      <td>chairs</td>\n",
              "      <td>drawers</td>\n",
              "    </tr>\n",
              "    <tr>\n",
              "      <td>1410</td>\n",
              "      <td>461</td>\n",
              "      <td>0.128895</td>\n",
              "      <td>0.128986</td>\n",
              "      <td>http://images.cocodataset.org/train2017/000000001626.jpg</td>\n",
              "      <td>sofa</td>\n",
              "      <td>living room</td>\n",
              "    </tr>\n",
              "    <tr>\n",
              "      <td>435</td>\n",
              "      <td>1785</td>\n",
              "      <td>0.161412</td>\n",
              "      <td>0.144537</td>\n",
              "      <td>http://images.cocodataset.org/train2017/000000000074.jpg</td>\n",
              "      <td>bicycle</td>\n",
              "      <td>bike</td>\n",
              "    </tr>\n",
              "    <tr>\n",
              "      <td>1633</td>\n",
              "      <td>1336</td>\n",
              "      <td>0.335465</td>\n",
              "      <td>0.337116</td>\n",
              "      <td>http://images.cocodataset.org/train2017/000000001596.jpg</td>\n",
              "      <td>tennis ball</td>\n",
              "      <td>net</td>\n",
              "    </tr>\n",
              "    <tr>\n",
              "      <td>6</td>\n",
              "      <td>371</td>\n",
              "      <td>0.216553</td>\n",
              "      <td>0.228445</td>\n",
              "      <td>http://images.cocodataset.org/train2017/000000002114.jpg</td>\n",
              "      <td>water</td>\n",
              "      <td>beach</td>\n",
              "    </tr>\n",
              "    <tr>\n",
              "      <td>1019</td>\n",
              "      <td>982</td>\n",
              "      <td>0.197483</td>\n",
              "      <td>0.190503</td>\n",
              "      <td>http://images.cocodataset.org/train2017/000000002459.jpg</td>\n",
              "      <td>computer</td>\n",
              "      <td>laptop</td>\n",
              "    </tr>\n",
              "    <tr>\n",
              "      <td>85</td>\n",
              "      <td>98</td>\n",
              "      <td>0.185899</td>\n",
              "      <td>0.135937</td>\n",
              "      <td>http://images.cocodataset.org/train2017/000000000474.jpg</td>\n",
              "      <td>glove</td>\n",
              "      <td>grass</td>\n",
              "    </tr>\n",
              "    <tr>\n",
              "      <td>346</td>\n",
              "      <td>871</td>\n",
              "      <td>0.212191</td>\n",
              "      <td>0.306192</td>\n",
              "      <td>http://images.cocodataset.org/train2017/000000002315.jpg</td>\n",
              "      <td>elephants</td>\n",
              "      <td>trees</td>\n",
              "    </tr>\n",
              "    <tr>\n",
              "      <td>1458</td>\n",
              "      <td>723</td>\n",
              "      <td>0.050850</td>\n",
              "      <td>0.050124</td>\n",
              "      <td>http://images.cocodataset.org/train2017/000000000927.jpg</td>\n",
              "      <td>tennis</td>\n",
              "      <td>pavement</td>\n",
              "    </tr>\n",
              "    <tr>\n",
              "      <td>1672</td>\n",
              "      <td>886</td>\n",
              "      <td>0.317591</td>\n",
              "      <td>0.282882</td>\n",
              "      <td>http://images.cocodataset.org/train2017/000000001994.jpg</td>\n",
              "      <td>wine</td>\n",
              "      <td>wine glass</td>\n",
              "    </tr>\n",
              "    <tr>\n",
              "      <td>140</td>\n",
              "      <td>770</td>\n",
              "      <td>0.047323</td>\n",
              "      <td>0.048287</td>\n",
              "      <td>http://images.cocodataset.org/train2017/000000000308.jpg</td>\n",
              "      <td>polo shirt</td>\n",
              "      <td>vest</td>\n",
              "    </tr>\n",
              "    <tr>\n",
              "      <td>164</td>\n",
              "      <td>491</td>\n",
              "      <td>0.012534</td>\n",
              "      <td>0.012319</td>\n",
              "      <td>http://images.cocodataset.org/train2017/000000001943.jpg</td>\n",
              "      <td>fence</td>\n",
              "      <td>shirts</td>\n",
              "    </tr>\n",
              "    <tr>\n",
              "      <td>651</td>\n",
              "      <td>191</td>\n",
              "      <td>0.256492</td>\n",
              "      <td>0.305998</td>\n",
              "      <td>http://images.cocodataset.org/train2017/000000002278.jpg</td>\n",
              "      <td>skate park</td>\n",
              "      <td>skateboard</td>\n",
              "    </tr>\n",
              "    <tr>\n",
              "      <td>1645</td>\n",
              "      <td>441</td>\n",
              "      <td>0.033844</td>\n",
              "      <td>0.035576</td>\n",
              "      <td>http://images.cocodataset.org/train2017/000000002055.jpg</td>\n",
              "      <td>jacket</td>\n",
              "      <td>no</td>\n",
              "    </tr>\n",
              "    <tr>\n",
              "      <td>1123</td>\n",
              "      <td>449</td>\n",
              "      <td>0.177115</td>\n",
              "      <td>0.233626</td>\n",
              "      <td>http://images.cocodataset.org/train2017/000000000332.jpg</td>\n",
              "      <td>noodles</td>\n",
              "      <td>rice</td>\n",
              "    </tr>\n",
              "    <tr>\n",
              "      <td>184</td>\n",
              "      <td>578</td>\n",
              "      <td>0.087855</td>\n",
              "      <td>0.060313</td>\n",
              "      <td>http://images.cocodataset.org/train2017/000000002337.jpg</td>\n",
              "      <td>dog</td>\n",
              "      <td>dogs</td>\n",
              "    </tr>\n",
              "    <tr>\n",
              "      <td>1800</td>\n",
              "      <td>1458</td>\n",
              "      <td>0.086395</td>\n",
              "      <td>0.091133</td>\n",
              "      <td>http://images.cocodataset.org/train2017/000000002446.jpg</td>\n",
              "      <td>ball</td>\n",
              "      <td>tennis</td>\n",
              "    </tr>\n",
              "    <tr>\n",
              "      <td>476</td>\n",
              "      <td>421</td>\n",
              "      <td>0.084930</td>\n",
              "      <td>0.083934</td>\n",
              "      <td>http://images.cocodataset.org/train2017/000000001006.jpg</td>\n",
              "      <td>shoe</td>\n",
              "      <td>shoes</td>\n",
              "    </tr>\n",
              "    <tr>\n",
              "      <td>346</td>\n",
              "      <td>1</td>\n",
              "      <td>0.288411</td>\n",
              "      <td>0.286119</td>\n",
              "      <td>http://images.cocodataset.org/train2017/000000001238.jpg</td>\n",
              "      <td>elephants</td>\n",
              "      <td>elephant</td>\n",
              "    </tr>\n",
              "    <tr>\n",
              "      <td>209</td>\n",
              "      <td>871</td>\n",
              "      <td>0.201318</td>\n",
              "      <td>0.262185</td>\n",
              "      <td>http://images.cocodataset.org/train2017/000000000753.jpg</td>\n",
              "      <td>bushes</td>\n",
              "      <td>trees</td>\n",
              "    </tr>\n",
              "    <tr>\n",
              "      <td>1257</td>\n",
              "      <td>1642</td>\n",
              "      <td>0.062697</td>\n",
              "      <td>0.041827</td>\n",
              "      <td>http://images.cocodataset.org/train2017/000000002178.jpg</td>\n",
              "      <td>goat</td>\n",
              "      <td>goats</td>\n",
              "    </tr>\n",
              "    <tr>\n",
              "      <td>482</td>\n",
              "      <td>1298</td>\n",
              "      <td>0.028113</td>\n",
              "      <td>0.039203</td>\n",
              "      <td>http://images.cocodataset.org/train2017/000000000790.jpg</td>\n",
              "      <td>donuts</td>\n",
              "      <td>table</td>\n",
              "    </tr>\n",
              "    <tr>\n",
              "      <td>644</td>\n",
              "      <td>6</td>\n",
              "      <td>0.169828</td>\n",
              "      <td>0.191479</td>\n",
              "      <td>http://images.cocodataset.org/train2017/000000001856.jpg</td>\n",
              "      <td>ocean</td>\n",
              "      <td>water</td>\n",
              "    </tr>\n",
              "    <tr>\n",
              "      <td>1686</td>\n",
              "      <td>1754</td>\n",
              "      <td>0.134376</td>\n",
              "      <td>0.118413</td>\n",
              "      <td>http://images.cocodataset.org/train2017/000000001507.jpg</td>\n",
              "      <td>sandwich</td>\n",
              "      <td>lettuce</td>\n",
              "    </tr>\n",
              "    <tr>\n",
              "      <td>1051</td>\n",
              "      <td>817</td>\n",
              "      <td>0.070512</td>\n",
              "      <td>0.062933</td>\n",
              "      <td>http://images.cocodataset.org/train2017/000000000754.jpg</td>\n",
              "      <td>toothpaste</td>\n",
              "      <td>liquid</td>\n",
              "    </tr>\n",
              "    <tr>\n",
              "      <td>464</td>\n",
              "      <td>1794</td>\n",
              "      <td>0.020977</td>\n",
              "      <td>0.025608</td>\n",
              "      <td>http://images.cocodataset.org/train2017/000000001264.jpg</td>\n",
              "      <td>tool</td>\n",
              "      <td>book</td>\n",
              "    </tr>\n",
              "    <tr>\n",
              "      <td>618</td>\n",
              "      <td>98</td>\n",
              "      <td>0.328820</td>\n",
              "      <td>0.313527</td>\n",
              "      <td>http://images.cocodataset.org/train2017/000000001448.jpg</td>\n",
              "      <td>giraffe</td>\n",
              "      <td>grass</td>\n",
              "    </tr>\n",
              "    <tr>\n",
              "      <td>571</td>\n",
              "      <td>1686</td>\n",
              "      <td>0.399966</td>\n",
              "      <td>0.432729</td>\n",
              "      <td>http://images.cocodataset.org/train2017/000000000810.jpg</td>\n",
              "      <td>sandwiches</td>\n",
              "      <td>sandwich</td>\n",
              "    </tr>\n",
              "  </tbody>\n",
              "</table>\n",
              "</div>\n"
            ]
          },
          "metadata": {}
        }
      ]
    },
    {
      "cell_type": "markdown",
      "source": [
        "Exp1: counting \\\\\n",
        "Exp2: emotion, gender \\\\\n",
        "Exp3: singular, plural (check this from above table)  \\\\\n",
        "Exp4: color (in black white) \\\\\n"
      ],
      "metadata": {
        "id": "CqALG07QuSHF"
      }
    },
    {
      "cell_type": "code",
      "source": [
        "URL1 = \"http://images.cocodataset.org/train2017/000000002315.jpg\" #--- elephants\n",
        "URL2 = \"http://images.cocodataset.org/train2017/000000001943.jpg\" # --- humans\n",
        "URL3 = \"http://images.cocodataset.org/train2017/000000001792.jpg\" # ---\tsnow\n",
        "# Preprocess the image and get output dictionary\n",
        "images, sizes, scales_yx = image_preprocess(URL1)\n",
        "output_dict = frcnn(\n",
        "    images,\n",
        "    sizes,\n",
        "    scales_yx=scales_yx,\n",
        "    padding=\"max_detections\",\n",
        "    max_detections=frcnn_cfg.max_detections,\n",
        "    return_tensors=\"pt\",\n",
        ")\n",
        "\n",
        "# Define questions for the image\n",
        "test_questions_for_url1 = [\"are there elephants in the image ?\", \"how many elephants can you see?\"]\n",
        "\n",
        "normalized_boxes = output_dict.get(\"normalized_boxes\")\n",
        "features = output_dict.get(\"roi_features\")\n",
        "\n",
        "# Uncomment below lines for visualization if needed\n",
        "frcnn_visualizer = SingleImageViz(URL1, id2obj=objids, id2attr=attrids)\n",
        "frcnn_visualizer.draw_boxes(\n",
        "    output_dict.get(\"boxes\"),\n",
        "    output_dict.pop(\"obj_ids\"),\n",
        "    output_dict.pop(\"obj_probs\"),\n",
        "    output_dict.pop(\"attr_ids\"),\n",
        "    output_dict.pop(\"attr_probs\"),\n",
        ")\n",
        "showarray(frcnn_visualizer._get_buffer())\n",
        "# Run inference for each question and record predictions\n",
        "for test_question in test_questions_for_url1:\n",
        "    test_question = [test_question]\n",
        "    inputs = lxmert_tokenizer(\n",
        "        test_question,\n",
        "        padding=\"max_length\",\n",
        "        max_length=20,\n",
        "        truncation=True,\n",
        "        return_token_type_ids=True,\n",
        "        return_attention_mask=True,\n",
        "        add_special_tokens=True,\n",
        "        return_tensors=\"pt\",\n",
        "    )\n",
        "\n",
        "    # Run original LXMERT\n",
        "    lxmert_output = lxmert_model(\n",
        "        input_ids=inputs.input_ids,\n",
        "        attention_mask=inputs.attention_mask,\n",
        "        visual_feats=features,\n",
        "        visual_pos=normalized_boxes,\n",
        "        token_type_ids=inputs.token_type_ids,\n",
        "        output_attentions=False,\n",
        "    )\n",
        "\n",
        "    # Run pruned/quantized LXMERT\n",
        "    quantized_output = quantized_model(\n",
        "        input_ids=inputs.input_ids,\n",
        "        attention_mask=inputs.attention_mask,\n",
        "        visual_feats=features,\n",
        "        visual_pos=normalized_boxes,\n",
        "        token_type_ids=inputs.token_type_ids,\n",
        "        output_attentions=False,\n",
        "    )\n",
        "\n",
        "    # Print the index of the last processed item\n",
        "      # get prediction\n",
        "    lxmert_pred_gqa = lxmert_output[\"question_answering_score\"].argmax(-1)\n",
        "    quantised_pred_gqa = quantized_output[\"question_answering_score\"].argmax(-1)\n",
        "\n",
        "    print(\"Question:\", test_question)\n",
        "    print(\"prediction from LXMERT GQA:\", gqa_answers[lxmert_pred_gqa])\n",
        "    print(\"prediction from quantised GQA:\", gqa_answers[quantised_pred_gqa])\n",
        "print(\"=================================\")\n",
        "\n",
        "\n",
        "# Preprocess the image and get output dictionary\n",
        "images, sizes, scales_yx = image_preprocess(URL2)\n",
        "output_dict = frcnn(\n",
        "    images,\n",
        "    sizes,\n",
        "    scales_yx=scales_yx,\n",
        "    padding=\"max_detections\",\n",
        "    max_detections=frcnn_cfg.max_detections,\n",
        "    return_tensors=\"pt\",\n",
        ")\n",
        "\n",
        "# Define questions for the image\n",
        "test_questions_for_url2 = [\"what is there in the image ?\", \"how many humans ?\", \"do you see girls?\", \"do you see boys ?\", \"are they happy ?\", \"what are they doing ?\"]\n",
        "normalized_boxes = output_dict.get(\"normalized_boxes\")\n",
        "features = output_dict.get(\"roi_features\")\n",
        "\n",
        "\n",
        "# Uncomment below lines for visualization if needed\n",
        "frcnn_visualizer = SingleImageViz(URL2, id2obj=objids, id2attr=attrids)\n",
        "frcnn_visualizer.draw_boxes(\n",
        "    output_dict.get(\"boxes\"),\n",
        "    output_dict.pop(\"obj_ids\"),\n",
        "    output_dict.pop(\"obj_probs\"),\n",
        "    output_dict.pop(\"attr_ids\"),\n",
        "    output_dict.pop(\"attr_probs\"),\n",
        ")\n",
        "showarray(frcnn_visualizer._get_buffer())\n",
        "# Run inference for each question and record predictions\n",
        "for test_question in test_questions_for_url2:\n",
        "    test_question = [test_question]\n",
        "    inputs = lxmert_tokenizer(\n",
        "        test_question,\n",
        "        padding=\"max_length\",\n",
        "        max_length=20,\n",
        "        truncation=True,\n",
        "        return_token_type_ids=True,\n",
        "        return_attention_mask=True,\n",
        "        add_special_tokens=True,\n",
        "        return_tensors=\"pt\",\n",
        "    )\n",
        "\n",
        "    # Run original LXMERT\n",
        "    lxmert_output = lxmert_model(\n",
        "        input_ids=inputs.input_ids,\n",
        "        attention_mask=inputs.attention_mask,\n",
        "        visual_feats=features,\n",
        "        visual_pos=normalized_boxes,\n",
        "        token_type_ids=inputs.token_type_ids,\n",
        "        output_attentions=False,\n",
        "    )\n",
        "\n",
        "    # Run pruned/quantized LXMERT\n",
        "    quantized_output = quantized_model(\n",
        "        input_ids=inputs.input_ids,\n",
        "        attention_mask=inputs.attention_mask,\n",
        "        visual_feats=features,\n",
        "        visual_pos=normalized_boxes,\n",
        "        token_type_ids=inputs.token_type_ids,\n",
        "        output_attentions=False,\n",
        "    )\n",
        "\n",
        "    # Print the index of the last processed item\n",
        "      # get prediction\n",
        "    lxmert_pred_gqa = lxmert_output[\"question_answering_score\"].argmax(-1)\n",
        "    quantised_pred_gqa = quantized_output[\"question_answering_score\"].argmax(-1)\n",
        "\n",
        "    print(\"Question:\", test_question)\n",
        "    print(\"prediction from LXMERT GQA:\", gqa_answers[lxmert_pred_gqa])\n",
        "    print(\"prediction from quantised GQA:\", gqa_answers[quantised_pred_gqa])\n",
        "print(\"=================================\")\n",
        "\n",
        "\n",
        "\n",
        "# Preprocess the image and get output dictionary\n",
        "images, sizes, scales_yx = image_preprocess(URL3)\n",
        "output_dict = frcnn(\n",
        "    images,\n",
        "    sizes,\n",
        "    scales_yx=scales_yx,\n",
        "    padding=\"max_detections\",\n",
        "    max_detections=frcnn_cfg.max_detections,\n",
        "    return_tensors=\"pt\",\n",
        ")\n",
        "\n",
        "# Define questions for the image\n",
        "test_questions_for_url3 = [\"what color is in the image ?\", \"is there a sky ?\", \"what color is the sky?\", \"are there trees ?\", \"what color are the trees ?\"]\n",
        "\n",
        "normalized_boxes = output_dict.get(\"normalized_boxes\")\n",
        "features = output_dict.get(\"roi_features\")\n",
        "\n",
        "# Uncomment below lines for visualization if needed\n",
        "frcnn_visualizer = SingleImageViz(URL3, id2obj=objids, id2attr=attrids)\n",
        "frcnn_visualizer.draw_boxes(\n",
        "    output_dict.get(\"boxes\"),\n",
        "    output_dict.pop(\"obj_ids\"),\n",
        "    output_dict.pop(\"obj_probs\"),\n",
        "    output_dict.pop(\"attr_ids\"),\n",
        "    output_dict.pop(\"attr_probs\"),\n",
        ")\n",
        "showarray(frcnn_visualizer._get_buffer())\n",
        "# Run inference for each question and record predictions\n",
        "for test_question in test_questions_for_url3:\n",
        "    test_question = [test_question]\n",
        "    inputs = lxmert_tokenizer(\n",
        "        test_question,\n",
        "        padding=\"max_length\",\n",
        "        max_length=20,\n",
        "        truncation=True,\n",
        "        return_token_type_ids=True,\n",
        "        return_attention_mask=True,\n",
        "        add_special_tokens=True,\n",
        "        return_tensors=\"pt\",\n",
        "    )\n",
        "\n",
        "    # Run original LXMERT\n",
        "    lxmert_output = lxmert_model(\n",
        "        input_ids=inputs.input_ids,\n",
        "        attention_mask=inputs.attention_mask,\n",
        "        visual_feats=features,\n",
        "        visual_pos=normalized_boxes,\n",
        "        token_type_ids=inputs.token_type_ids,\n",
        "        output_attentions=False,\n",
        "    )\n",
        "\n",
        "    # Run pruned/quantized LXMERT\n",
        "    quantized_output = quantized_model(\n",
        "        input_ids=inputs.input_ids,\n",
        "        attention_mask=inputs.attention_mask,\n",
        "        visual_feats=features,\n",
        "        visual_pos=normalized_boxes,\n",
        "        token_type_ids=inputs.token_type_ids,\n",
        "        output_attentions=False,\n",
        "    )\n",
        "\n",
        "    # Print the index of the last processed item\n",
        "      # get prediction\n",
        "    lxmert_pred_gqa = lxmert_output[\"question_answering_score\"].argmax(-1)\n",
        "    quantised_pred_gqa = quantized_output[\"question_answering_score\"].argmax(-1)\n",
        "\n",
        "    print(\"Question:\", test_question)\n",
        "    print(\"prediction from LXMERT GQA:\", gqa_answers[lxmert_pred_gqa])\n",
        "    print(\"prediction from quantised GQA:\", gqa_answers[quantised_pred_gqa])\n",
        "print(\"=================================\")"
      ],
      "metadata": {
        "id": "t3AjB8Qgn-d_",
        "colab": {
          "base_uri": "https://localhost:8080/",
          "height": 1000
        },
        "outputId": "79694bad-46ee-4f7f-e9b3-8d8b1eb65d99"
      },
      "execution_count": null,
      "outputs": [
        {
          "output_type": "display_data",
          "data": {
            "image/jpeg": "[encoded data removed]",
            "text/plain": [
              "<IPython.core.display.Image object>"
            ]
          },
          "metadata": {}
        },
        {
          "output_type": "stream",
          "name": "stdout",
          "text": [
            "Question: ['are there elephants in the image ?']\n",
            "prediction from LXMERT GQA: yes\n",
            "prediction from quantised GQA: yes\n",
            "Question: ['how many elephants can you see?']\n",
            "prediction from LXMERT GQA: crane\n",
            "prediction from quantised GQA: crane\n",
            "=================================\n"
          ]
        },
        {
          "output_type": "display_data",
          "data": {
            "image/jpeg": "[encoded data removed]",
            "text/plain": [
              "<IPython.core.display.Image object>"
            ]
          },
          "metadata": {}
        },
        {
          "output_type": "stream",
          "name": "stdout",
          "text": [
            "Question: ['what is there in the image ?']\n",
            "prediction from LXMERT GQA: fence\n",
            "prediction from quantised GQA: fence\n",
            "Question: ['how many humans ?']\n",
            "prediction from LXMERT GQA: polo shirt\n",
            "prediction from quantised GQA: polo shirt\n",
            "Question: ['do you see girls?']\n",
            "prediction from LXMERT GQA: yes\n",
            "prediction from quantised GQA: yes\n",
            "Question: ['do you see boys ?']\n",
            "prediction from LXMERT GQA: yes\n",
            "prediction from quantised GQA: yes\n",
            "Question: ['are they happy ?']\n",
            "prediction from LXMERT GQA: yes\n",
            "prediction from quantised GQA: yes\n",
            "Question: ['what are they doing ?']\n",
            "prediction from LXMERT GQA: playing\n",
            "prediction from quantised GQA: playing\n",
            "=================================\n"
          ]
        },
        {
          "output_type": "display_data",
          "data": {
            "image/jpeg": "[encoded data removed]",
            "text/plain": [
              "<IPython.core.display.Image object>"
            ]
          },
          "metadata": {}
        },
        {
          "output_type": "stream",
          "name": "stdout",
          "text": [
            "Question: ['what color is in the image ?']\n",
            "prediction from LXMERT GQA: white\n",
            "prediction from quantised GQA: white\n",
            "Question: ['is there a sky ?']\n",
            "prediction from LXMERT GQA: yes\n",
            "prediction from quantised GQA: yes\n",
            "Question: ['what color is the sky?']\n",
            "prediction from LXMERT GQA: white\n",
            "prediction from quantised GQA: white\n",
            "Question: ['are there trees ?']\n",
            "prediction from LXMERT GQA: yes\n",
            "prediction from quantised GQA: yes\n",
            "Question: ['what color are the trees ?']\n",
            "prediction from LXMERT GQA: dark\n",
            "prediction from quantised GQA: dark\n",
            "=================================\n"
          ]
        }
      ]
    },
    {
      "cell_type": "markdown",
      "source": [],
      "metadata": {
        "id": "itsWq2m3uRP5"
      }
    },
    {
      "cell_type": "code",
      "source": [],
      "metadata": {
        "id": "i5hl9Nh6n-gk"
      },
      "execution_count": null,
      "outputs": []
    },
    {
      "cell_type": "code",
      "source": [],
      "metadata": {
        "id": "Ml_S9CgVn-jK"
      },
      "execution_count": null,
      "outputs": []
    },
    {
      "cell_type": "code",
      "source": [],
      "metadata": {
        "id": "mOjJzS5fn-lq"
      },
      "execution_count": null,
      "outputs": []
    },
    {
      "cell_type": "code",
      "source": [],
      "metadata": {
        "id": "KBQmtfwCn-oH"
      },
      "execution_count": null,
      "outputs": []
    },
    {
      "cell_type": "code",
      "source": [],
      "metadata": {
        "id": "SERSwURgn-qm"
      },
      "execution_count": null,
      "outputs": []
    },
    {
      "cell_type": "code",
      "source": [],
      "metadata": {
        "id": "umUUZa-Kn-st"
      },
      "execution_count": null,
      "outputs": []
    },
    {
      "cell_type": "code",
      "source": [],
      "metadata": {
        "id": "s1rfGD9tn-vS"
      },
      "execution_count": null,
      "outputs": []
    },
    {
      "cell_type": "markdown",
      "source": [
        "mobile application"
      ],
      "metadata": {
        "id": "bM5ZjC8jzht7"
      }
    },
    {
      "cell_type": "code",
      "source": [
        "!pip install onnx onnxruntime onnx-simplifier"
      ],
      "metadata": {
        "colab": {
          "base_uri": "https://localhost:8080/"
        },
        "id": "O9Vl1SNhvvlQ",
        "outputId": "60604ef5-66e1-4a8c-94f3-1906e0f49847"
      },
      "execution_count": null,
      "outputs": [
        {
          "output_type": "stream",
          "name": "stdout",
          "text": [
            "Collecting onnx\n",
            "  Downloading onnx-1.17.0-cp310-cp310-manylinux_2_17_x86_64.manylinux2014_x86_64.whl.metadata (16 kB)\n",
            "Collecting onnxruntime\n",
            "  Downloading onnxruntime-1.20.0-cp310-cp310-manylinux_2_27_x86_64.manylinux_2_28_x86_64.whl.metadata (4.4 kB)\n",
            "Collecting onnx-simplifier\n",
            "  Downloading onnx_simplifier-0.4.36-cp310-cp310-manylinux_2_17_x86_64.manylinux2014_x86_64.whl.metadata (4.3 kB)\n",
            "Requirement already satisfied: numpy>=1.20 in /usr/local/lib/python3.10/dist-packages (from onnx) (1.26.4)\n",
            "Requirement already satisfied: protobuf>=3.20.2 in /usr/local/lib/python3.10/dist-packages (from onnx) (3.20.3)\n",
            "Collecting coloredlogs (from onnxruntime)\n",
            "  Downloading coloredlogs-15.0.1-py2.py3-none-any.whl.metadata (12 kB)\n",
            "Requirement already satisfied: flatbuffers in /usr/local/lib/python3.10/dist-packages (from onnxruntime) (24.3.25)\n",
            "Requirement already satisfied: packaging in /usr/local/lib/python3.10/dist-packages (from onnxruntime) (24.1)\n",
            "Requirement already satisfied: sympy in /usr/local/lib/python3.10/dist-packages (from onnxruntime) (1.13.1)\n",
            "Requirement already satisfied: rich in /usr/local/lib/python3.10/dist-packages (from onnx-simplifier) (13.9.3)\n",
            "Collecting humanfriendly>=9.1 (from coloredlogs->onnxruntime)\n",
            "  Downloading humanfriendly-10.0-py2.py3-none-any.whl.metadata (9.2 kB)\n",
            "Requirement already satisfied: markdown-it-py>=2.2.0 in /usr/local/lib/python3.10/dist-packages (from rich->onnx-simplifier) (3.0.0)\n",
            "Requirement already satisfied: pygments<3.0.0,>=2.13.0 in /usr/local/lib/python3.10/dist-packages (from rich->onnx-simplifier) (2.18.0)\n",
            "Requirement already satisfied: typing-extensions<5.0,>=4.0.0 in /usr/local/lib/python3.10/dist-packages (from rich->onnx-simplifier) (4.12.2)\n",
            "Requirement already satisfied: mpmath<1.4,>=1.1.0 in /usr/local/lib/python3.10/dist-packages (from sympy->onnxruntime) (1.3.0)\n",
            "Requirement already satisfied: mdurl~=0.1 in /usr/local/lib/python3.10/dist-packages (from markdown-it-py>=2.2.0->rich->onnx-simplifier) (0.1.2)\n",
            "Downloading onnx-1.17.0-cp310-cp310-manylinux_2_17_x86_64.manylinux2014_x86_64.whl (16.0 MB)\n",
            "\u001b[2K   \u001b[90m━━━━━━━━━━━━━━━━━━━━━━━━━━━━━━━━━━━━━━━━\u001b[0m \u001b[32m16.0/16.0 MB\u001b[0m \u001b[31m93.4 MB/s\u001b[0m eta \u001b[36m0:00:00\u001b[0m\n",
            "\u001b[?25hDownloading onnxruntime-1.20.0-cp310-cp310-manylinux_2_27_x86_64.manylinux_2_28_x86_64.whl (13.3 MB)\n",
            "\u001b[2K   \u001b[90m━━━━━━━━━━━━━━━━━━━━━━━━━━━━━━━━━━━━━━━━\u001b[0m \u001b[32m13.3/13.3 MB\u001b[0m \u001b[31m105.9 MB/s\u001b[0m eta \u001b[36m0:00:00\u001b[0m\n",
            "\u001b[?25hDownloading onnx_simplifier-0.4.36-cp310-cp310-manylinux_2_17_x86_64.manylinux2014_x86_64.whl (2.3 MB)\n",
            "\u001b[2K   \u001b[90m━━━━━━━━━━━━━━━━━━━━━━━━━━━━━━━━━━━━━━━━\u001b[0m \u001b[32m2.3/2.3 MB\u001b[0m \u001b[31m81.2 MB/s\u001b[0m eta \u001b[36m0:00:00\u001b[0m\n",
            "\u001b[?25hDownloading coloredlogs-15.0.1-py2.py3-none-any.whl (46 kB)\n",
            "\u001b[2K   \u001b[90m━━━━━━━━━━━━━━━━━━━━━━━━━━━━━━━━━━━━━━━━\u001b[0m \u001b[32m46.0/46.0 kB\u001b[0m \u001b[31m3.5 MB/s\u001b[0m eta \u001b[36m0:00:00\u001b[0m\n",
            "\u001b[?25hDownloading humanfriendly-10.0-py2.py3-none-any.whl (86 kB)\n",
            "\u001b[2K   \u001b[90m━━━━━━━━━━━━━━━━━━━━━━━━━━━━━━━━━━━━━━━━\u001b[0m \u001b[32m86.8/86.8 kB\u001b[0m \u001b[31m6.3 MB/s\u001b[0m eta \u001b[36m0:00:00\u001b[0m\n",
            "\u001b[?25hInstalling collected packages: onnx, humanfriendly, coloredlogs, onnxruntime, onnx-simplifier\n",
            "Successfully installed coloredlogs-15.0.1 humanfriendly-10.0 onnx-1.17.0 onnx-simplifier-0.4.36 onnxruntime-1.20.0\n"
          ]
        }
      ]
    },
    {
      "cell_type": "code",
      "source": [
        "! ls /content/drive/MyDrive/lxmert"
      ],
      "metadata": {
        "colab": {
          "base_uri": "https://localhost:8080/"
        },
        "id": "5UBVEAdw3vNf",
        "outputId": "76081f6a-d07d-4ca5-e8d1-539e71bf3ded"
      },
      "execution_count": null,
      "outputs": [
        {
          "output_type": "stream",
          "name": "stdout",
          "text": [
            "demo.ipynb\t    modeling_frcnn.py\t __pycache__  requirements.txt\tvisualizing_image.py\n",
            "extracting_data.py  processing_image.py  README.md    utils.py\n"
          ]
        }
      ]
    },
    {
      "cell_type": "code",
      "source": [
        "!pip install torch onnx onnxruntime\n"
      ],
      "metadata": {
        "colab": {
          "base_uri": "https://localhost:8080/"
        },
        "id": "UEPed5s_4igX",
        "outputId": "0a9d1bdb-d55a-4c8c-c6bf-b305da666ea6"
      },
      "execution_count": null,
      "outputs": [
        {
          "output_type": "stream",
          "name": "stdout",
          "text": [
            "Requirement already satisfied: torch in /usr/local/lib/python3.10/dist-packages (2.5.0+cu121)\n",
            "Requirement already satisfied: onnx in /usr/local/lib/python3.10/dist-packages (1.17.0)\n",
            "Requirement already satisfied: onnxruntime in /usr/local/lib/python3.10/dist-packages (1.20.0)\n",
            "Requirement already satisfied: filelock in /usr/local/lib/python3.10/dist-packages (from torch) (3.16.1)\n",
            "Requirement already satisfied: typing-extensions>=4.8.0 in /usr/local/lib/python3.10/dist-packages (from torch) (4.12.2)\n",
            "Requirement already satisfied: networkx in /usr/local/lib/python3.10/dist-packages (from torch) (3.4.2)\n",
            "Requirement already satisfied: jinja2 in /usr/local/lib/python3.10/dist-packages (from torch) (3.1.4)\n",
            "Requirement already satisfied: fsspec in /usr/local/lib/python3.10/dist-packages (from torch) (2024.10.0)\n",
            "Requirement already satisfied: sympy==1.13.1 in /usr/local/lib/python3.10/dist-packages (from torch) (1.13.1)\n",
            "Requirement already satisfied: mpmath<1.4,>=1.1.0 in /usr/local/lib/python3.10/dist-packages (from sympy==1.13.1->torch) (1.3.0)\n",
            "Requirement already satisfied: numpy>=1.20 in /usr/local/lib/python3.10/dist-packages (from onnx) (1.26.4)\n",
            "Requirement already satisfied: protobuf>=3.20.2 in /usr/local/lib/python3.10/dist-packages (from onnx) (3.20.3)\n",
            "Requirement already satisfied: coloredlogs in /usr/local/lib/python3.10/dist-packages (from onnxruntime) (15.0.1)\n",
            "Requirement already satisfied: flatbuffers in /usr/local/lib/python3.10/dist-packages (from onnxruntime) (24.3.25)\n",
            "Requirement already satisfied: packaging in /usr/local/lib/python3.10/dist-packages (from onnxruntime) (24.1)\n",
            "Requirement already satisfied: humanfriendly>=9.1 in /usr/local/lib/python3.10/dist-packages (from coloredlogs->onnxruntime) (10.0)\n",
            "Requirement already satisfied: MarkupSafe>=2.0 in /usr/local/lib/python3.10/dist-packages (from jinja2->torch) (3.0.2)\n"
          ]
        }
      ]
    },
    {
      "cell_type": "code",
      "source": [],
      "metadata": {
        "id": "_N8lfHH37dZv"
      },
      "execution_count": null,
      "outputs": []
    },
    {
      "cell_type": "code",
      "source": [],
      "metadata": {
        "id": "T_54EdOV7vTU"
      },
      "execution_count": null,
      "outputs": []
    }
  ],
  "metadata": {
    "kernelspec": {
      "display_name": "Python 3",
      "language": "python",
      "name": "python3"
    },
    "language_info": {
      "codemirror_mode": {
        "name": "ipython",
        "version": 3
      },
      "file_extension": ".py",
      "mimetype": "text/x-python",
      "name": "python",
      "nbconvert_exporter": "python",
      "pygments_lexer": "ipython3",
      "version": "3.8.2"
    },
    "colab": {
      "provenance": []
    },
    "widgets": {
      "application/vnd.jupyter.widget-state+json": {
        "1b90c9443776449d9245c960f0df5f86": {
          "model_module": "@jupyter-widgets/controls",
          "model_name": "HBoxModel",
          "model_module_version": "1.5.0",
          "state": {
            "_dom_classes": [],
            "_model_module": "@jupyter-widgets/controls",
            "_model_module_version": "1.5.0",
            "_model_name": "HBoxModel",
            "_view_count": null,
            "_view_module": "@jupyter-widgets/controls",
            "_view_module_version": "1.5.0",
            "_view_name": "HBoxView",
            "box_style": "",
            "children": [
              "IPY_MODEL_3566842e4a7541f5bf5379ef7e190f72",
              "IPY_MODEL_01d405b5d74649a795bfc297d45d3cea",
              "IPY_MODEL_0bf96637f42543f2bbaf0c877d3b3d34"
            ],
            "layout": "IPY_MODEL_a86685fd55ba442a91856ceab3f8e3ca"
          }
        },
        "3566842e4a7541f5bf5379ef7e190f72": {
          "model_module": "@jupyter-widgets/controls",
          "model_name": "HTMLModel",
          "model_module_version": "1.5.0",
          "state": {
            "_dom_classes": [],
            "_model_module": "@jupyter-widgets/controls",
            "_model_module_version": "1.5.0",
            "_model_name": "HTMLModel",
            "_view_count": null,
            "_view_module": "@jupyter-widgets/controls",
            "_view_module_version": "1.5.0",
            "_view_name": "HTMLView",
            "description": "",
            "description_tooltip": null,
            "layout": "IPY_MODEL_427f07aa45224e96a84173c50c10a048",
            "placeholder": "​",
            "style": "IPY_MODEL_5b81d5a69f664d438e439b46a16fff18",
            "value": "Downloading: 100%"
          }
        },
        "01d405b5d74649a795bfc297d45d3cea": {
          "model_module": "@jupyter-widgets/controls",
          "model_name": "FloatProgressModel",
          "model_module_version": "1.5.0",
          "state": {
            "_dom_classes": [],
            "_model_module": "@jupyter-widgets/controls",
            "_model_module_version": "1.5.0",
            "_model_name": "FloatProgressModel",
            "_view_count": null,
            "_view_module": "@jupyter-widgets/controls",
            "_view_module_version": "1.5.0",
            "_view_name": "ProgressView",
            "bar_style": "success",
            "description": "",
            "description_tooltip": null,
            "layout": "IPY_MODEL_cd328512c18046d78484f2823f1e5cf4",
            "max": 2132,
            "min": 0,
            "orientation": "horizontal",
            "style": "IPY_MODEL_dc190d07b5c743cc9b2d3912a7da5ddc",
            "value": 2132
          }
        },
        "0bf96637f42543f2bbaf0c877d3b3d34": {
          "model_module": "@jupyter-widgets/controls",
          "model_name": "HTMLModel",
          "model_module_version": "1.5.0",
          "state": {
            "_dom_classes": [],
            "_model_module": "@jupyter-widgets/controls",
            "_model_module_version": "1.5.0",
            "_model_name": "HTMLModel",
            "_view_count": null,
            "_view_module": "@jupyter-widgets/controls",
            "_view_module_version": "1.5.0",
            "_view_name": "HTMLView",
            "description": "",
            "description_tooltip": null,
            "layout": "IPY_MODEL_6ac9ecaa2db64757943f42493c66efe7",
            "placeholder": "​",
            "style": "IPY_MODEL_b24ba04f5d524b1a95124b8b554ae455",
            "value": " 2.13k/2.13k [00:00&lt;00:00, 102kB/s]"
          }
        },
        "a86685fd55ba442a91856ceab3f8e3ca": {
          "model_module": "@jupyter-widgets/base",
          "model_name": "LayoutModel",
          "model_module_version": "1.2.0",
          "state": {
            "_model_module": "@jupyter-widgets/base",
            "_model_module_version": "1.2.0",
            "_model_name": "LayoutModel",
            "_view_count": null,
            "_view_module": "@jupyter-widgets/base",
            "_view_module_version": "1.2.0",
            "_view_name": "LayoutView",
            "align_content": null,
            "align_items": null,
            "align_self": null,
            "border": null,
            "bottom": null,
            "display": null,
            "flex": null,
            "flex_flow": null,
            "grid_area": null,
            "grid_auto_columns": null,
            "grid_auto_flow": null,
            "grid_auto_rows": null,
            "grid_column": null,
            "grid_gap": null,
            "grid_row": null,
            "grid_template_areas": null,
            "grid_template_columns": null,
            "grid_template_rows": null,
            "height": null,
            "justify_content": null,
            "justify_items": null,
            "left": null,
            "margin": null,
            "max_height": null,
            "max_width": null,
            "min_height": null,
            "min_width": null,
            "object_fit": null,
            "object_position": null,
            "order": null,
            "overflow": null,
            "overflow_x": null,
            "overflow_y": null,
            "padding": null,
            "right": null,
            "top": null,
            "visibility": null,
            "width": null
          }
        },
        "427f07aa45224e96a84173c50c10a048": {
          "model_module": "@jupyter-widgets/base",
          "model_name": "LayoutModel",
          "model_module_version": "1.2.0",
          "state": {
            "_model_module": "@jupyter-widgets/base",
            "_model_module_version": "1.2.0",
            "_model_name": "LayoutModel",
            "_view_count": null,
            "_view_module": "@jupyter-widgets/base",
            "_view_module_version": "1.2.0",
            "_view_name": "LayoutView",
            "align_content": null,
            "align_items": null,
            "align_self": null,
            "border": null,
            "bottom": null,
            "display": null,
            "flex": null,
            "flex_flow": null,
            "grid_area": null,
            "grid_auto_columns": null,
            "grid_auto_flow": null,
            "grid_auto_rows": null,
            "grid_column": null,
            "grid_gap": null,
            "grid_row": null,
            "grid_template_areas": null,
            "grid_template_columns": null,
            "grid_template_rows": null,
            "height": null,
            "justify_content": null,
            "justify_items": null,
            "left": null,
            "margin": null,
            "max_height": null,
            "max_width": null,
            "min_height": null,
            "min_width": null,
            "object_fit": null,
            "object_position": null,
            "order": null,
            "overflow": null,
            "overflow_x": null,
            "overflow_y": null,
            "padding": null,
            "right": null,
            "top": null,
            "visibility": null,
            "width": null
          }
        },
        "5b81d5a69f664d438e439b46a16fff18": {
          "model_module": "@jupyter-widgets/controls",
          "model_name": "DescriptionStyleModel",
          "model_module_version": "1.5.0",
          "state": {
            "_model_module": "@jupyter-widgets/controls",
            "_model_module_version": "1.5.0",
            "_model_name": "DescriptionStyleModel",
            "_view_count": null,
            "_view_module": "@jupyter-widgets/base",
            "_view_module_version": "1.2.0",
            "_view_name": "StyleView",
            "description_width": ""
          }
        },
        "cd328512c18046d78484f2823f1e5cf4": {
          "model_module": "@jupyter-widgets/base",
          "model_name": "LayoutModel",
          "model_module_version": "1.2.0",
          "state": {
            "_model_module": "@jupyter-widgets/base",
            "_model_module_version": "1.2.0",
            "_model_name": "LayoutModel",
            "_view_count": null,
            "_view_module": "@jupyter-widgets/base",
            "_view_module_version": "1.2.0",
            "_view_name": "LayoutView",
            "align_content": null,
            "align_items": null,
            "align_self": null,
            "border": null,
            "bottom": null,
            "display": null,
            "flex": null,
            "flex_flow": null,
            "grid_area": null,
            "grid_auto_columns": null,
            "grid_auto_flow": null,
            "grid_auto_rows": null,
            "grid_column": null,
            "grid_gap": null,
            "grid_row": null,
            "grid_template_areas": null,
            "grid_template_columns": null,
            "grid_template_rows": null,
            "height": null,
            "justify_content": null,
            "justify_items": null,
            "left": null,
            "margin": null,
            "max_height": null,
            "max_width": null,
            "min_height": null,
            "min_width": null,
            "object_fit": null,
            "object_position": null,
            "order": null,
            "overflow": null,
            "overflow_x": null,
            "overflow_y": null,
            "padding": null,
            "right": null,
            "top": null,
            "visibility": null,
            "width": null
          }
        },
        "dc190d07b5c743cc9b2d3912a7da5ddc": {
          "model_module": "@jupyter-widgets/controls",
          "model_name": "ProgressStyleModel",
          "model_module_version": "1.5.0",
          "state": {
            "_model_module": "@jupyter-widgets/controls",
            "_model_module_version": "1.5.0",
            "_model_name": "ProgressStyleModel",
            "_view_count": null,
            "_view_module": "@jupyter-widgets/base",
            "_view_module_version": "1.2.0",
            "_view_name": "StyleView",
            "bar_color": null,
            "description_width": ""
          }
        },
        "6ac9ecaa2db64757943f42493c66efe7": {
          "model_module": "@jupyter-widgets/base",
          "model_name": "LayoutModel",
          "model_module_version": "1.2.0",
          "state": {
            "_model_module": "@jupyter-widgets/base",
            "_model_module_version": "1.2.0",
            "_model_name": "LayoutModel",
            "_view_count": null,
            "_view_module": "@jupyter-widgets/base",
            "_view_module_version": "1.2.0",
            "_view_name": "LayoutView",
            "align_content": null,
            "align_items": null,
            "align_self": null,
            "border": null,
            "bottom": null,
            "display": null,
            "flex": null,
            "flex_flow": null,
            "grid_area": null,
            "grid_auto_columns": null,
            "grid_auto_flow": null,
            "grid_auto_rows": null,
            "grid_column": null,
            "grid_gap": null,
            "grid_row": null,
            "grid_template_areas": null,
            "grid_template_columns": null,
            "grid_template_rows": null,
            "height": null,
            "justify_content": null,
            "justify_items": null,
            "left": null,
            "margin": null,
            "max_height": null,
            "max_width": null,
            "min_height": null,
            "min_width": null,
            "object_fit": null,
            "object_position": null,
            "order": null,
            "overflow": null,
            "overflow_x": null,
            "overflow_y": null,
            "padding": null,
            "right": null,
            "top": null,
            "visibility": null,
            "width": null
          }
        },
        "b24ba04f5d524b1a95124b8b554ae455": {
          "model_module": "@jupyter-widgets/controls",
          "model_name": "DescriptionStyleModel",
          "model_module_version": "1.5.0",
          "state": {
            "_model_module": "@jupyter-widgets/controls",
            "_model_module_version": "1.5.0",
            "_model_name": "DescriptionStyleModel",
            "_view_count": null,
            "_view_module": "@jupyter-widgets/base",
            "_view_module_version": "1.2.0",
            "_view_name": "StyleView",
            "description_width": ""
          }
        },
        "fa6806e5d37e4e3c8bdc13440e339d0f": {
          "model_module": "@jupyter-widgets/controls",
          "model_name": "HBoxModel",
          "model_module_version": "1.5.0",
          "state": {
            "_dom_classes": [],
            "_model_module": "@jupyter-widgets/controls",
            "_model_module_version": "1.5.0",
            "_model_name": "HBoxModel",
            "_view_count": null,
            "_view_module": "@jupyter-widgets/controls",
            "_view_module_version": "1.5.0",
            "_view_name": "HBoxView",
            "box_style": "",
            "children": [
              "IPY_MODEL_2bdf1f22ec9c4b8da4ccf6edc1d6caf7",
              "IPY_MODEL_814e88244a1546f5a0d0accdce93f692",
              "IPY_MODEL_8d64a15b8712483fbf6adcb0aeb3679d"
            ],
            "layout": "IPY_MODEL_04d4c5e9108046d49b26b8c9b11cff86"
          }
        },
        "2bdf1f22ec9c4b8da4ccf6edc1d6caf7": {
          "model_module": "@jupyter-widgets/controls",
          "model_name": "HTMLModel",
          "model_module_version": "1.5.0",
          "state": {
            "_dom_classes": [],
            "_model_module": "@jupyter-widgets/controls",
            "_model_module_version": "1.5.0",
            "_model_name": "HTMLModel",
            "_view_count": null,
            "_view_module": "@jupyter-widgets/controls",
            "_view_module_version": "1.5.0",
            "_view_name": "HTMLView",
            "description": "",
            "description_tooltip": null,
            "layout": "IPY_MODEL_efe715bf75f0426dbbde7ab7e60223f0",
            "placeholder": "​",
            "style": "IPY_MODEL_07ae30135483448aa41c29a888c53b43",
            "value": "Downloading: 100%"
          }
        },
        "814e88244a1546f5a0d0accdce93f692": {
          "model_module": "@jupyter-widgets/controls",
          "model_name": "FloatProgressModel",
          "model_module_version": "1.5.0",
          "state": {
            "_dom_classes": [],
            "_model_module": "@jupyter-widgets/controls",
            "_model_module_version": "1.5.0",
            "_model_name": "FloatProgressModel",
            "_view_count": null,
            "_view_module": "@jupyter-widgets/controls",
            "_view_module_version": "1.5.0",
            "_view_name": "ProgressView",
            "bar_style": "success",
            "description": "",
            "description_tooltip": null,
            "layout": "IPY_MODEL_56832fabd4934db7903b9348bf68cbe1",
            "max": 262398754,
            "min": 0,
            "orientation": "horizontal",
            "style": "IPY_MODEL_d13ecd679e2946588ed810273a5967df",
            "value": 262398754
          }
        },
        "8d64a15b8712483fbf6adcb0aeb3679d": {
          "model_module": "@jupyter-widgets/controls",
          "model_name": "HTMLModel",
          "model_module_version": "1.5.0",
          "state": {
            "_dom_classes": [],
            "_model_module": "@jupyter-widgets/controls",
            "_model_module_version": "1.5.0",
            "_model_name": "HTMLModel",
            "_view_count": null,
            "_view_module": "@jupyter-widgets/controls",
            "_view_module_version": "1.5.0",
            "_view_name": "HTMLView",
            "description": "",
            "description_tooltip": null,
            "layout": "IPY_MODEL_a032f094bf68424b94fcd5917925d6f4",
            "placeholder": "​",
            "style": "IPY_MODEL_3178e073513543a198a101c5db8fd88c",
            "value": " 262M/262M [00:05&lt;00:00, 55.2MB/s]"
          }
        },
        "04d4c5e9108046d49b26b8c9b11cff86": {
          "model_module": "@jupyter-widgets/base",
          "model_name": "LayoutModel",
          "model_module_version": "1.2.0",
          "state": {
            "_model_module": "@jupyter-widgets/base",
            "_model_module_version": "1.2.0",
            "_model_name": "LayoutModel",
            "_view_count": null,
            "_view_module": "@jupyter-widgets/base",
            "_view_module_version": "1.2.0",
            "_view_name": "LayoutView",
            "align_content": null,
            "align_items": null,
            "align_self": null,
            "border": null,
            "bottom": null,
            "display": null,
            "flex": null,
            "flex_flow": null,
            "grid_area": null,
            "grid_auto_columns": null,
            "grid_auto_flow": null,
            "grid_auto_rows": null,
            "grid_column": null,
            "grid_gap": null,
            "grid_row": null,
            "grid_template_areas": null,
            "grid_template_columns": null,
            "grid_template_rows": null,
            "height": null,
            "justify_content": null,
            "justify_items": null,
            "left": null,
            "margin": null,
            "max_height": null,
            "max_width": null,
            "min_height": null,
            "min_width": null,
            "object_fit": null,
            "object_position": null,
            "order": null,
            "overflow": null,
            "overflow_x": null,
            "overflow_y": null,
            "padding": null,
            "right": null,
            "top": null,
            "visibility": null,
            "width": null
          }
        },
        "efe715bf75f0426dbbde7ab7e60223f0": {
          "model_module": "@jupyter-widgets/base",
          "model_name": "LayoutModel",
          "model_module_version": "1.2.0",
          "state": {
            "_model_module": "@jupyter-widgets/base",
            "_model_module_version": "1.2.0",
            "_model_name": "LayoutModel",
            "_view_count": null,
            "_view_module": "@jupyter-widgets/base",
            "_view_module_version": "1.2.0",
            "_view_name": "LayoutView",
            "align_content": null,
            "align_items": null,
            "align_self": null,
            "border": null,
            "bottom": null,
            "display": null,
            "flex": null,
            "flex_flow": null,
            "grid_area": null,
            "grid_auto_columns": null,
            "grid_auto_flow": null,
            "grid_auto_rows": null,
            "grid_column": null,
            "grid_gap": null,
            "grid_row": null,
            "grid_template_areas": null,
            "grid_template_columns": null,
            "grid_template_rows": null,
            "height": null,
            "justify_content": null,
            "justify_items": null,
            "left": null,
            "margin": null,
            "max_height": null,
            "max_width": null,
            "min_height": null,
            "min_width": null,
            "object_fit": null,
            "object_position": null,
            "order": null,
            "overflow": null,
            "overflow_x": null,
            "overflow_y": null,
            "padding": null,
            "right": null,
            "top": null,
            "visibility": null,
            "width": null
          }
        },
        "07ae30135483448aa41c29a888c53b43": {
          "model_module": "@jupyter-widgets/controls",
          "model_name": "DescriptionStyleModel",
          "model_module_version": "1.5.0",
          "state": {
            "_model_module": "@jupyter-widgets/controls",
            "_model_module_version": "1.5.0",
            "_model_name": "DescriptionStyleModel",
            "_view_count": null,
            "_view_module": "@jupyter-widgets/base",
            "_view_module_version": "1.2.0",
            "_view_name": "StyleView",
            "description_width": ""
          }
        },
        "56832fabd4934db7903b9348bf68cbe1": {
          "model_module": "@jupyter-widgets/base",
          "model_name": "LayoutModel",
          "model_module_version": "1.2.0",
          "state": {
            "_model_module": "@jupyter-widgets/base",
            "_model_module_version": "1.2.0",
            "_model_name": "LayoutModel",
            "_view_count": null,
            "_view_module": "@jupyter-widgets/base",
            "_view_module_version": "1.2.0",
            "_view_name": "LayoutView",
            "align_content": null,
            "align_items": null,
            "align_self": null,
            "border": null,
            "bottom": null,
            "display": null,
            "flex": null,
            "flex_flow": null,
            "grid_area": null,
            "grid_auto_columns": null,
            "grid_auto_flow": null,
            "grid_auto_rows": null,
            "grid_column": null,
            "grid_gap": null,
            "grid_row": null,
            "grid_template_areas": null,
            "grid_template_columns": null,
            "grid_template_rows": null,
            "height": null,
            "justify_content": null,
            "justify_items": null,
            "left": null,
            "margin": null,
            "max_height": null,
            "max_width": null,
            "min_height": null,
            "min_width": null,
            "object_fit": null,
            "object_position": null,
            "order": null,
            "overflow": null,
            "overflow_x": null,
            "overflow_y": null,
            "padding": null,
            "right": null,
            "top": null,
            "visibility": null,
            "width": null
          }
        },
        "d13ecd679e2946588ed810273a5967df": {
          "model_module": "@jupyter-widgets/controls",
          "model_name": "ProgressStyleModel",
          "model_module_version": "1.5.0",
          "state": {
            "_model_module": "@jupyter-widgets/controls",
            "_model_module_version": "1.5.0",
            "_model_name": "ProgressStyleModel",
            "_view_count": null,
            "_view_module": "@jupyter-widgets/base",
            "_view_module_version": "1.2.0",
            "_view_name": "StyleView",
            "bar_color": null,
            "description_width": ""
          }
        },
        "a032f094bf68424b94fcd5917925d6f4": {
          "model_module": "@jupyter-widgets/base",
          "model_name": "LayoutModel",
          "model_module_version": "1.2.0",
          "state": {
            "_model_module": "@jupyter-widgets/base",
            "_model_module_version": "1.2.0",
            "_model_name": "LayoutModel",
            "_view_count": null,
            "_view_module": "@jupyter-widgets/base",
            "_view_module_version": "1.2.0",
            "_view_name": "LayoutView",
            "align_content": null,
            "align_items": null,
            "align_self": null,
            "border": null,
            "bottom": null,
            "display": null,
            "flex": null,
            "flex_flow": null,
            "grid_area": null,
            "grid_auto_columns": null,
            "grid_auto_flow": null,
            "grid_auto_rows": null,
            "grid_column": null,
            "grid_gap": null,
            "grid_row": null,
            "grid_template_areas": null,
            "grid_template_columns": null,
            "grid_template_rows": null,
            "height": null,
            "justify_content": null,
            "justify_items": null,
            "left": null,
            "margin": null,
            "max_height": null,
            "max_width": null,
            "min_height": null,
            "min_width": null,
            "object_fit": null,
            "object_position": null,
            "order": null,
            "overflow": null,
            "overflow_x": null,
            "overflow_y": null,
            "padding": null,
            "right": null,
            "top": null,
            "visibility": null,
            "width": null
          }
        },
        "3178e073513543a198a101c5db8fd88c": {
          "model_module": "@jupyter-widgets/controls",
          "model_name": "DescriptionStyleModel",
          "model_module_version": "1.5.0",
          "state": {
            "_model_module": "@jupyter-widgets/controls",
            "_model_module_version": "1.5.0",
            "_model_name": "DescriptionStyleModel",
            "_view_count": null,
            "_view_module": "@jupyter-widgets/base",
            "_view_module_version": "1.2.0",
            "_view_name": "StyleView",
            "description_width": ""
          }
        },
        "770b58bbcbee46059896d054b1eab365": {
          "model_module": "@jupyter-widgets/controls",
          "model_name": "HBoxModel",
          "model_module_version": "1.5.0",
          "state": {
            "_dom_classes": [],
            "_model_module": "@jupyter-widgets/controls",
            "_model_module_version": "1.5.0",
            "_model_name": "HBoxModel",
            "_view_count": null,
            "_view_module": "@jupyter-widgets/controls",
            "_view_module_version": "1.5.0",
            "_view_name": "HBoxView",
            "box_style": "",
            "children": [
              "IPY_MODEL_bf9d093977e141c8aa5730baf1c444b5",
              "IPY_MODEL_6329f76b4f7a4dbcb79616f7463ac975",
              "IPY_MODEL_12ff62e89f1447018994f83da1e83c73"
            ],
            "layout": "IPY_MODEL_2c53998ee2cf44568e4856b884b9ba08"
          }
        },
        "bf9d093977e141c8aa5730baf1c444b5": {
          "model_module": "@jupyter-widgets/controls",
          "model_name": "HTMLModel",
          "model_module_version": "1.5.0",
          "state": {
            "_dom_classes": [],
            "_model_module": "@jupyter-widgets/controls",
            "_model_module_version": "1.5.0",
            "_model_name": "HTMLModel",
            "_view_count": null,
            "_view_module": "@jupyter-widgets/controls",
            "_view_module_version": "1.5.0",
            "_view_name": "HTMLView",
            "description": "",
            "description_tooltip": null,
            "layout": "IPY_MODEL_1dace90370064b1abc3bd303dc8df59f",
            "placeholder": "​",
            "style": "IPY_MODEL_f295dbd995f54d66998183b262484a88",
            "value": "tokenizer_config.json: 100%"
          }
        },
        "6329f76b4f7a4dbcb79616f7463ac975": {
          "model_module": "@jupyter-widgets/controls",
          "model_name": "FloatProgressModel",
          "model_module_version": "1.5.0",
          "state": {
            "_dom_classes": [],
            "_model_module": "@jupyter-widgets/controls",
            "_model_module_version": "1.5.0",
            "_model_name": "FloatProgressModel",
            "_view_count": null,
            "_view_module": "@jupyter-widgets/controls",
            "_view_module_version": "1.5.0",
            "_view_name": "ProgressView",
            "bar_style": "success",
            "description": "",
            "description_tooltip": null,
            "layout": "IPY_MODEL_1cd25b678f27471b8376022a6ed57310",
            "max": 153,
            "min": 0,
            "orientation": "horizontal",
            "style": "IPY_MODEL_ef11174a392a45c3abd45074ebd1ce62",
            "value": 153
          }
        },
        "12ff62e89f1447018994f83da1e83c73": {
          "model_module": "@jupyter-widgets/controls",
          "model_name": "HTMLModel",
          "model_module_version": "1.5.0",
          "state": {
            "_dom_classes": [],
            "_model_module": "@jupyter-widgets/controls",
            "_model_module_version": "1.5.0",
            "_model_name": "HTMLModel",
            "_view_count": null,
            "_view_module": "@jupyter-widgets/controls",
            "_view_module_version": "1.5.0",
            "_view_name": "HTMLView",
            "description": "",
            "description_tooltip": null,
            "layout": "IPY_MODEL_351688e1f18e4752a7817a5cf83ec0a2",
            "placeholder": "​",
            "style": "IPY_MODEL_8390ebb4a7df41b18d60c0672f2a0a46",
            "value": " 153/153 [00:00&lt;00:00, 4.95kB/s]"
          }
        },
        "2c53998ee2cf44568e4856b884b9ba08": {
          "model_module": "@jupyter-widgets/base",
          "model_name": "LayoutModel",
          "model_module_version": "1.2.0",
          "state": {
            "_model_module": "@jupyter-widgets/base",
            "_model_module_version": "1.2.0",
            "_model_name": "LayoutModel",
            "_view_count": null,
            "_view_module": "@jupyter-widgets/base",
            "_view_module_version": "1.2.0",
            "_view_name": "LayoutView",
            "align_content": null,
            "align_items": null,
            "align_self": null,
            "border": null,
            "bottom": null,
            "display": null,
            "flex": null,
            "flex_flow": null,
            "grid_area": null,
            "grid_auto_columns": null,
            "grid_auto_flow": null,
            "grid_auto_rows": null,
            "grid_column": null,
            "grid_gap": null,
            "grid_row": null,
            "grid_template_areas": null,
            "grid_template_columns": null,
            "grid_template_rows": null,
            "height": null,
            "justify_content": null,
            "justify_items": null,
            "left": null,
            "margin": null,
            "max_height": null,
            "max_width": null,
            "min_height": null,
            "min_width": null,
            "object_fit": null,
            "object_position": null,
            "order": null,
            "overflow": null,
            "overflow_x": null,
            "overflow_y": null,
            "padding": null,
            "right": null,
            "top": null,
            "visibility": null,
            "width": null
          }
        },
        "1dace90370064b1abc3bd303dc8df59f": {
          "model_module": "@jupyter-widgets/base",
          "model_name": "LayoutModel",
          "model_module_version": "1.2.0",
          "state": {
            "_model_module": "@jupyter-widgets/base",
            "_model_module_version": "1.2.0",
            "_model_name": "LayoutModel",
            "_view_count": null,
            "_view_module": "@jupyter-widgets/base",
            "_view_module_version": "1.2.0",
            "_view_name": "LayoutView",
            "align_content": null,
            "align_items": null,
            "align_self": null,
            "border": null,
            "bottom": null,
            "display": null,
            "flex": null,
            "flex_flow": null,
            "grid_area": null,
            "grid_auto_columns": null,
            "grid_auto_flow": null,
            "grid_auto_rows": null,
            "grid_column": null,
            "grid_gap": null,
            "grid_row": null,
            "grid_template_areas": null,
            "grid_template_columns": null,
            "grid_template_rows": null,
            "height": null,
            "justify_content": null,
            "justify_items": null,
            "left": null,
            "margin": null,
            "max_height": null,
            "max_width": null,
            "min_height": null,
            "min_width": null,
            "object_fit": null,
            "object_position": null,
            "order": null,
            "overflow": null,
            "overflow_x": null,
            "overflow_y": null,
            "padding": null,
            "right": null,
            "top": null,
            "visibility": null,
            "width": null
          }
        },
        "f295dbd995f54d66998183b262484a88": {
          "model_module": "@jupyter-widgets/controls",
          "model_name": "DescriptionStyleModel",
          "model_module_version": "1.5.0",
          "state": {
            "_model_module": "@jupyter-widgets/controls",
            "_model_module_version": "1.5.0",
            "_model_name": "DescriptionStyleModel",
            "_view_count": null,
            "_view_module": "@jupyter-widgets/base",
            "_view_module_version": "1.2.0",
            "_view_name": "StyleView",
            "description_width": ""
          }
        },
        "1cd25b678f27471b8376022a6ed57310": {
          "model_module": "@jupyter-widgets/base",
          "model_name": "LayoutModel",
          "model_module_version": "1.2.0",
          "state": {
            "_model_module": "@jupyter-widgets/base",
            "_model_module_version": "1.2.0",
            "_model_name": "LayoutModel",
            "_view_count": null,
            "_view_module": "@jupyter-widgets/base",
            "_view_module_version": "1.2.0",
            "_view_name": "LayoutView",
            "align_content": null,
            "align_items": null,
            "align_self": null,
            "border": null,
            "bottom": null,
            "display": null,
            "flex": null,
            "flex_flow": null,
            "grid_area": null,
            "grid_auto_columns": null,
            "grid_auto_flow": null,
            "grid_auto_rows": null,
            "grid_column": null,
            "grid_gap": null,
            "grid_row": null,
            "grid_template_areas": null,
            "grid_template_columns": null,
            "grid_template_rows": null,
            "height": null,
            "justify_content": null,
            "justify_items": null,
            "left": null,
            "margin": null,
            "max_height": null,
            "max_width": null,
            "min_height": null,
            "min_width": null,
            "object_fit": null,
            "object_position": null,
            "order": null,
            "overflow": null,
            "overflow_x": null,
            "overflow_y": null,
            "padding": null,
            "right": null,
            "top": null,
            "visibility": null,
            "width": null
          }
        },
        "ef11174a392a45c3abd45074ebd1ce62": {
          "model_module": "@jupyter-widgets/controls",
          "model_name": "ProgressStyleModel",
          "model_module_version": "1.5.0",
          "state": {
            "_model_module": "@jupyter-widgets/controls",
            "_model_module_version": "1.5.0",
            "_model_name": "ProgressStyleModel",
            "_view_count": null,
            "_view_module": "@jupyter-widgets/base",
            "_view_module_version": "1.2.0",
            "_view_name": "StyleView",
            "bar_color": null,
            "description_width": ""
          }
        },
        "351688e1f18e4752a7817a5cf83ec0a2": {
          "model_module": "@jupyter-widgets/base",
          "model_name": "LayoutModel",
          "model_module_version": "1.2.0",
          "state": {
            "_model_module": "@jupyter-widgets/base",
            "_model_module_version": "1.2.0",
            "_model_name": "LayoutModel",
            "_view_count": null,
            "_view_module": "@jupyter-widgets/base",
            "_view_module_version": "1.2.0",
            "_view_name": "LayoutView",
            "align_content": null,
            "align_items": null,
            "align_self": null,
            "border": null,
            "bottom": null,
            "display": null,
            "flex": null,
            "flex_flow": null,
            "grid_area": null,
            "grid_auto_columns": null,
            "grid_auto_flow": null,
            "grid_auto_rows": null,
            "grid_column": null,
            "grid_gap": null,
            "grid_row": null,
            "grid_template_areas": null,
            "grid_template_columns": null,
            "grid_template_rows": null,
            "height": null,
            "justify_content": null,
            "justify_items": null,
            "left": null,
            "margin": null,
            "max_height": null,
            "max_width": null,
            "min_height": null,
            "min_width": null,
            "object_fit": null,
            "object_position": null,
            "order": null,
            "overflow": null,
            "overflow_x": null,
            "overflow_y": null,
            "padding": null,
            "right": null,
            "top": null,
            "visibility": null,
            "width": null
          }
        },
        "8390ebb4a7df41b18d60c0672f2a0a46": {
          "model_module": "@jupyter-widgets/controls",
          "model_name": "DescriptionStyleModel",
          "model_module_version": "1.5.0",
          "state": {
            "_model_module": "@jupyter-widgets/controls",
            "_model_module_version": "1.5.0",
            "_model_name": "DescriptionStyleModel",
            "_view_count": null,
            "_view_module": "@jupyter-widgets/base",
            "_view_module_version": "1.2.0",
            "_view_name": "StyleView",
            "description_width": ""
          }
        },
        "772772d1d8e74d87a767a18f082d7272": {
          "model_module": "@jupyter-widgets/controls",
          "model_name": "HBoxModel",
          "model_module_version": "1.5.0",
          "state": {
            "_dom_classes": [],
            "_model_module": "@jupyter-widgets/controls",
            "_model_module_version": "1.5.0",
            "_model_name": "HBoxModel",
            "_view_count": null,
            "_view_module": "@jupyter-widgets/controls",
            "_view_module_version": "1.5.0",
            "_view_name": "HBoxView",
            "box_style": "",
            "children": [
              "IPY_MODEL_14852c6cbfb9468199402950c662c1f3",
              "IPY_MODEL_26074fe1f258421b894814f6f96cc46a",
              "IPY_MODEL_eeff48636e5f402e9066cb4329affc76"
            ],
            "layout": "IPY_MODEL_9ab8149ed0bb48fab5e4b489eb01d23f"
          }
        },
        "14852c6cbfb9468199402950c662c1f3": {
          "model_module": "@jupyter-widgets/controls",
          "model_name": "HTMLModel",
          "model_module_version": "1.5.0",
          "state": {
            "_dom_classes": [],
            "_model_module": "@jupyter-widgets/controls",
            "_model_module_version": "1.5.0",
            "_model_name": "HTMLModel",
            "_view_count": null,
            "_view_module": "@jupyter-widgets/controls",
            "_view_module_version": "1.5.0",
            "_view_name": "HTMLView",
            "description": "",
            "description_tooltip": null,
            "layout": "IPY_MODEL_048c21f8e2a54490a4d8f52ce0e44504",
            "placeholder": "​",
            "style": "IPY_MODEL_8d2fc86d999342ddbc32fb3d98ef906b",
            "value": "vocab.txt: 100%"
          }
        },
        "26074fe1f258421b894814f6f96cc46a": {
          "model_module": "@jupyter-widgets/controls",
          "model_name": "FloatProgressModel",
          "model_module_version": "1.5.0",
          "state": {
            "_dom_classes": [],
            "_model_module": "@jupyter-widgets/controls",
            "_model_module_version": "1.5.0",
            "_model_name": "FloatProgressModel",
            "_view_count": null,
            "_view_module": "@jupyter-widgets/controls",
            "_view_module_version": "1.5.0",
            "_view_name": "ProgressView",
            "bar_style": "success",
            "description": "",
            "description_tooltip": null,
            "layout": "IPY_MODEL_a390eb6490684853bfd9652bda2cfbbf",
            "max": 231508,
            "min": 0,
            "orientation": "horizontal",
            "style": "IPY_MODEL_6604923315c346709beb20cf95f4a33c",
            "value": 231508
          }
        },
        "eeff48636e5f402e9066cb4329affc76": {
          "model_module": "@jupyter-widgets/controls",
          "model_name": "HTMLModel",
          "model_module_version": "1.5.0",
          "state": {
            "_dom_classes": [],
            "_model_module": "@jupyter-widgets/controls",
            "_model_module_version": "1.5.0",
            "_model_name": "HTMLModel",
            "_view_count": null,
            "_view_module": "@jupyter-widgets/controls",
            "_view_module_version": "1.5.0",
            "_view_name": "HTMLView",
            "description": "",
            "description_tooltip": null,
            "layout": "IPY_MODEL_69dcfe6609b847d69d5521feaafd1266",
            "placeholder": "​",
            "style": "IPY_MODEL_52c95c4591e041f489282956ca44788a",
            "value": " 232k/232k [00:00&lt;00:00, 2.66MB/s]"
          }
        },
        "9ab8149ed0bb48fab5e4b489eb01d23f": {
          "model_module": "@jupyter-widgets/base",
          "model_name": "LayoutModel",
          "model_module_version": "1.2.0",
          "state": {
            "_model_module": "@jupyter-widgets/base",
            "_model_module_version": "1.2.0",
            "_model_name": "LayoutModel",
            "_view_count": null,
            "_view_module": "@jupyter-widgets/base",
            "_view_module_version": "1.2.0",
            "_view_name": "LayoutView",
            "align_content": null,
            "align_items": null,
            "align_self": null,
            "border": null,
            "bottom": null,
            "display": null,
            "flex": null,
            "flex_flow": null,
            "grid_area": null,
            "grid_auto_columns": null,
            "grid_auto_flow": null,
            "grid_auto_rows": null,
            "grid_column": null,
            "grid_gap": null,
            "grid_row": null,
            "grid_template_areas": null,
            "grid_template_columns": null,
            "grid_template_rows": null,
            "height": null,
            "justify_content": null,
            "justify_items": null,
            "left": null,
            "margin": null,
            "max_height": null,
            "max_width": null,
            "min_height": null,
            "min_width": null,
            "object_fit": null,
            "object_position": null,
            "order": null,
            "overflow": null,
            "overflow_x": null,
            "overflow_y": null,
            "padding": null,
            "right": null,
            "top": null,
            "visibility": null,
            "width": null
          }
        },
        "048c21f8e2a54490a4d8f52ce0e44504": {
          "model_module": "@jupyter-widgets/base",
          "model_name": "LayoutModel",
          "model_module_version": "1.2.0",
          "state": {
            "_model_module": "@jupyter-widgets/base",
            "_model_module_version": "1.2.0",
            "_model_name": "LayoutModel",
            "_view_count": null,
            "_view_module": "@jupyter-widgets/base",
            "_view_module_version": "1.2.0",
            "_view_name": "LayoutView",
            "align_content": null,
            "align_items": null,
            "align_self": null,
            "border": null,
            "bottom": null,
            "display": null,
            "flex": null,
            "flex_flow": null,
            "grid_area": null,
            "grid_auto_columns": null,
            "grid_auto_flow": null,
            "grid_auto_rows": null,
            "grid_column": null,
            "grid_gap": null,
            "grid_row": null,
            "grid_template_areas": null,
            "grid_template_columns": null,
            "grid_template_rows": null,
            "height": null,
            "justify_content": null,
            "justify_items": null,
            "left": null,
            "margin": null,
            "max_height": null,
            "max_width": null,
            "min_height": null,
            "min_width": null,
            "object_fit": null,
            "object_position": null,
            "order": null,
            "overflow": null,
            "overflow_x": null,
            "overflow_y": null,
            "padding": null,
            "right": null,
            "top": null,
            "visibility": null,
            "width": null
          }
        },
        "8d2fc86d999342ddbc32fb3d98ef906b": {
          "model_module": "@jupyter-widgets/controls",
          "model_name": "DescriptionStyleModel",
          "model_module_version": "1.5.0",
          "state": {
            "_model_module": "@jupyter-widgets/controls",
            "_model_module_version": "1.5.0",
            "_model_name": "DescriptionStyleModel",
            "_view_count": null,
            "_view_module": "@jupyter-widgets/base",
            "_view_module_version": "1.2.0",
            "_view_name": "StyleView",
            "description_width": ""
          }
        },
        "a390eb6490684853bfd9652bda2cfbbf": {
          "model_module": "@jupyter-widgets/base",
          "model_name": "LayoutModel",
          "model_module_version": "1.2.0",
          "state": {
            "_model_module": "@jupyter-widgets/base",
            "_model_module_version": "1.2.0",
            "_model_name": "LayoutModel",
            "_view_count": null,
            "_view_module": "@jupyter-widgets/base",
            "_view_module_version": "1.2.0",
            "_view_name": "LayoutView",
            "align_content": null,
            "align_items": null,
            "align_self": null,
            "border": null,
            "bottom": null,
            "display": null,
            "flex": null,
            "flex_flow": null,
            "grid_area": null,
            "grid_auto_columns": null,
            "grid_auto_flow": null,
            "grid_auto_rows": null,
            "grid_column": null,
            "grid_gap": null,
            "grid_row": null,
            "grid_template_areas": null,
            "grid_template_columns": null,
            "grid_template_rows": null,
            "height": null,
            "justify_content": null,
            "justify_items": null,
            "left": null,
            "margin": null,
            "max_height": null,
            "max_width": null,
            "min_height": null,
            "min_width": null,
            "object_fit": null,
            "object_position": null,
            "order": null,
            "overflow": null,
            "overflow_x": null,
            "overflow_y": null,
            "padding": null,
            "right": null,
            "top": null,
            "visibility": null,
            "width": null
          }
        },
        "6604923315c346709beb20cf95f4a33c": {
          "model_module": "@jupyter-widgets/controls",
          "model_name": "ProgressStyleModel",
          "model_module_version": "1.5.0",
          "state": {
            "_model_module": "@jupyter-widgets/controls",
            "_model_module_version": "1.5.0",
            "_model_name": "ProgressStyleModel",
            "_view_count": null,
            "_view_module": "@jupyter-widgets/base",
            "_view_module_version": "1.2.0",
            "_view_name": "StyleView",
            "bar_color": null,
            "description_width": ""
          }
        },
        "69dcfe6609b847d69d5521feaafd1266": {
          "model_module": "@jupyter-widgets/base",
          "model_name": "LayoutModel",
          "model_module_version": "1.2.0",
          "state": {
            "_model_module": "@jupyter-widgets/base",
            "_model_module_version": "1.2.0",
            "_model_name": "LayoutModel",
            "_view_count": null,
            "_view_module": "@jupyter-widgets/base",
            "_view_module_version": "1.2.0",
            "_view_name": "LayoutView",
            "align_content": null,
            "align_items": null,
            "align_self": null,
            "border": null,
            "bottom": null,
            "display": null,
            "flex": null,
            "flex_flow": null,
            "grid_area": null,
            "grid_auto_columns": null,
            "grid_auto_flow": null,
            "grid_auto_rows": null,
            "grid_column": null,
            "grid_gap": null,
            "grid_row": null,
            "grid_template_areas": null,
            "grid_template_columns": null,
            "grid_template_rows": null,
            "height": null,
            "justify_content": null,
            "justify_items": null,
            "left": null,
            "margin": null,
            "max_height": null,
            "max_width": null,
            "min_height": null,
            "min_width": null,
            "object_fit": null,
            "object_position": null,
            "order": null,
            "overflow": null,
            "overflow_x": null,
            "overflow_y": null,
            "padding": null,
            "right": null,
            "top": null,
            "visibility": null,
            "width": null
          }
        },
        "52c95c4591e041f489282956ca44788a": {
          "model_module": "@jupyter-widgets/controls",
          "model_name": "DescriptionStyleModel",
          "model_module_version": "1.5.0",
          "state": {
            "_model_module": "@jupyter-widgets/controls",
            "_model_module_version": "1.5.0",
            "_model_name": "DescriptionStyleModel",
            "_view_count": null,
            "_view_module": "@jupyter-widgets/base",
            "_view_module_version": "1.2.0",
            "_view_name": "StyleView",
            "description_width": ""
          }
        },
        "3b39853e711c42cc972d1882b82c1fe2": {
          "model_module": "@jupyter-widgets/controls",
          "model_name": "HBoxModel",
          "model_module_version": "1.5.0",
          "state": {
            "_dom_classes": [],
            "_model_module": "@jupyter-widgets/controls",
            "_model_module_version": "1.5.0",
            "_model_name": "HBoxModel",
            "_view_count": null,
            "_view_module": "@jupyter-widgets/controls",
            "_view_module_version": "1.5.0",
            "_view_name": "HBoxView",
            "box_style": "",
            "children": [
              "IPY_MODEL_a8ec7ab9765e4a94b985cbd392e45cf5",
              "IPY_MODEL_2732be561fcd418a8763b771aa6b327d",
              "IPY_MODEL_05a9b8940d9840e38a9036da9d55d2eb"
            ],
            "layout": "IPY_MODEL_2474b34c8879400396996c259f633571"
          }
        },
        "a8ec7ab9765e4a94b985cbd392e45cf5": {
          "model_module": "@jupyter-widgets/controls",
          "model_name": "HTMLModel",
          "model_module_version": "1.5.0",
          "state": {
            "_dom_classes": [],
            "_model_module": "@jupyter-widgets/controls",
            "_model_module_version": "1.5.0",
            "_model_name": "HTMLModel",
            "_view_count": null,
            "_view_module": "@jupyter-widgets/controls",
            "_view_module_version": "1.5.0",
            "_view_name": "HTMLView",
            "description": "",
            "description_tooltip": null,
            "layout": "IPY_MODEL_eb485b07cd83424090b61265da10db91",
            "placeholder": "​",
            "style": "IPY_MODEL_ec44ecdfbfb74d4cab91010c14ff8f3d",
            "value": "special_tokens_map.json: 100%"
          }
        },
        "2732be561fcd418a8763b771aa6b327d": {
          "model_module": "@jupyter-widgets/controls",
          "model_name": "FloatProgressModel",
          "model_module_version": "1.5.0",
          "state": {
            "_dom_classes": [],
            "_model_module": "@jupyter-widgets/controls",
            "_model_module_version": "1.5.0",
            "_model_name": "FloatProgressModel",
            "_view_count": null,
            "_view_module": "@jupyter-widgets/controls",
            "_view_module_version": "1.5.0",
            "_view_name": "ProgressView",
            "bar_style": "success",
            "description": "",
            "description_tooltip": null,
            "layout": "IPY_MODEL_c8b4a22ef4f749cbbaa084cf2a06593f",
            "max": 112,
            "min": 0,
            "orientation": "horizontal",
            "style": "IPY_MODEL_165e865db6994441981fda3eedd47765",
            "value": 112
          }
        },
        "05a9b8940d9840e38a9036da9d55d2eb": {
          "model_module": "@jupyter-widgets/controls",
          "model_name": "HTMLModel",
          "model_module_version": "1.5.0",
          "state": {
            "_dom_classes": [],
            "_model_module": "@jupyter-widgets/controls",
            "_model_module_version": "1.5.0",
            "_model_name": "HTMLModel",
            "_view_count": null,
            "_view_module": "@jupyter-widgets/controls",
            "_view_module_version": "1.5.0",
            "_view_name": "HTMLView",
            "description": "",
            "description_tooltip": null,
            "layout": "IPY_MODEL_426372ca2b404320ade394a508e0838b",
            "placeholder": "​",
            "style": "IPY_MODEL_98b0b9fedd0e4e89bc323916a26740fe",
            "value": " 112/112 [00:00&lt;00:00, 4.27kB/s]"
          }
        },
        "2474b34c8879400396996c259f633571": {
          "model_module": "@jupyter-widgets/base",
          "model_name": "LayoutModel",
          "model_module_version": "1.2.0",
          "state": {
            "_model_module": "@jupyter-widgets/base",
            "_model_module_version": "1.2.0",
            "_model_name": "LayoutModel",
            "_view_count": null,
            "_view_module": "@jupyter-widgets/base",
            "_view_module_version": "1.2.0",
            "_view_name": "LayoutView",
            "align_content": null,
            "align_items": null,
            "align_self": null,
            "border": null,
            "bottom": null,
            "display": null,
            "flex": null,
            "flex_flow": null,
            "grid_area": null,
            "grid_auto_columns": null,
            "grid_auto_flow": null,
            "grid_auto_rows": null,
            "grid_column": null,
            "grid_gap": null,
            "grid_row": null,
            "grid_template_areas": null,
            "grid_template_columns": null,
            "grid_template_rows": null,
            "height": null,
            "justify_content": null,
            "justify_items": null,
            "left": null,
            "margin": null,
            "max_height": null,
            "max_width": null,
            "min_height": null,
            "min_width": null,
            "object_fit": null,
            "object_position": null,
            "order": null,
            "overflow": null,
            "overflow_x": null,
            "overflow_y": null,
            "padding": null,
            "right": null,
            "top": null,
            "visibility": null,
            "width": null
          }
        },
        "eb485b07cd83424090b61265da10db91": {
          "model_module": "@jupyter-widgets/base",
          "model_name": "LayoutModel",
          "model_module_version": "1.2.0",
          "state": {
            "_model_module": "@jupyter-widgets/base",
            "_model_module_version": "1.2.0",
            "_model_name": "LayoutModel",
            "_view_count": null,
            "_view_module": "@jupyter-widgets/base",
            "_view_module_version": "1.2.0",
            "_view_name": "LayoutView",
            "align_content": null,
            "align_items": null,
            "align_self": null,
            "border": null,
            "bottom": null,
            "display": null,
            "flex": null,
            "flex_flow": null,
            "grid_area": null,
            "grid_auto_columns": null,
            "grid_auto_flow": null,
            "grid_auto_rows": null,
            "grid_column": null,
            "grid_gap": null,
            "grid_row": null,
            "grid_template_areas": null,
            "grid_template_columns": null,
            "grid_template_rows": null,
            "height": null,
            "justify_content": null,
            "justify_items": null,
            "left": null,
            "margin": null,
            "max_height": null,
            "max_width": null,
            "min_height": null,
            "min_width": null,
            "object_fit": null,
            "object_position": null,
            "order": null,
            "overflow": null,
            "overflow_x": null,
            "overflow_y": null,
            "padding": null,
            "right": null,
            "top": null,
            "visibility": null,
            "width": null
          }
        },
        "ec44ecdfbfb74d4cab91010c14ff8f3d": {
          "model_module": "@jupyter-widgets/controls",
          "model_name": "DescriptionStyleModel",
          "model_module_version": "1.5.0",
          "state": {
            "_model_module": "@jupyter-widgets/controls",
            "_model_module_version": "1.5.0",
            "_model_name": "DescriptionStyleModel",
            "_view_count": null,
            "_view_module": "@jupyter-widgets/base",
            "_view_module_version": "1.2.0",
            "_view_name": "StyleView",
            "description_width": ""
          }
        },
        "c8b4a22ef4f749cbbaa084cf2a06593f": {
          "model_module": "@jupyter-widgets/base",
          "model_name": "LayoutModel",
          "model_module_version": "1.2.0",
          "state": {
            "_model_module": "@jupyter-widgets/base",
            "_model_module_version": "1.2.0",
            "_model_name": "LayoutModel",
            "_view_count": null,
            "_view_module": "@jupyter-widgets/base",
            "_view_module_version": "1.2.0",
            "_view_name": "LayoutView",
            "align_content": null,
            "align_items": null,
            "align_self": null,
            "border": null,
            "bottom": null,
            "display": null,
            "flex": null,
            "flex_flow": null,
            "grid_area": null,
            "grid_auto_columns": null,
            "grid_auto_flow": null,
            "grid_auto_rows": null,
            "grid_column": null,
            "grid_gap": null,
            "grid_row": null,
            "grid_template_areas": null,
            "grid_template_columns": null,
            "grid_template_rows": null,
            "height": null,
            "justify_content": null,
            "justify_items": null,
            "left": null,
            "margin": null,
            "max_height": null,
            "max_width": null,
            "min_height": null,
            "min_width": null,
            "object_fit": null,
            "object_position": null,
            "order": null,
            "overflow": null,
            "overflow_x": null,
            "overflow_y": null,
            "padding": null,
            "right": null,
            "top": null,
            "visibility": null,
            "width": null
          }
        },
        "165e865db6994441981fda3eedd47765": {
          "model_module": "@jupyter-widgets/controls",
          "model_name": "ProgressStyleModel",
          "model_module_version": "1.5.0",
          "state": {
            "_model_module": "@jupyter-widgets/controls",
            "_model_module_version": "1.5.0",
            "_model_name": "ProgressStyleModel",
            "_view_count": null,
            "_view_module": "@jupyter-widgets/base",
            "_view_module_version": "1.2.0",
            "_view_name": "StyleView",
            "bar_color": null,
            "description_width": ""
          }
        },
        "426372ca2b404320ade394a508e0838b": {
          "model_module": "@jupyter-widgets/base",
          "model_name": "LayoutModel",
          "model_module_version": "1.2.0",
          "state": {
            "_model_module": "@jupyter-widgets/base",
            "_model_module_version": "1.2.0",
            "_model_name": "LayoutModel",
            "_view_count": null,
            "_view_module": "@jupyter-widgets/base",
            "_view_module_version": "1.2.0",
            "_view_name": "LayoutView",
            "align_content": null,
            "align_items": null,
            "align_self": null,
            "border": null,
            "bottom": null,
            "display": null,
            "flex": null,
            "flex_flow": null,
            "grid_area": null,
            "grid_auto_columns": null,
            "grid_auto_flow": null,
            "grid_auto_rows": null,
            "grid_column": null,
            "grid_gap": null,
            "grid_row": null,
            "grid_template_areas": null,
            "grid_template_columns": null,
            "grid_template_rows": null,
            "height": null,
            "justify_content": null,
            "justify_items": null,
            "left": null,
            "margin": null,
            "max_height": null,
            "max_width": null,
            "min_height": null,
            "min_width": null,
            "object_fit": null,
            "object_position": null,
            "order": null,
            "overflow": null,
            "overflow_x": null,
            "overflow_y": null,
            "padding": null,
            "right": null,
            "top": null,
            "visibility": null,
            "width": null
          }
        },
        "98b0b9fedd0e4e89bc323916a26740fe": {
          "model_module": "@jupyter-widgets/controls",
          "model_name": "DescriptionStyleModel",
          "model_module_version": "1.5.0",
          "state": {
            "_model_module": "@jupyter-widgets/controls",
            "_model_module_version": "1.5.0",
            "_model_name": "DescriptionStyleModel",
            "_view_count": null,
            "_view_module": "@jupyter-widgets/base",
            "_view_module_version": "1.2.0",
            "_view_name": "StyleView",
            "description_width": ""
          }
        },
        "44bedc8bba8945b0bd23c7fe26873b4c": {
          "model_module": "@jupyter-widgets/controls",
          "model_name": "HBoxModel",
          "model_module_version": "1.5.0",
          "state": {
            "_dom_classes": [],
            "_model_module": "@jupyter-widgets/controls",
            "_model_module_version": "1.5.0",
            "_model_name": "HBoxModel",
            "_view_count": null,
            "_view_module": "@jupyter-widgets/controls",
            "_view_module_version": "1.5.0",
            "_view_name": "HBoxView",
            "box_style": "",
            "children": [
              "IPY_MODEL_fc91c87eeead46c7b239143c6ba31a9d",
              "IPY_MODEL_c11b6a8b3dc64ec2b661b856ca829a60",
              "IPY_MODEL_c61a6c1953684a8ebf8185e0a780dd37"
            ],
            "layout": "IPY_MODEL_905455fb5d564b828eb2ae6aafe34d3d"
          }
        },
        "fc91c87eeead46c7b239143c6ba31a9d": {
          "model_module": "@jupyter-widgets/controls",
          "model_name": "HTMLModel",
          "model_module_version": "1.5.0",
          "state": {
            "_dom_classes": [],
            "_model_module": "@jupyter-widgets/controls",
            "_model_module_version": "1.5.0",
            "_model_name": "HTMLModel",
            "_view_count": null,
            "_view_module": "@jupyter-widgets/controls",
            "_view_module_version": "1.5.0",
            "_view_name": "HTMLView",
            "description": "",
            "description_tooltip": null,
            "layout": "IPY_MODEL_794418714ac54edbb41c8675549228c5",
            "placeholder": "​",
            "style": "IPY_MODEL_1271a499841941ebbd288e479a359dea",
            "value": "tokenizer.json: 100%"
          }
        },
        "c11b6a8b3dc64ec2b661b856ca829a60": {
          "model_module": "@jupyter-widgets/controls",
          "model_name": "FloatProgressModel",
          "model_module_version": "1.5.0",
          "state": {
            "_dom_classes": [],
            "_model_module": "@jupyter-widgets/controls",
            "_model_module_version": "1.5.0",
            "_model_name": "FloatProgressModel",
            "_view_count": null,
            "_view_module": "@jupyter-widgets/controls",
            "_view_module_version": "1.5.0",
            "_view_name": "ProgressView",
            "bar_style": "success",
            "description": "",
            "description_tooltip": null,
            "layout": "IPY_MODEL_b21111b6a53647e7bd62c3a2d40a8060",
            "max": 466062,
            "min": 0,
            "orientation": "horizontal",
            "style": "IPY_MODEL_ed4980d6c483405e80bc5c6778955a96",
            "value": 466062
          }
        },
        "c61a6c1953684a8ebf8185e0a780dd37": {
          "model_module": "@jupyter-widgets/controls",
          "model_name": "HTMLModel",
          "model_module_version": "1.5.0",
          "state": {
            "_dom_classes": [],
            "_model_module": "@jupyter-widgets/controls",
            "_model_module_version": "1.5.0",
            "_model_name": "HTMLModel",
            "_view_count": null,
            "_view_module": "@jupyter-widgets/controls",
            "_view_module_version": "1.5.0",
            "_view_name": "HTMLView",
            "description": "",
            "description_tooltip": null,
            "layout": "IPY_MODEL_9d6b9370677c450cbbfde6f858347fdc",
            "placeholder": "​",
            "style": "IPY_MODEL_13ed03c8a23c435aa6bb724687671ab6",
            "value": " 466k/466k [00:00&lt;00:00, 6.79MB/s]"
          }
        },
        "905455fb5d564b828eb2ae6aafe34d3d": {
          "model_module": "@jupyter-widgets/base",
          "model_name": "LayoutModel",
          "model_module_version": "1.2.0",
          "state": {
            "_model_module": "@jupyter-widgets/base",
            "_model_module_version": "1.2.0",
            "_model_name": "LayoutModel",
            "_view_count": null,
            "_view_module": "@jupyter-widgets/base",
            "_view_module_version": "1.2.0",
            "_view_name": "LayoutView",
            "align_content": null,
            "align_items": null,
            "align_self": null,
            "border": null,
            "bottom": null,
            "display": null,
            "flex": null,
            "flex_flow": null,
            "grid_area": null,
            "grid_auto_columns": null,
            "grid_auto_flow": null,
            "grid_auto_rows": null,
            "grid_column": null,
            "grid_gap": null,
            "grid_row": null,
            "grid_template_areas": null,
            "grid_template_columns": null,
            "grid_template_rows": null,
            "height": null,
            "justify_content": null,
            "justify_items": null,
            "left": null,
            "margin": null,
            "max_height": null,
            "max_width": null,
            "min_height": null,
            "min_width": null,
            "object_fit": null,
            "object_position": null,
            "order": null,
            "overflow": null,
            "overflow_x": null,
            "overflow_y": null,
            "padding": null,
            "right": null,
            "top": null,
            "visibility": null,
            "width": null
          }
        },
        "794418714ac54edbb41c8675549228c5": {
          "model_module": "@jupyter-widgets/base",
          "model_name": "LayoutModel",
          "model_module_version": "1.2.0",
          "state": {
            "_model_module": "@jupyter-widgets/base",
            "_model_module_version": "1.2.0",
            "_model_name": "LayoutModel",
            "_view_count": null,
            "_view_module": "@jupyter-widgets/base",
            "_view_module_version": "1.2.0",
            "_view_name": "LayoutView",
            "align_content": null,
            "align_items": null,
            "align_self": null,
            "border": null,
            "bottom": null,
            "display": null,
            "flex": null,
            "flex_flow": null,
            "grid_area": null,
            "grid_auto_columns": null,
            "grid_auto_flow": null,
            "grid_auto_rows": null,
            "grid_column": null,
            "grid_gap": null,
            "grid_row": null,
            "grid_template_areas": null,
            "grid_template_columns": null,
            "grid_template_rows": null,
            "height": null,
            "justify_content": null,
            "justify_items": null,
            "left": null,
            "margin": null,
            "max_height": null,
            "max_width": null,
            "min_height": null,
            "min_width": null,
            "object_fit": null,
            "object_position": null,
            "order": null,
            "overflow": null,
            "overflow_x": null,
            "overflow_y": null,
            "padding": null,
            "right": null,
            "top": null,
            "visibility": null,
            "width": null
          }
        },
        "1271a499841941ebbd288e479a359dea": {
          "model_module": "@jupyter-widgets/controls",
          "model_name": "DescriptionStyleModel",
          "model_module_version": "1.5.0",
          "state": {
            "_model_module": "@jupyter-widgets/controls",
            "_model_module_version": "1.5.0",
            "_model_name": "DescriptionStyleModel",
            "_view_count": null,
            "_view_module": "@jupyter-widgets/base",
            "_view_module_version": "1.2.0",
            "_view_name": "StyleView",
            "description_width": ""
          }
        },
        "b21111b6a53647e7bd62c3a2d40a8060": {
          "model_module": "@jupyter-widgets/base",
          "model_name": "LayoutModel",
          "model_module_version": "1.2.0",
          "state": {
            "_model_module": "@jupyter-widgets/base",
            "_model_module_version": "1.2.0",
            "_model_name": "LayoutModel",
            "_view_count": null,
            "_view_module": "@jupyter-widgets/base",
            "_view_module_version": "1.2.0",
            "_view_name": "LayoutView",
            "align_content": null,
            "align_items": null,
            "align_self": null,
            "border": null,
            "bottom": null,
            "display": null,
            "flex": null,
            "flex_flow": null,
            "grid_area": null,
            "grid_auto_columns": null,
            "grid_auto_flow": null,
            "grid_auto_rows": null,
            "grid_column": null,
            "grid_gap": null,
            "grid_row": null,
            "grid_template_areas": null,
            "grid_template_columns": null,
            "grid_template_rows": null,
            "height": null,
            "justify_content": null,
            "justify_items": null,
            "left": null,
            "margin": null,
            "max_height": null,
            "max_width": null,
            "min_height": null,
            "min_width": null,
            "object_fit": null,
            "object_position": null,
            "order": null,
            "overflow": null,
            "overflow_x": null,
            "overflow_y": null,
            "padding": null,
            "right": null,
            "top": null,
            "visibility": null,
            "width": null
          }
        },
        "ed4980d6c483405e80bc5c6778955a96": {
          "model_module": "@jupyter-widgets/controls",
          "model_name": "ProgressStyleModel",
          "model_module_version": "1.5.0",
          "state": {
            "_model_module": "@jupyter-widgets/controls",
            "_model_module_version": "1.5.0",
            "_model_name": "ProgressStyleModel",
            "_view_count": null,
            "_view_module": "@jupyter-widgets/base",
            "_view_module_version": "1.2.0",
            "_view_name": "StyleView",
            "bar_color": null,
            "description_width": ""
          }
        },
        "9d6b9370677c450cbbfde6f858347fdc": {
          "model_module": "@jupyter-widgets/base",
          "model_name": "LayoutModel",
          "model_module_version": "1.2.0",
          "state": {
            "_model_module": "@jupyter-widgets/base",
            "_model_module_version": "1.2.0",
            "_model_name": "LayoutModel",
            "_view_count": null,
            "_view_module": "@jupyter-widgets/base",
            "_view_module_version": "1.2.0",
            "_view_name": "LayoutView",
            "align_content": null,
            "align_items": null,
            "align_self": null,
            "border": null,
            "bottom": null,
            "display": null,
            "flex": null,
            "flex_flow": null,
            "grid_area": null,
            "grid_auto_columns": null,
            "grid_auto_flow": null,
            "grid_auto_rows": null,
            "grid_column": null,
            "grid_gap": null,
            "grid_row": null,
            "grid_template_areas": null,
            "grid_template_columns": null,
            "grid_template_rows": null,
            "height": null,
            "justify_content": null,
            "justify_items": null,
            "left": null,
            "margin": null,
            "max_height": null,
            "max_width": null,
            "min_height": null,
            "min_width": null,
            "object_fit": null,
            "object_position": null,
            "order": null,
            "overflow": null,
            "overflow_x": null,
            "overflow_y": null,
            "padding": null,
            "right": null,
            "top": null,
            "visibility": null,
            "width": null
          }
        },
        "13ed03c8a23c435aa6bb724687671ab6": {
          "model_module": "@jupyter-widgets/controls",
          "model_name": "DescriptionStyleModel",
          "model_module_version": "1.5.0",
          "state": {
            "_model_module": "@jupyter-widgets/controls",
            "_model_module_version": "1.5.0",
            "_model_name": "DescriptionStyleModel",
            "_view_count": null,
            "_view_module": "@jupyter-widgets/base",
            "_view_module_version": "1.2.0",
            "_view_name": "StyleView",
            "description_width": ""
          }
        },
        "dc7d2576797e4b039382fee0b475a9eb": {
          "model_module": "@jupyter-widgets/controls",
          "model_name": "HBoxModel",
          "model_module_version": "1.5.0",
          "state": {
            "_dom_classes": [],
            "_model_module": "@jupyter-widgets/controls",
            "_model_module_version": "1.5.0",
            "_model_name": "HBoxModel",
            "_view_count": null,
            "_view_module": "@jupyter-widgets/controls",
            "_view_module_version": "1.5.0",
            "_view_name": "HBoxView",
            "box_style": "",
            "children": [
              "IPY_MODEL_b14bf073a6204834933c31e90a6600bd",
              "IPY_MODEL_9cf243bfdb4e4897806395026571babc",
              "IPY_MODEL_f78b70254159460c9fa60fcb96f71112"
            ],
            "layout": "IPY_MODEL_ca09ef5698b44b32847d4ba0d3b69e91"
          }
        },
        "b14bf073a6204834933c31e90a6600bd": {
          "model_module": "@jupyter-widgets/controls",
          "model_name": "HTMLModel",
          "model_module_version": "1.5.0",
          "state": {
            "_dom_classes": [],
            "_model_module": "@jupyter-widgets/controls",
            "_model_module_version": "1.5.0",
            "_model_name": "HTMLModel",
            "_view_count": null,
            "_view_module": "@jupyter-widgets/controls",
            "_view_module_version": "1.5.0",
            "_view_name": "HTMLView",
            "description": "",
            "description_tooltip": null,
            "layout": "IPY_MODEL_6df4e421d9ec425f97598bf06aebb662",
            "placeholder": "​",
            "style": "IPY_MODEL_173d18614da34845987a9c3f7ed303a5",
            "value": "config.json: 100%"
          }
        },
        "9cf243bfdb4e4897806395026571babc": {
          "model_module": "@jupyter-widgets/controls",
          "model_name": "FloatProgressModel",
          "model_module_version": "1.5.0",
          "state": {
            "_dom_classes": [],
            "_model_module": "@jupyter-widgets/controls",
            "_model_module_version": "1.5.0",
            "_model_name": "FloatProgressModel",
            "_view_count": null,
            "_view_module": "@jupyter-widgets/controls",
            "_view_module_version": "1.5.0",
            "_view_name": "ProgressView",
            "bar_style": "success",
            "description": "",
            "description_tooltip": null,
            "layout": "IPY_MODEL_293028b14a344bd6acf0151315476fe4",
            "max": 776,
            "min": 0,
            "orientation": "horizontal",
            "style": "IPY_MODEL_b99a7b4e8da14a229004ab23c6033f9a",
            "value": 776
          }
        },
        "f78b70254159460c9fa60fcb96f71112": {
          "model_module": "@jupyter-widgets/controls",
          "model_name": "HTMLModel",
          "model_module_version": "1.5.0",
          "state": {
            "_dom_classes": [],
            "_model_module": "@jupyter-widgets/controls",
            "_model_module_version": "1.5.0",
            "_model_name": "HTMLModel",
            "_view_count": null,
            "_view_module": "@jupyter-widgets/controls",
            "_view_module_version": "1.5.0",
            "_view_name": "HTMLView",
            "description": "",
            "description_tooltip": null,
            "layout": "IPY_MODEL_1df5d586ae924f03993cb9094118945c",
            "placeholder": "​",
            "style": "IPY_MODEL_fc4d444dc3de4ba18c6d66c6c2d4c4de",
            "value": " 776/776 [00:00&lt;00:00, 40.0kB/s]"
          }
        },
        "ca09ef5698b44b32847d4ba0d3b69e91": {
          "model_module": "@jupyter-widgets/base",
          "model_name": "LayoutModel",
          "model_module_version": "1.2.0",
          "state": {
            "_model_module": "@jupyter-widgets/base",
            "_model_module_version": "1.2.0",
            "_model_name": "LayoutModel",
            "_view_count": null,
            "_view_module": "@jupyter-widgets/base",
            "_view_module_version": "1.2.0",
            "_view_name": "LayoutView",
            "align_content": null,
            "align_items": null,
            "align_self": null,
            "border": null,
            "bottom": null,
            "display": null,
            "flex": null,
            "flex_flow": null,
            "grid_area": null,
            "grid_auto_columns": null,
            "grid_auto_flow": null,
            "grid_auto_rows": null,
            "grid_column": null,
            "grid_gap": null,
            "grid_row": null,
            "grid_template_areas": null,
            "grid_template_columns": null,
            "grid_template_rows": null,
            "height": null,
            "justify_content": null,
            "justify_items": null,
            "left": null,
            "margin": null,
            "max_height": null,
            "max_width": null,
            "min_height": null,
            "min_width": null,
            "object_fit": null,
            "object_position": null,
            "order": null,
            "overflow": null,
            "overflow_x": null,
            "overflow_y": null,
            "padding": null,
            "right": null,
            "top": null,
            "visibility": null,
            "width": null
          }
        },
        "6df4e421d9ec425f97598bf06aebb662": {
          "model_module": "@jupyter-widgets/base",
          "model_name": "LayoutModel",
          "model_module_version": "1.2.0",
          "state": {
            "_model_module": "@jupyter-widgets/base",
            "_model_module_version": "1.2.0",
            "_model_name": "LayoutModel",
            "_view_count": null,
            "_view_module": "@jupyter-widgets/base",
            "_view_module_version": "1.2.0",
            "_view_name": "LayoutView",
            "align_content": null,
            "align_items": null,
            "align_self": null,
            "border": null,
            "bottom": null,
            "display": null,
            "flex": null,
            "flex_flow": null,
            "grid_area": null,
            "grid_auto_columns": null,
            "grid_auto_flow": null,
            "grid_auto_rows": null,
            "grid_column": null,
            "grid_gap": null,
            "grid_row": null,
            "grid_template_areas": null,
            "grid_template_columns": null,
            "grid_template_rows": null,
            "height": null,
            "justify_content": null,
            "justify_items": null,
            "left": null,
            "margin": null,
            "max_height": null,
            "max_width": null,
            "min_height": null,
            "min_width": null,
            "object_fit": null,
            "object_position": null,
            "order": null,
            "overflow": null,
            "overflow_x": null,
            "overflow_y": null,
            "padding": null,
            "right": null,
            "top": null,
            "visibility": null,
            "width": null
          }
        },
        "173d18614da34845987a9c3f7ed303a5": {
          "model_module": "@jupyter-widgets/controls",
          "model_name": "DescriptionStyleModel",
          "model_module_version": "1.5.0",
          "state": {
            "_model_module": "@jupyter-widgets/controls",
            "_model_module_version": "1.5.0",
            "_model_name": "DescriptionStyleModel",
            "_view_count": null,
            "_view_module": "@jupyter-widgets/base",
            "_view_module_version": "1.2.0",
            "_view_name": "StyleView",
            "description_width": ""
          }
        },
        "293028b14a344bd6acf0151315476fe4": {
          "model_module": "@jupyter-widgets/base",
          "model_name": "LayoutModel",
          "model_module_version": "1.2.0",
          "state": {
            "_model_module": "@jupyter-widgets/base",
            "_model_module_version": "1.2.0",
            "_model_name": "LayoutModel",
            "_view_count": null,
            "_view_module": "@jupyter-widgets/base",
            "_view_module_version": "1.2.0",
            "_view_name": "LayoutView",
            "align_content": null,
            "align_items": null,
            "align_self": null,
            "border": null,
            "bottom": null,
            "display": null,
            "flex": null,
            "flex_flow": null,
            "grid_area": null,
            "grid_auto_columns": null,
            "grid_auto_flow": null,
            "grid_auto_rows": null,
            "grid_column": null,
            "grid_gap": null,
            "grid_row": null,
            "grid_template_areas": null,
            "grid_template_columns": null,
            "grid_template_rows": null,
            "height": null,
            "justify_content": null,
            "justify_items": null,
            "left": null,
            "margin": null,
            "max_height": null,
            "max_width": null,
            "min_height": null,
            "min_width": null,
            "object_fit": null,
            "object_position": null,
            "order": null,
            "overflow": null,
            "overflow_x": null,
            "overflow_y": null,
            "padding": null,
            "right": null,
            "top": null,
            "visibility": null,
            "width": null
          }
        },
        "b99a7b4e8da14a229004ab23c6033f9a": {
          "model_module": "@jupyter-widgets/controls",
          "model_name": "ProgressStyleModel",
          "model_module_version": "1.5.0",
          "state": {
            "_model_module": "@jupyter-widgets/controls",
            "_model_module_version": "1.5.0",
            "_model_name": "ProgressStyleModel",
            "_view_count": null,
            "_view_module": "@jupyter-widgets/base",
            "_view_module_version": "1.2.0",
            "_view_name": "StyleView",
            "bar_color": null,
            "description_width": ""
          }
        },
        "1df5d586ae924f03993cb9094118945c": {
          "model_module": "@jupyter-widgets/base",
          "model_name": "LayoutModel",
          "model_module_version": "1.2.0",
          "state": {
            "_model_module": "@jupyter-widgets/base",
            "_model_module_version": "1.2.0",
            "_model_name": "LayoutModel",
            "_view_count": null,
            "_view_module": "@jupyter-widgets/base",
            "_view_module_version": "1.2.0",
            "_view_name": "LayoutView",
            "align_content": null,
            "align_items": null,
            "align_self": null,
            "border": null,
            "bottom": null,
            "display": null,
            "flex": null,
            "flex_flow": null,
            "grid_area": null,
            "grid_auto_columns": null,
            "grid_auto_flow": null,
            "grid_auto_rows": null,
            "grid_column": null,
            "grid_gap": null,
            "grid_row": null,
            "grid_template_areas": null,
            "grid_template_columns": null,
            "grid_template_rows": null,
            "height": null,
            "justify_content": null,
            "justify_items": null,
            "left": null,
            "margin": null,
            "max_height": null,
            "max_width": null,
            "min_height": null,
            "min_width": null,
            "object_fit": null,
            "object_position": null,
            "order": null,
            "overflow": null,
            "overflow_x": null,
            "overflow_y": null,
            "padding": null,
            "right": null,
            "top": null,
            "visibility": null,
            "width": null
          }
        },
        "fc4d444dc3de4ba18c6d66c6c2d4c4de": {
          "model_module": "@jupyter-widgets/controls",
          "model_name": "DescriptionStyleModel",
          "model_module_version": "1.5.0",
          "state": {
            "_model_module": "@jupyter-widgets/controls",
            "_model_module_version": "1.5.0",
            "_model_name": "DescriptionStyleModel",
            "_view_count": null,
            "_view_module": "@jupyter-widgets/base",
            "_view_module_version": "1.2.0",
            "_view_name": "StyleView",
            "description_width": ""
          }
        },
        "7e79b6016896409eba7daa505cc30c19": {
          "model_module": "@jupyter-widgets/controls",
          "model_name": "HBoxModel",
          "model_module_version": "1.5.0",
          "state": {
            "_dom_classes": [],
            "_model_module": "@jupyter-widgets/controls",
            "_model_module_version": "1.5.0",
            "_model_name": "HBoxModel",
            "_view_count": null,
            "_view_module": "@jupyter-widgets/controls",
            "_view_module_version": "1.5.0",
            "_view_name": "HBoxView",
            "box_style": "",
            "children": [
              "IPY_MODEL_8a46276eb1be46a5bec9e47d81574f21",
              "IPY_MODEL_62e789462acc4422b012f9960a1ff762",
              "IPY_MODEL_af4aecb49c5b4e5cbb8520f9435456ce"
            ],
            "layout": "IPY_MODEL_2378a976fbb240dcb9bad10d5574b12b"
          }
        },
        "8a46276eb1be46a5bec9e47d81574f21": {
          "model_module": "@jupyter-widgets/controls",
          "model_name": "HTMLModel",
          "model_module_version": "1.5.0",
          "state": {
            "_dom_classes": [],
            "_model_module": "@jupyter-widgets/controls",
            "_model_module_version": "1.5.0",
            "_model_name": "HTMLModel",
            "_view_count": null,
            "_view_module": "@jupyter-widgets/controls",
            "_view_module_version": "1.5.0",
            "_view_name": "HTMLView",
            "description": "",
            "description_tooltip": null,
            "layout": "IPY_MODEL_bd987043b8f843cd89e225fa8df7fcda",
            "placeholder": "​",
            "style": "IPY_MODEL_304d41d8f5074b43b8a51cc6f66b1ca2",
            "value": "config.json: 100%"
          }
        },
        "62e789462acc4422b012f9960a1ff762": {
          "model_module": "@jupyter-widgets/controls",
          "model_name": "FloatProgressModel",
          "model_module_version": "1.5.0",
          "state": {
            "_dom_classes": [],
            "_model_module": "@jupyter-widgets/controls",
            "_model_module_version": "1.5.0",
            "_model_name": "FloatProgressModel",
            "_view_count": null,
            "_view_module": "@jupyter-widgets/controls",
            "_view_module_version": "1.5.0",
            "_view_name": "ProgressView",
            "bar_style": "success",
            "description": "",
            "description_tooltip": null,
            "layout": "IPY_MODEL_5c40588f307748ab8f8a91f818584deb",
            "max": 880,
            "min": 0,
            "orientation": "horizontal",
            "style": "IPY_MODEL_13a821f06cc64ba581df0fb0470406e9",
            "value": 880
          }
        },
        "af4aecb49c5b4e5cbb8520f9435456ce": {
          "model_module": "@jupyter-widgets/controls",
          "model_name": "HTMLModel",
          "model_module_version": "1.5.0",
          "state": {
            "_dom_classes": [],
            "_model_module": "@jupyter-widgets/controls",
            "_model_module_version": "1.5.0",
            "_model_name": "HTMLModel",
            "_view_count": null,
            "_view_module": "@jupyter-widgets/controls",
            "_view_module_version": "1.5.0",
            "_view_name": "HTMLView",
            "description": "",
            "description_tooltip": null,
            "layout": "IPY_MODEL_b35d3428cd3d434591cb63b96a979553",
            "placeholder": "​",
            "style": "IPY_MODEL_db27edcb99484d83a7caf53aac8a1390",
            "value": " 880/880 [00:00&lt;00:00, 31.2kB/s]"
          }
        },
        "2378a976fbb240dcb9bad10d5574b12b": {
          "model_module": "@jupyter-widgets/base",
          "model_name": "LayoutModel",
          "model_module_version": "1.2.0",
          "state": {
            "_model_module": "@jupyter-widgets/base",
            "_model_module_version": "1.2.0",
            "_model_name": "LayoutModel",
            "_view_count": null,
            "_view_module": "@jupyter-widgets/base",
            "_view_module_version": "1.2.0",
            "_view_name": "LayoutView",
            "align_content": null,
            "align_items": null,
            "align_self": null,
            "border": null,
            "bottom": null,
            "display": null,
            "flex": null,
            "flex_flow": null,
            "grid_area": null,
            "grid_auto_columns": null,
            "grid_auto_flow": null,
            "grid_auto_rows": null,
            "grid_column": null,
            "grid_gap": null,
            "grid_row": null,
            "grid_template_areas": null,
            "grid_template_columns": null,
            "grid_template_rows": null,
            "height": null,
            "justify_content": null,
            "justify_items": null,
            "left": null,
            "margin": null,
            "max_height": null,
            "max_width": null,
            "min_height": null,
            "min_width": null,
            "object_fit": null,
            "object_position": null,
            "order": null,
            "overflow": null,
            "overflow_x": null,
            "overflow_y": null,
            "padding": null,
            "right": null,
            "top": null,
            "visibility": null,
            "width": null
          }
        },
        "bd987043b8f843cd89e225fa8df7fcda": {
          "model_module": "@jupyter-widgets/base",
          "model_name": "LayoutModel",
          "model_module_version": "1.2.0",
          "state": {
            "_model_module": "@jupyter-widgets/base",
            "_model_module_version": "1.2.0",
            "_model_name": "LayoutModel",
            "_view_count": null,
            "_view_module": "@jupyter-widgets/base",
            "_view_module_version": "1.2.0",
            "_view_name": "LayoutView",
            "align_content": null,
            "align_items": null,
            "align_self": null,
            "border": null,
            "bottom": null,
            "display": null,
            "flex": null,
            "flex_flow": null,
            "grid_area": null,
            "grid_auto_columns": null,
            "grid_auto_flow": null,
            "grid_auto_rows": null,
            "grid_column": null,
            "grid_gap": null,
            "grid_row": null,
            "grid_template_areas": null,
            "grid_template_columns": null,
            "grid_template_rows": null,
            "height": null,
            "justify_content": null,
            "justify_items": null,
            "left": null,
            "margin": null,
            "max_height": null,
            "max_width": null,
            "min_height": null,
            "min_width": null,
            "object_fit": null,
            "object_position": null,
            "order": null,
            "overflow": null,
            "overflow_x": null,
            "overflow_y": null,
            "padding": null,
            "right": null,
            "top": null,
            "visibility": null,
            "width": null
          }
        },
        "304d41d8f5074b43b8a51cc6f66b1ca2": {
          "model_module": "@jupyter-widgets/controls",
          "model_name": "DescriptionStyleModel",
          "model_module_version": "1.5.0",
          "state": {
            "_model_module": "@jupyter-widgets/controls",
            "_model_module_version": "1.5.0",
            "_model_name": "DescriptionStyleModel",
            "_view_count": null,
            "_view_module": "@jupyter-widgets/base",
            "_view_module_version": "1.2.0",
            "_view_name": "StyleView",
            "description_width": ""
          }
        },
        "5c40588f307748ab8f8a91f818584deb": {
          "model_module": "@jupyter-widgets/base",
          "model_name": "LayoutModel",
          "model_module_version": "1.2.0",
          "state": {
            "_model_module": "@jupyter-widgets/base",
            "_model_module_version": "1.2.0",
            "_model_name": "LayoutModel",
            "_view_count": null,
            "_view_module": "@jupyter-widgets/base",
            "_view_module_version": "1.2.0",
            "_view_name": "LayoutView",
            "align_content": null,
            "align_items": null,
            "align_self": null,
            "border": null,
            "bottom": null,
            "display": null,
            "flex": null,
            "flex_flow": null,
            "grid_area": null,
            "grid_auto_columns": null,
            "grid_auto_flow": null,
            "grid_auto_rows": null,
            "grid_column": null,
            "grid_gap": null,
            "grid_row": null,
            "grid_template_areas": null,
            "grid_template_columns": null,
            "grid_template_rows": null,
            "height": null,
            "justify_content": null,
            "justify_items": null,
            "left": null,
            "margin": null,
            "max_height": null,
            "max_width": null,
            "min_height": null,
            "min_width": null,
            "object_fit": null,
            "object_position": null,
            "order": null,
            "overflow": null,
            "overflow_x": null,
            "overflow_y": null,
            "padding": null,
            "right": null,
            "top": null,
            "visibility": null,
            "width": null
          }
        },
        "13a821f06cc64ba581df0fb0470406e9": {
          "model_module": "@jupyter-widgets/controls",
          "model_name": "ProgressStyleModel",
          "model_module_version": "1.5.0",
          "state": {
            "_model_module": "@jupyter-widgets/controls",
            "_model_module_version": "1.5.0",
            "_model_name": "ProgressStyleModel",
            "_view_count": null,
            "_view_module": "@jupyter-widgets/base",
            "_view_module_version": "1.2.0",
            "_view_name": "StyleView",
            "bar_color": null,
            "description_width": ""
          }
        },
        "b35d3428cd3d434591cb63b96a979553": {
          "model_module": "@jupyter-widgets/base",
          "model_name": "LayoutModel",
          "model_module_version": "1.2.0",
          "state": {
            "_model_module": "@jupyter-widgets/base",
            "_model_module_version": "1.2.0",
            "_model_name": "LayoutModel",
            "_view_count": null,
            "_view_module": "@jupyter-widgets/base",
            "_view_module_version": "1.2.0",
            "_view_name": "LayoutView",
            "align_content": null,
            "align_items": null,
            "align_self": null,
            "border": null,
            "bottom": null,
            "display": null,
            "flex": null,
            "flex_flow": null,
            "grid_area": null,
            "grid_auto_columns": null,
            "grid_auto_flow": null,
            "grid_auto_rows": null,
            "grid_column": null,
            "grid_gap": null,
            "grid_row": null,
            "grid_template_areas": null,
            "grid_template_columns": null,
            "grid_template_rows": null,
            "height": null,
            "justify_content": null,
            "justify_items": null,
            "left": null,
            "margin": null,
            "max_height": null,
            "max_width": null,
            "min_height": null,
            "min_width": null,
            "object_fit": null,
            "object_position": null,
            "order": null,
            "overflow": null,
            "overflow_x": null,
            "overflow_y": null,
            "padding": null,
            "right": null,
            "top": null,
            "visibility": null,
            "width": null
          }
        },
        "db27edcb99484d83a7caf53aac8a1390": {
          "model_module": "@jupyter-widgets/controls",
          "model_name": "DescriptionStyleModel",
          "model_module_version": "1.5.0",
          "state": {
            "_model_module": "@jupyter-widgets/controls",
            "_model_module_version": "1.5.0",
            "_model_name": "DescriptionStyleModel",
            "_view_count": null,
            "_view_module": "@jupyter-widgets/base",
            "_view_module_version": "1.2.0",
            "_view_name": "StyleView",
            "description_width": ""
          }
        },
        "2a99ce6c56154394b026319a08d12a18": {
          "model_module": "@jupyter-widgets/controls",
          "model_name": "HBoxModel",
          "model_module_version": "1.5.0",
          "state": {
            "_dom_classes": [],
            "_model_module": "@jupyter-widgets/controls",
            "_model_module_version": "1.5.0",
            "_model_name": "HBoxModel",
            "_view_count": null,
            "_view_module": "@jupyter-widgets/controls",
            "_view_module_version": "1.5.0",
            "_view_name": "HBoxView",
            "box_style": "",
            "children": [
              "IPY_MODEL_2cbea7d21de542879b336cb3bdcf97ff",
              "IPY_MODEL_e574e76d45754927abff75d64e2a9d63",
              "IPY_MODEL_b36f2e1df47a448c9149a90faa278c9c"
            ],
            "layout": "IPY_MODEL_fd5f20d634874eb4a2458462f0a9cb6a"
          }
        },
        "2cbea7d21de542879b336cb3bdcf97ff": {
          "model_module": "@jupyter-widgets/controls",
          "model_name": "HTMLModel",
          "model_module_version": "1.5.0",
          "state": {
            "_dom_classes": [],
            "_model_module": "@jupyter-widgets/controls",
            "_model_module_version": "1.5.0",
            "_model_name": "HTMLModel",
            "_view_count": null,
            "_view_module": "@jupyter-widgets/controls",
            "_view_module_version": "1.5.0",
            "_view_name": "HTMLView",
            "description": "",
            "description_tooltip": null,
            "layout": "IPY_MODEL_28b24f8419f44cf1aaa17cd4bb5eb702",
            "placeholder": "​",
            "style": "IPY_MODEL_cf42aca6549144939137545da38907f4",
            "value": "pytorch_model.bin: 100%"
          }
        },
        "e574e76d45754927abff75d64e2a9d63": {
          "model_module": "@jupyter-widgets/controls",
          "model_name": "FloatProgressModel",
          "model_module_version": "1.5.0",
          "state": {
            "_dom_classes": [],
            "_model_module": "@jupyter-widgets/controls",
            "_model_module_version": "1.5.0",
            "_model_name": "FloatProgressModel",
            "_view_count": null,
            "_view_module": "@jupyter-widgets/controls",
            "_view_module_version": "1.5.0",
            "_view_name": "ProgressView",
            "bar_style": "success",
            "description": "",
            "description_tooltip": null,
            "layout": "IPY_MODEL_3f38adb6224644ad859377df82cae0eb",
            "max": 848002819,
            "min": 0,
            "orientation": "horizontal",
            "style": "IPY_MODEL_e1a4eed01a9443d88428f07d4b18fa8e",
            "value": 848002819
          }
        },
        "b36f2e1df47a448c9149a90faa278c9c": {
          "model_module": "@jupyter-widgets/controls",
          "model_name": "HTMLModel",
          "model_module_version": "1.5.0",
          "state": {
            "_dom_classes": [],
            "_model_module": "@jupyter-widgets/controls",
            "_model_module_version": "1.5.0",
            "_model_name": "HTMLModel",
            "_view_count": null,
            "_view_module": "@jupyter-widgets/controls",
            "_view_module_version": "1.5.0",
            "_view_name": "HTMLView",
            "description": "",
            "description_tooltip": null,
            "layout": "IPY_MODEL_8d03fbb1f4854701bbf9edbcc98c9ecd",
            "placeholder": "​",
            "style": "IPY_MODEL_91deab5812384a71901d41de82908927",
            "value": " 848M/848M [00:07&lt;00:00, 136MB/s]"
          }
        },
        "fd5f20d634874eb4a2458462f0a9cb6a": {
          "model_module": "@jupyter-widgets/base",
          "model_name": "LayoutModel",
          "model_module_version": "1.2.0",
          "state": {
            "_model_module": "@jupyter-widgets/base",
            "_model_module_version": "1.2.0",
            "_model_name": "LayoutModel",
            "_view_count": null,
            "_view_module": "@jupyter-widgets/base",
            "_view_module_version": "1.2.0",
            "_view_name": "LayoutView",
            "align_content": null,
            "align_items": null,
            "align_self": null,
            "border": null,
            "bottom": null,
            "display": null,
            "flex": null,
            "flex_flow": null,
            "grid_area": null,
            "grid_auto_columns": null,
            "grid_auto_flow": null,
            "grid_auto_rows": null,
            "grid_column": null,
            "grid_gap": null,
            "grid_row": null,
            "grid_template_areas": null,
            "grid_template_columns": null,
            "grid_template_rows": null,
            "height": null,
            "justify_content": null,
            "justify_items": null,
            "left": null,
            "margin": null,
            "max_height": null,
            "max_width": null,
            "min_height": null,
            "min_width": null,
            "object_fit": null,
            "object_position": null,
            "order": null,
            "overflow": null,
            "overflow_x": null,
            "overflow_y": null,
            "padding": null,
            "right": null,
            "top": null,
            "visibility": null,
            "width": null
          }
        },
        "28b24f8419f44cf1aaa17cd4bb5eb702": {
          "model_module": "@jupyter-widgets/base",
          "model_name": "LayoutModel",
          "model_module_version": "1.2.0",
          "state": {
            "_model_module": "@jupyter-widgets/base",
            "_model_module_version": "1.2.0",
            "_model_name": "LayoutModel",
            "_view_count": null,
            "_view_module": "@jupyter-widgets/base",
            "_view_module_version": "1.2.0",
            "_view_name": "LayoutView",
            "align_content": null,
            "align_items": null,
            "align_self": null,
            "border": null,
            "bottom": null,
            "display": null,
            "flex": null,
            "flex_flow": null,
            "grid_area": null,
            "grid_auto_columns": null,
            "grid_auto_flow": null,
            "grid_auto_rows": null,
            "grid_column": null,
            "grid_gap": null,
            "grid_row": null,
            "grid_template_areas": null,
            "grid_template_columns": null,
            "grid_template_rows": null,
            "height": null,
            "justify_content": null,
            "justify_items": null,
            "left": null,
            "margin": null,
            "max_height": null,
            "max_width": null,
            "min_height": null,
            "min_width": null,
            "object_fit": null,
            "object_position": null,
            "order": null,
            "overflow": null,
            "overflow_x": null,
            "overflow_y": null,
            "padding": null,
            "right": null,
            "top": null,
            "visibility": null,
            "width": null
          }
        },
        "cf42aca6549144939137545da38907f4": {
          "model_module": "@jupyter-widgets/controls",
          "model_name": "DescriptionStyleModel",
          "model_module_version": "1.5.0",
          "state": {
            "_model_module": "@jupyter-widgets/controls",
            "_model_module_version": "1.5.0",
            "_model_name": "DescriptionStyleModel",
            "_view_count": null,
            "_view_module": "@jupyter-widgets/base",
            "_view_module_version": "1.2.0",
            "_view_name": "StyleView",
            "description_width": ""
          }
        },
        "3f38adb6224644ad859377df82cae0eb": {
          "model_module": "@jupyter-widgets/base",
          "model_name": "LayoutModel",
          "model_module_version": "1.2.0",
          "state": {
            "_model_module": "@jupyter-widgets/base",
            "_model_module_version": "1.2.0",
            "_model_name": "LayoutModel",
            "_view_count": null,
            "_view_module": "@jupyter-widgets/base",
            "_view_module_version": "1.2.0",
            "_view_name": "LayoutView",
            "align_content": null,
            "align_items": null,
            "align_self": null,
            "border": null,
            "bottom": null,
            "display": null,
            "flex": null,
            "flex_flow": null,
            "grid_area": null,
            "grid_auto_columns": null,
            "grid_auto_flow": null,
            "grid_auto_rows": null,
            "grid_column": null,
            "grid_gap": null,
            "grid_row": null,
            "grid_template_areas": null,
            "grid_template_columns": null,
            "grid_template_rows": null,
            "height": null,
            "justify_content": null,
            "justify_items": null,
            "left": null,
            "margin": null,
            "max_height": null,
            "max_width": null,
            "min_height": null,
            "min_width": null,
            "object_fit": null,
            "object_position": null,
            "order": null,
            "overflow": null,
            "overflow_x": null,
            "overflow_y": null,
            "padding": null,
            "right": null,
            "top": null,
            "visibility": null,
            "width": null
          }
        },
        "e1a4eed01a9443d88428f07d4b18fa8e": {
          "model_module": "@jupyter-widgets/controls",
          "model_name": "ProgressStyleModel",
          "model_module_version": "1.5.0",
          "state": {
            "_model_module": "@jupyter-widgets/controls",
            "_model_module_version": "1.5.0",
            "_model_name": "ProgressStyleModel",
            "_view_count": null,
            "_view_module": "@jupyter-widgets/base",
            "_view_module_version": "1.2.0",
            "_view_name": "StyleView",
            "bar_color": null,
            "description_width": ""
          }
        },
        "8d03fbb1f4854701bbf9edbcc98c9ecd": {
          "model_module": "@jupyter-widgets/base",
          "model_name": "LayoutModel",
          "model_module_version": "1.2.0",
          "state": {
            "_model_module": "@jupyter-widgets/base",
            "_model_module_version": "1.2.0",
            "_model_name": "LayoutModel",
            "_view_count": null,
            "_view_module": "@jupyter-widgets/base",
            "_view_module_version": "1.2.0",
            "_view_name": "LayoutView",
            "align_content": null,
            "align_items": null,
            "align_self": null,
            "border": null,
            "bottom": null,
            "display": null,
            "flex": null,
            "flex_flow": null,
            "grid_area": null,
            "grid_auto_columns": null,
            "grid_auto_flow": null,
            "grid_auto_rows": null,
            "grid_column": null,
            "grid_gap": null,
            "grid_row": null,
            "grid_template_areas": null,
            "grid_template_columns": null,
            "grid_template_rows": null,
            "height": null,
            "justify_content": null,
            "justify_items": null,
            "left": null,
            "margin": null,
            "max_height": null,
            "max_width": null,
            "min_height": null,
            "min_width": null,
            "object_fit": null,
            "object_position": null,
            "order": null,
            "overflow": null,
            "overflow_x": null,
            "overflow_y": null,
            "padding": null,
            "right": null,
            "top": null,
            "visibility": null,
            "width": null
          }
        },
        "91deab5812384a71901d41de82908927": {
          "model_module": "@jupyter-widgets/controls",
          "model_name": "DescriptionStyleModel",
          "model_module_version": "1.5.0",
          "state": {
            "_model_module": "@jupyter-widgets/controls",
            "_model_module_version": "1.5.0",
            "_model_name": "DescriptionStyleModel",
            "_view_count": null,
            "_view_module": "@jupyter-widgets/base",
            "_view_module_version": "1.2.0",
            "_view_name": "StyleView",
            "description_width": ""
          }
        }
      }
    }
  },
  "nbformat": 4,
  "nbformat_minor": 0
}